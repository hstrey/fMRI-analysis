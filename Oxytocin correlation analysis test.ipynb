{
 "cells": [
  {
   "cell_type": "code",
   "execution_count": 1,
   "metadata": {},
   "outputs": [
    {
     "name": "stdout",
     "output_type": "stream",
     "text": [
      "['Solarize_Light2', '_classic_test_patch', 'bmh', 'classic', 'dark_background', 'fast', 'fivethirtyeight', 'ggplot', 'grayscale', 'seaborn', 'seaborn-bright', 'seaborn-colorblind', 'seaborn-dark', 'seaborn-dark-palette', 'seaborn-darkgrid', 'seaborn-deep', 'seaborn-muted', 'seaborn-notebook', 'seaborn-paper', 'seaborn-pastel', 'seaborn-poster', 'seaborn-talk', 'seaborn-ticks', 'seaborn-white', 'seaborn-whitegrid', 'tableau-colorblind10']\n"
     ]
    }
   ],
   "source": [
    "import numpy as np\n",
    "import os\n",
    "import csv\n",
    "import pandas as pd\n",
    "import matplotlib.pyplot as plt\n",
    "from scipy.stats import pearsonr\n",
    "import multiprocessing as mp\n",
    "from oucorr import calcCorr\n",
    "import itertools\n",
    "\n",
    "\n",
    "SMALL_SIZE = 16\n",
    "MEDIUM_SIZE = 18\n",
    "BIGGER_SIZE = 20\n",
    "\n",
    "plt.rc('font', size=SMALL_SIZE)          # controls default text sizes\n",
    "plt.rc('axes', titlesize=SMALL_SIZE)     # fontsize of the axes title\n",
    "plt.rc('axes', labelsize=MEDIUM_SIZE)    # fontsize of the x and y labels\n",
    "plt.rc('xtick', labelsize=SMALL_SIZE)    # fontsize of the tick labels\n",
    "plt.rc('ytick', labelsize=SMALL_SIZE)    # fontsize of the tick labels\n",
    "plt.rc('legend', fontsize=SMALL_SIZE)    # legend fontsize\n",
    "plt.rc('figure', titlesize=BIGGER_SIZE)  # fontsize of the figure title\n",
    "\n",
    "SEED = 350107321 # from random.org\n",
    "np.random.seed(SEED)\n",
    "\n",
    "print(plt.style.available)\n",
    "plt.style.use('seaborn-white')"
   ]
  },
  {
   "cell_type": "code",
   "execution_count": 2,
   "metadata": {},
   "outputs": [
    {
     "data": {
      "text/plain": [
       "(720, 498)"
      ]
     },
     "execution_count": 2,
     "metadata": {},
     "output_type": "execute_result"
    }
   ],
   "source": [
    "roi_time_series = pd.read_csv(\"sub-021_ses-bhb_task-rest_run-1.csv\",header=None, index_col=False)\n",
    "\n",
    "    # Convert into numpy array\n",
    "roi_time_series = np.array(roi_time_series)\n",
    "roi_time_series.shape"
   ]
  },
  {
   "cell_type": "code",
   "execution_count": 3,
   "metadata": {},
   "outputs": [],
   "source": [
    "# 720 = 24x30 so splitting it up into chuncks of 30 is a good idea\n",
    "WINDOW_LENGTH = 30\n",
    "REGIONS = 498\n",
    "num = int((roi_time_series.shape[0] - 1 - \\\n",
    "               (roi_time_series.shape[0] - 1) % WINDOW_LENGTH) /\n",
    "              WINDOW_LENGTH)\n",
    "indicies = np.linspace(WINDOW_LENGTH, num*WINDOW_LENGTH, num).astype(int)\n",
    "\n",
    "windows = np.split(roi_time_series, indicies, axis=0)"
   ]
  },
  {
   "cell_type": "code",
   "execution_count": 4,
   "metadata": {},
   "outputs": [
    {
     "data": {
      "text/plain": [
       "(30, 498)"
      ]
     },
     "execution_count": 4,
     "metadata": {},
     "output_type": "execute_result"
    }
   ],
   "source": [
    "windows[0].shape"
   ]
  },
  {
   "cell_type": "code",
   "execution_count": 5,
   "metadata": {},
   "outputs": [
    {
     "name": "stderr",
     "output_type": "stream",
     "text": [
      "/Users/hstrey/Documents/programming/fMRI-analysis/oucorr.py:29: RuntimeWarning: invalid value encountered in true_divide\n",
      "  return ((3.0 * c / a) - ((b ** 2.0) / (a ** 2.0))) / 3.0\n",
      "/Users/hstrey/Documents/programming/fMRI-analysis/oucorr.py:34: RuntimeWarning: invalid value encountered in true_divide\n",
      "  return (((2.0 * (b ** 3.0)) / (a ** 3.0)) - ((9.0 * b * c) / (a **2.0)) + (27.0 * d / a)) /27.0\n",
      "/Users/hstrey/Documents/programming/fMRI-analysis/oucorr.py:20: RuntimeWarning: invalid value encountered in true_divide\n",
      "  P = (b / (3.0 * a)) * -1                # Helper Temporary Variable\n",
      "/Users/hstrey/Documents/programming/fMRI-analysis/oucorr.py:22: RuntimeWarning: invalid value encountered in true_divide\n",
      "  x1 = 2 * j * np.cos(k / 3.0) - (b / (3.0 * a))\n"
     ]
    }
   ],
   "source": [
    "C,dC,B1 = calcCorr(windows,WINDOW_LENGTH,REGIONS)"
   ]
  },
  {
   "cell_type": "code",
   "execution_count": 6,
   "metadata": {},
   "outputs": [
    {
     "data": {
      "text/plain": [
       "array([[  1.        ,  -1.58542928,   1.87447183, ...,   4.05409717,\n",
       "          2.31976218,   0.88293619],\n",
       "       [ -1.58542928,   1.        , -16.89688348, ...,  -2.4310583 ,\n",
       "         -4.54571756,  -9.76774106],\n",
       "       [  1.87447183, -16.89688348,   1.        , ...,   6.06607665,\n",
       "         20.37429626,  12.91161931],\n",
       "       ...,\n",
       "       [  4.05409717,  -2.4310583 ,   6.06607665, ...,   1.        ,\n",
       "          6.5939766 ,   1.47102682],\n",
       "       [  2.31976218,  -4.54571756,  20.37429626, ...,   6.5939766 ,\n",
       "          1.        ,   4.20298531],\n",
       "       [  0.88293619,  -9.76774106,  12.91161931, ...,   1.47102682,\n",
       "          4.20298531,   1.        ]])"
      ]
     },
     "execution_count": 6,
     "metadata": {},
     "output_type": "execute_result"
    }
   ],
   "source": [
    "C[0]"
   ]
  },
  {
   "cell_type": "code",
   "execution_count": 7,
   "metadata": {},
   "outputs": [
    {
     "data": {
      "text/plain": [
       "array([[ 0.        ,  3.00790293,  2.42693685, ...,  5.24666676,\n",
       "         2.60125193,  1.59845866],\n",
       "       [ 3.00790293,  0.        , 21.89639434, ...,  4.96359135,\n",
       "         6.52193515, 10.78727376],\n",
       "       [ 2.42693685, 21.89639434,  0.        , ...,  5.92966089,\n",
       "        15.65464668, 13.58369068],\n",
       "       ...,\n",
       "       [ 5.24666676,  4.96359135,  5.92966089, ...,  0.        ,\n",
       "         5.47624359,  2.39665534],\n",
       "       [ 2.60125193,  6.52193515, 15.65464668, ...,  5.47624359,\n",
       "         0.        ,  4.66428864],\n",
       "       [ 1.59845866, 10.78727376, 13.58369068, ...,  2.39665534,\n",
       "         4.66428864,  0.        ]])"
      ]
     },
     "execution_count": 7,
     "metadata": {},
     "output_type": "execute_result"
    }
   ],
   "source": [
    "dC[0]"
   ]
  },
  {
   "cell_type": "code",
   "execution_count": 8,
   "metadata": {},
   "outputs": [
    {
     "data": {
      "text/plain": [
       "array([[0.97152868, 0.95703125, 0.96033793, ..., 0.97357296, 0.96225001,\n",
       "        0.94030259],\n",
       "       [0.95703125, 0.94790802, 0.92336116, ..., 0.98210299, 0.91820517,\n",
       "        0.91398892],\n",
       "       [0.96033793, 0.92336116, 0.95190829, ..., 0.96274148, 0.94895727,\n",
       "        0.94259002],\n",
       "       ...,\n",
       "       [0.97357296, 0.98210299, 0.96274148, ..., 0.97242189, 0.96519965,\n",
       "        0.94717637],\n",
       "       [0.96225001, 0.91820517, 0.94895727, ..., 0.96519965, 0.94272278,\n",
       "        0.93836688],\n",
       "       [0.94030259, 0.91398892, 0.94259002, ..., 0.94717637, 0.93836688,\n",
       "        0.9367229 ]])"
      ]
     },
     "execution_count": 8,
     "metadata": {},
     "output_type": "execute_result"
    }
   ],
   "source": [
    "B1[0]"
   ]
  },
  {
   "cell_type": "code",
   "execution_count": 29,
   "metadata": {},
   "outputs": [
    {
     "name": "stdout",
     "output_type": "stream",
     "text": [
      "498.0\n"
     ]
    }
   ],
   "source": [
    "corrlength = len(C)\n",
    "ids = np.arange(498)\n",
    "subnet = np.array(list(itertools.product(ids, ids))).T\n",
    "subnet_norm = np.sqrt(len(subnet.T))\n",
    "print(subnet_norm)"
   ]
  },
  {
   "cell_type": "code",
   "execution_count": 41,
   "metadata": {},
   "outputs": [],
   "source": [
    "instabilities_all = []\n",
    "for tau in range(1,corrlength):\n",
    "    diffs = np.array([C[i]-C[i+tau] for i in range(corrlength - tau)])\n",
    "    inst = np.linalg.norm(diffs[:,subnet[0],subnet[1]], axis=1)/np.sqrt(subnet_norm*(subnet_norm-1))\n",
    "    instabilities_all.append(inst)\n"
   ]
  },
  {
   "cell_type": "code",
   "execution_count": 42,
   "metadata": {},
   "outputs": [
    {
     "data": {
      "text/plain": [
       "[array([6.58871155, 7.05295386, 6.89048492, 6.95825798, 6.57540868,\n",
       "        6.68463258, 7.54219778, 7.20375337, 7.16055361, 8.37616029,\n",
       "        8.91968986, 9.32297624, 6.45430705, 7.01627033, 6.81784926,\n",
       "        6.53294159, 5.96847335, 5.92764957, 4.9959923 , 5.5653282 ,\n",
       "        8.39800289, 9.05095518, 8.85526153]),\n",
       " array([ 7.63994187,  7.94301127,  7.60286319,  7.99351921,  7.27551336,\n",
       "         8.31814432,  7.79254375,  8.68170043,  8.47687159, 11.11404742,\n",
       "         8.00322413, 10.34922089,  7.24522936,  7.49024259,  7.9663193 ,\n",
       "         7.45213728,  6.39381508,  6.44027757,  6.01565337,  8.31912206,\n",
       "         8.64559962,  8.98968602]),\n",
       " array([ 7.60392746,  7.84209909,  7.96282854,  7.83547925,  8.06802413,\n",
       "         7.9724893 ,  8.37700397,  8.93481283, 10.60516564,  8.33439839,\n",
       "         8.61150062, 10.4795303 ,  7.16666533,  7.42202787,  7.87081122,\n",
       "         6.93125955,  6.45497981,  6.91903825,  8.29235325,  8.56649123,\n",
       "         7.85975333]),\n",
       " array([ 7.40230458,  7.97153082,  7.87050545,  8.34829885,  7.92956404,\n",
       "         8.61090395,  8.26248737, 10.88848159,  7.57209289,  8.8685702 ,\n",
       "         9.04317042, 10.18742758,  6.9278907 ,  7.54372221,  7.30855802,\n",
       "         7.01602108,  6.91954436,  8.5968898 ,  8.34875277,  7.45928366]),\n",
       " array([ 7.4917586 ,  7.7391346 ,  8.42439848,  8.25154263,  8.72283217,\n",
       "         8.22083523, 10.19449029,  7.87222882,  8.16644859,  9.473567  ,\n",
       "         8.58580969, 10.04014962,  7.05173558,  6.71046912,  7.40515703,\n",
       "         6.86689101,  8.75137621,  8.85929965,  7.41524671]),\n",
       " array([ 7.32301926,  8.30369653,  8.31347526,  8.92764854,  7.9925329 ,\n",
       "        10.06091136,  7.1678517 ,  8.42787942,  8.60765236,  8.95765017,\n",
       "         8.30666498, 10.14318568,  6.1608899 ,  6.963221  ,  7.19985865,\n",
       "         9.21493995,  8.9841644 ,  7.7468764 ]),\n",
       " array([8.02661715, 8.06648899, 9.07009572, 8.68618681, 9.70566995,\n",
       "        7.12327056, 7.63726628, 9.01491875, 8.05783237, 8.25102349,\n",
       "        8.39132633, 9.6083054 , 6.36534781, 7.33336389, 9.4845016 ,\n",
       "        9.2066735 , 7.84611849]),\n",
       " array([ 7.53878657,  8.67851901,  8.93888135, 10.25172756,  6.57298629,\n",
       "         7.43874   ,  8.10105747,  8.61627087,  7.5539333 ,  8.10630478,\n",
       "         7.94376972,  9.71253731,  6.69109037,  9.21609524,  9.28655595,\n",
       "         8.3014313 ]),\n",
       " array([ 8.17176608,  8.91230721, 10.52821808,  6.9509797 ,  7.1826671 ,\n",
       "         7.81755458,  7.85530467,  8.07905921,  7.51084132,  8.01527193,\n",
       "         7.89857027,  9.85539914,  8.76205313,  8.89113078,  8.611099  ]),\n",
       " array([ 8.33295373, 10.48688151,  7.33989842,  7.99102578,  7.60181061,\n",
       "         7.62742162,  7.34896035,  7.88537919,  6.98007923,  7.91126109,\n",
       "         8.23609226, 11.55368337,  8.81422282,  8.42183248]),\n",
       " array([10.02543702,  7.50369855,  8.07192003,  8.35022549,  7.50605182,\n",
       "         7.48294984,  7.09578376,  7.20121922,  7.04337968,  8.39591828,\n",
       "         9.79866587, 11.54867943,  7.88023433]),\n",
       " array([ 6.94957331,  8.18339634,  8.4199887 ,  8.23987893,  7.37986516,\n",
       "         7.54714518,  6.4067106 ,  7.36703594,  7.39888017,  9.48147905,\n",
       "         9.85519382, 10.86035675]),\n",
       " array([7.64515416, 8.69951056, 8.24676408, 7.64562902, 7.40629613,\n",
       "        6.780081  , 6.72264873, 7.76894133, 9.25404425, 9.99406985,\n",
       "        9.24420414]),\n",
       " array([8.17049114, 8.18929027, 7.7578992 , 7.61177323, 6.53247191,\n",
       "        7.04150238, 7.09471353, 9.53460684, 9.47933797, 9.00060802]),\n",
       " array([7.53774022, 7.48552546, 7.69139525, 6.97660023, 6.68066576,\n",
       "        7.23542528, 8.67833604, 9.70703449, 8.33311366]),\n",
       " array([6.72884037, 7.41400627, 7.00676306, 6.91419138, 7.06519454,\n",
       "        9.02555641, 8.87187748, 8.82890693]),\n",
       " array([6.89851234, 6.90115298, 7.14336186, 7.49601908, 9.11199575,\n",
       "        8.96740048, 8.15779993]),\n",
       " array([6.31843787, 7.02326387, 7.52889188, 9.21805656, 8.84940725,\n",
       "        8.30749405]),\n",
       " array([6.42462185, 7.45870075, 9.41163091, 9.27637115, 8.3489631 ]),\n",
       " array([6.8837899 , 8.98290117, 9.51515321, 8.49010598]),\n",
       " array([8.65600433, 9.44354926, 8.59177684]),\n",
       " array([9.04673462, 8.41081845]),\n",
       " array([8.03871198])]"
      ]
     },
     "execution_count": 42,
     "metadata": {},
     "output_type": "execute_result"
    }
   ],
   "source": [
    "instabilities_all"
   ]
  },
  {
   "cell_type": "code",
   "execution_count": 32,
   "metadata": {},
   "outputs": [],
   "source": [
    "inst_avg = [np.mean(inst) for inst in instabilities_all]\n",
    "inst_std = [np.std(inst) for inst in instabilities_all]"
   ]
  },
  {
   "cell_type": "code",
   "execution_count": 37,
   "metadata": {},
   "outputs": [
    {
     "data": {
      "text/plain": [
       "<ErrorbarContainer object of 3 artists>"
      ]
     },
     "execution_count": 37,
     "metadata": {},
     "output_type": "execute_result"
    },
    {
     "data": {
      "image/png": "[encoded data removed]",
      "text/plain": [
       "<Figure size 432x288 with 1 Axes>"
      ]
     },
     "metadata": {},
     "output_type": "display_data"
    }
   ],
   "source": [
    "plt.errorbar(np.arange(23),y=inst_avg,yerr=inst_std)"
   ]
  },
  {
   "cell_type": "code",
   "execution_count": null,
   "metadata": {},
   "outputs": [],
   "source": []
  }
 ],
 "metadata": {
  "kernelspec": {
   "display_name": "Python 3",
   "language": "python",
   "name": "python3"
  },
  "language_info": {
   "codemirror_mode": {
    "name": "ipython",
    "version": 3
   },
   "file_extension": ".py",
   "mimetype": "text/x-python",
   "name": "python",
   "nbconvert_exporter": "python",
   "pygments_lexer": "ipython3",
   "version": "3.7.9"
  }
 },
 "nbformat": 4,
 "nbformat_minor": 4
}
