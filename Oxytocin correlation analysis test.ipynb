{
 "cells": [
  {
   "cell_type": "code",
   "execution_count": 1,
   "metadata": {},
   "outputs": [
    {
     "name": "stdout",
     "output_type": "stream",
     "text": [
      "['Solarize_Light2', '_classic_test_patch', 'bmh', 'classic', 'dark_background', 'fast', 'fivethirtyeight', 'ggplot', 'grayscale', 'seaborn', 'seaborn-bright', 'seaborn-colorblind', 'seaborn-dark', 'seaborn-dark-palette', 'seaborn-darkgrid', 'seaborn-deep', 'seaborn-muted', 'seaborn-notebook', 'seaborn-paper', 'seaborn-pastel', 'seaborn-poster', 'seaborn-talk', 'seaborn-ticks', 'seaborn-white', 'seaborn-whitegrid', 'tableau-colorblind10']\n"
     ]
    }
   ],
   "source": [
    "import numpy as np\n",
    "import os\n",
    "import csv\n",
    "import pandas as pd\n",
    "import matplotlib.pyplot as plt\n",
    "from scipy.stats import pearsonr\n",
    "import multiprocessing as mp\n",
    "from oucorr import calcCorr\n",
    "\n",
    "SMALL_SIZE = 16\n",
    "MEDIUM_SIZE = 18\n",
    "BIGGER_SIZE = 20\n",
    "\n",
    "plt.rc('font', size=SMALL_SIZE)          # controls default text sizes\n",
    "plt.rc('axes', titlesize=SMALL_SIZE)     # fontsize of the axes title\n",
    "plt.rc('axes', labelsize=MEDIUM_SIZE)    # fontsize of the x and y labels\n",
    "plt.rc('xtick', labelsize=SMALL_SIZE)    # fontsize of the tick labels\n",
    "plt.rc('ytick', labelsize=SMALL_SIZE)    # fontsize of the tick labels\n",
    "plt.rc('legend', fontsize=SMALL_SIZE)    # legend fontsize\n",
    "plt.rc('figure', titlesize=BIGGER_SIZE)  # fontsize of the figure title\n",
    "\n",
    "SEED = 350107321 # from random.org\n",
    "np.random.seed(SEED)\n",
    "\n",
    "print(plt.style.available)\n",
    "plt.style.use('seaborn-white')"
   ]
  },
  {
   "cell_type": "code",
   "execution_count": 2,
   "metadata": {},
   "outputs": [
    {
     "data": {
      "text/plain": [
       "(720, 498)"
      ]
     },
     "execution_count": 2,
     "metadata": {},
     "output_type": "execute_result"
    }
   ],
   "source": [
    "roi_time_series = pd.read_csv(\"sub-021_ses-bhb_task-rest_run-1.csv\",header=None, index_col=False)\n",
    "\n",
    "    # Convert into numpy array\n",
    "roi_time_series = np.array(roi_time_series)\n",
    "roi_time_series.shape"
   ]
  },
  {
   "cell_type": "code",
   "execution_count": 3,
   "metadata": {},
   "outputs": [],
   "source": [
    "# 720 = 24x30 so splitting it up into chuncks of 30 is a good idea\n",
    "WINDOW_LENGTH = 30\n",
    "REGIONS = 498\n",
    "num = int((roi_time_series.shape[0] - 1 - \\\n",
    "               (roi_time_series.shape[0] - 1) % WINDOW_LENGTH) /\n",
    "              WINDOW_LENGTH)\n",
    "indicies = np.linspace(WINDOW_LENGTH, num*WINDOW_LENGTH, num).astype(int)\n",
    "\n",
    "windows = np.split(roi_time_series, indicies, axis=0)"
   ]
  },
  {
   "cell_type": "code",
   "execution_count": 4,
   "metadata": {},
   "outputs": [
    {
     "data": {
      "text/plain": [
       "(30, 498)"
      ]
     },
     "execution_count": 4,
     "metadata": {},
     "output_type": "execute_result"
    }
   ],
   "source": [
    "windows[0].shape"
   ]
  },
  {
   "cell_type": "code",
   "execution_count": 5,
   "metadata": {},
   "outputs": [
    {
     "name": "stderr",
     "output_type": "stream",
     "text": [
      "/Users/hstrey/Documents/programming/fMRI-analysis/oucorr.py:29: RuntimeWarning: invalid value encountered in true_divide\n",
      "  return ((3.0 * c / a) - ((b ** 2.0) / (a ** 2.0))) / 3.0\n",
      "/Users/hstrey/Documents/programming/fMRI-analysis/oucorr.py:34: RuntimeWarning: invalid value encountered in true_divide\n",
      "  return (((2.0 * (b ** 3.0)) / (a ** 3.0)) - ((9.0 * b * c) / (a **2.0)) + (27.0 * d / a)) /27.0\n",
      "/Users/hstrey/Documents/programming/fMRI-analysis/oucorr.py:20: RuntimeWarning: invalid value encountered in true_divide\n",
      "  P = (b / (3.0 * a)) * -1                # Helper Temporary Variable\n",
      "/Users/hstrey/Documents/programming/fMRI-analysis/oucorr.py:22: RuntimeWarning: invalid value encountered in true_divide\n",
      "  x1 = 2 * j * np.cos(k / 3.0) - (b / (3.0 * a))\n"
     ]
    }
   ],
   "source": [
    "C,dC,B1 = calcCorr(windows,WINDOW_LENGTH,REGIONS)"
   ]
  },
  {
   "cell_type": "code",
   "execution_count": 6,
   "metadata": {},
   "outputs": [
    {
     "data": {
      "text/plain": [
       "array([[         nan,  -1.58542928,   1.87447183, ...,   4.05409717,\n",
       "          2.31976218,   0.88293619],\n",
       "       [ -1.58542928,          nan, -16.89688348, ...,  -2.4310583 ,\n",
       "         -4.54571756,  -9.76774106],\n",
       "       [  1.87447183, -16.89688348,          nan, ...,   6.06607665,\n",
       "         20.37429626,  12.91161931],\n",
       "       ...,\n",
       "       [  4.05409717,  -2.4310583 ,   6.06607665, ...,          nan,\n",
       "          6.5939766 ,   1.47102682],\n",
       "       [  2.31976218,  -4.54571756,  20.37429626, ...,   6.5939766 ,\n",
       "                 nan,   4.20298531],\n",
       "       [  0.88293619,  -9.76774106,  12.91161931, ...,   1.47102682,\n",
       "          4.20298531,          nan]])"
      ]
     },
     "execution_count": 6,
     "metadata": {},
     "output_type": "execute_result"
    }
   ],
   "source": [
    "C[0]"
   ]
  },
  {
   "cell_type": "code",
   "execution_count": 7,
   "metadata": {},
   "outputs": [
    {
     "data": {
      "text/plain": [
       "array([[        nan,  3.00790293,  2.42693685, ...,  5.24666676,\n",
       "         2.60125193,  1.59845866],\n",
       "       [ 3.00790293,         nan, 21.89639434, ...,  4.96359135,\n",
       "         6.52193515, 10.78727376],\n",
       "       [ 2.42693685, 21.89639434,         nan, ...,  5.92966089,\n",
       "        15.65464668, 13.58369068],\n",
       "       ...,\n",
       "       [ 5.24666676,  4.96359135,  5.92966089, ...,         nan,\n",
       "         5.47624359,  2.39665534],\n",
       "       [ 2.60125193,  6.52193515, 15.65464668, ...,  5.47624359,\n",
       "                nan,  4.66428864],\n",
       "       [ 1.59845866, 10.78727376, 13.58369068, ...,  2.39665534,\n",
       "         4.66428864,         nan]])"
      ]
     },
     "execution_count": 7,
     "metadata": {},
     "output_type": "execute_result"
    }
   ],
   "source": [
    "dC[0]"
   ]
  },
  {
   "cell_type": "code",
   "execution_count": 8,
   "metadata": {},
   "outputs": [
    {
     "data": {
      "text/plain": [
       "array([[0.97152868, 0.95703125, 0.96033793, ..., 0.97357296, 0.96225001,\n",
       "        0.94030259],\n",
       "       [0.95703125, 0.94790802, 0.92336116, ..., 0.98210299, 0.91820517,\n",
       "        0.91398892],\n",
       "       [0.96033793, 0.92336116, 0.95190829, ..., 0.96274148, 0.94895727,\n",
       "        0.94259002],\n",
       "       ...,\n",
       "       [0.97357296, 0.98210299, 0.96274148, ..., 0.97242189, 0.96519965,\n",
       "        0.94717637],\n",
       "       [0.96225001, 0.91820517, 0.94895727, ..., 0.96519965, 0.94272278,\n",
       "        0.93836688],\n",
       "       [0.94030259, 0.91398892, 0.94259002, ..., 0.94717637, 0.93836688,\n",
       "        0.9367229 ]])"
      ]
     },
     "execution_count": 8,
     "metadata": {},
     "output_type": "execute_result"
    }
   ],
   "source": [
    "B1[0]"
   ]
  },
  {
   "cell_type": "code",
   "execution_count": null,
   "metadata": {},
   "outputs": [],
   "source": []
  }
 ],
 "metadata": {
  "kernelspec": {
   "display_name": "Python 3",
   "language": "python",
   "name": "python3"
  },
  "language_info": {
   "codemirror_mode": {
    "name": "ipython",
    "version": 3
   },
   "file_extension": ".py",
   "mimetype": "text/x-python",
   "name": "python",
   "nbconvert_exporter": "python",
   "pygments_lexer": "ipython3",
   "version": "3.7.9"
  }
 },
 "nbformat": 4,
 "nbformat_minor": 4
}
