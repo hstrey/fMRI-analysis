{
 "cells": [
  {
   "cell_type": "code",
   "execution_count": 23,
   "metadata": {},
   "outputs": [
    {
     "name": "stdout",
     "output_type": "stream",
     "text": [
      "['Solarize_Light2', '_classic_test_patch', 'bmh', 'classic', 'dark_background', 'fast', 'fivethirtyeight', 'ggplot', 'grayscale', 'seaborn', 'seaborn-bright', 'seaborn-colorblind', 'seaborn-dark', 'seaborn-dark-palette', 'seaborn-darkgrid', 'seaborn-deep', 'seaborn-muted', 'seaborn-notebook', 'seaborn-paper', 'seaborn-pastel', 'seaborn-poster', 'seaborn-talk', 'seaborn-ticks', 'seaborn-white', 'seaborn-whitegrid', 'tableau-colorblind10']\n"
     ]
    }
   ],
   "source": [
    "import numpy as np\n",
    "import os\n",
    "import csv\n",
    "import pandas as pd\n",
    "import matplotlib.pyplot as plt\n",
    "from scipy.stats import pearsonr\n",
    "import multiprocessing as mp\n",
    "from oucorr import calcCorr\n",
    "import itertools\n",
    "import glob\n",
    "\n",
    "\n",
    "SMALL_SIZE = 16\n",
    "MEDIUM_SIZE = 18\n",
    "BIGGER_SIZE = 20\n",
    "\n",
    "plt.rc('font', size=SMALL_SIZE)          # controls default text sizes\n",
    "plt.rc('axes', titlesize=SMALL_SIZE)     # fontsize of the axes title\n",
    "plt.rc('axes', labelsize=MEDIUM_SIZE)    # fontsize of the x and y labels\n",
    "plt.rc('xtick', labelsize=SMALL_SIZE)    # fontsize of the tick labels\n",
    "plt.rc('ytick', labelsize=SMALL_SIZE)    # fontsize of the tick labels\n",
    "plt.rc('legend', fontsize=SMALL_SIZE)    # legend fontsize\n",
    "plt.rc('figure', titlesize=BIGGER_SIZE)  # fontsize of the figure title\n",
    "\n",
    "SEED = 350107321 # from random.org\n",
    "np.random.seed(SEED)\n",
    "\n",
    "print(plt.style.available)\n",
    "plt.style.use('seaborn-white')"
   ]
  },
  {
   "cell_type": "code",
   "execution_count": 2,
   "metadata": {},
   "outputs": [
    {
     "data": {
      "text/plain": [
       "(720, 498)"
      ]
     },
     "execution_count": 2,
     "metadata": {},
     "output_type": "execute_result"
    }
   ],
   "source": [
    "roi_time_series = pd.read_csv(\"sub-021_ses-bhb_task-rest_run-1.csv\",header=None, index_col=False)\n",
    "\n",
    "    # Convert into numpy array\n",
    "roi_time_series = np.array(roi_time_series)\n",
    "roi_time_series.shape"
   ]
  },
  {
   "cell_type": "code",
   "execution_count": 3,
   "metadata": {},
   "outputs": [],
   "source": [
    "# 720 = 24x30 so splitting it up into chuncks of 30 is a good idea\n",
    "WINDOW_LENGTH = 30\n",
    "REGIONS = 498\n",
    "num = int((roi_time_series.shape[0] - 1 - \\\n",
    "               (roi_time_series.shape[0] - 1) % WINDOW_LENGTH) /\n",
    "              WINDOW_LENGTH)\n",
    "indicies = np.linspace(WINDOW_LENGTH, num*WINDOW_LENGTH, num).astype(int)\n",
    "\n",
    "windows = np.array(np.split(roi_time_series, indicies, axis=0))"
   ]
  },
  {
   "cell_type": "code",
   "execution_count": 4,
   "metadata": {},
   "outputs": [
    {
     "data": {
      "text/plain": [
       "(24, 30, 498)"
      ]
     },
     "execution_count": 4,
     "metadata": {},
     "output_type": "execute_result"
    }
   ],
   "source": [
    "windows.shape"
   ]
  },
  {
   "cell_type": "code",
   "execution_count": 13,
   "metadata": {},
   "outputs": [
    {
     "name": "stdout",
     "output_type": "stream",
     "text": [
      "(24, 498)\n",
      "(24, 30, 498)\n"
     ]
    },
    {
     "data": {
      "text/plain": [
       "array([[1., 1., 1., ..., 1., 1., 1.],\n",
       "       [1., 1., 1., ..., 1., 1., 1.],\n",
       "       [1., 1., 1., ..., 1., 1., 1.],\n",
       "       ...,\n",
       "       [1., 1., 1., ..., 1., 1., 1.],\n",
       "       [1., 1., 1., ..., 1., 1., 1.],\n",
       "       [1., 1., 1., ..., 1., 1., 1.]])"
      ]
     },
     "execution_count": 13,
     "metadata": {},
     "output_type": "execute_result"
    }
   ],
   "source": [
    "# normalize all datasets (mean=0 and std=1)\n",
    "windows_mean = np.mean(windows,axis=1)\n",
    "windows_std = np.std(windows,axis=1)\n",
    "print(windows_mean.shape)\n",
    "windows_norm = (windows-windows_mean[:,np.newaxis,:])/windows_std[:,np.newaxis,:]\n",
    "print(windows_norm.shape)"
   ]
  },
  {
   "cell_type": "code",
   "execution_count": 14,
   "metadata": {},
   "outputs": [
    {
     "name": "stderr",
     "output_type": "stream",
     "text": [
      "/Users/hstrey/Documents/programming/fMRI-analysis/oucorr.py:29: RuntimeWarning: invalid value encountered in true_divide\n",
      "  return ((3.0 * c / a) - ((b ** 2.0) / (a ** 2.0))) / 3.0\n",
      "/Users/hstrey/Documents/programming/fMRI-analysis/oucorr.py:34: RuntimeWarning: invalid value encountered in true_divide\n",
      "  return (((2.0 * (b ** 3.0)) / (a ** 3.0)) - ((9.0 * b * c) / (a **2.0)) + (27.0 * d / a)) /27.0\n",
      "/Users/hstrey/Documents/programming/fMRI-analysis/oucorr.py:20: RuntimeWarning: invalid value encountered in true_divide\n",
      "  P = (b / (3.0 * a)) * -1                # Helper Temporary Variable\n",
      "/Users/hstrey/Documents/programming/fMRI-analysis/oucorr.py:22: RuntimeWarning: invalid value encountered in true_divide\n",
      "  x1 = 2 * j * np.cos(k / 3.0) - (b / (3.0 * a))\n"
     ]
    }
   ],
   "source": [
    "C,dC,B1 = calcCorr(windows_norm,WINDOW_LENGTH,REGIONS)"
   ]
  },
  {
   "cell_type": "code",
   "execution_count": 15,
   "metadata": {},
   "outputs": [
    {
     "data": {
      "text/plain": [
       "array([[  1.        ,  -0.81850286,   2.18687664, ...,  19.67654205,\n",
       "          2.94869734,   0.42265072],\n",
       "       [ -0.81850286,   1.        , -18.40198314, ...,  -0.85490067,\n",
       "         -2.85389159, -13.78801985],\n",
       "       [  2.18687664, -18.40198314,   1.        , ...,   4.55847282,\n",
       "         12.92235383,   6.06002157],\n",
       "       ...,\n",
       "       [ 19.67654205,  -0.85490067,   4.55847282, ...,   1.        ,\n",
       "          7.75735911,   0.2816618 ],\n",
       "       [  2.94869734,  -2.85389159,  12.92235383, ...,   7.75735911,\n",
       "          1.        ,   1.75110629],\n",
       "       [  0.42265072, -13.78801985,   6.06002157, ...,   0.2816618 ,\n",
       "          1.75110629,   1.        ]])"
      ]
     },
     "execution_count": 15,
     "metadata": {},
     "output_type": "execute_result"
    }
   ],
   "source": [
    "C[0]"
   ]
  },
  {
   "cell_type": "code",
   "execution_count": 16,
   "metadata": {},
   "outputs": [
    {
     "data": {
      "text/plain": [
       "array([[ 0.        ,  2.40706077,  2.76683692, ..., 16.73764383,\n",
       "         2.77967528,  1.76654009],\n",
       "       [ 2.40706077,  0.        , 21.73514431, ...,  2.92369453,\n",
       "         4.42395766, 15.02575548],\n",
       "       [ 2.76683692, 21.73514431,  0.        , ...,  5.82733589,\n",
       "        11.61806794,  9.20679021],\n",
       "       ...,\n",
       "       [16.73764383,  2.92369453,  5.82733589, ...,  0.        ,\n",
       "         5.73547203,  1.8216444 ],\n",
       "       [ 2.77967528,  4.42395766, 11.61806794, ...,  5.73547203,\n",
       "         0.        ,  3.34907263],\n",
       "       [ 1.76654009, 15.02575548,  9.20679021, ...,  1.8216444 ,\n",
       "         3.34907263,  0.        ]])"
      ]
     },
     "execution_count": 16,
     "metadata": {},
     "output_type": "execute_result"
    }
   ],
   "source": [
    "dC[0]"
   ]
  },
  {
   "cell_type": "code",
   "execution_count": 17,
   "metadata": {},
   "outputs": [
    {
     "data": {
      "text/plain": [
       "array([[0.96887999, 0.97401917, 0.95299163, ..., 0.97423557, 0.95949061,\n",
       "        0.93450989],\n",
       "       [0.97401917, 0.93724747, 0.90912056, ..., 0.98774666, 0.92672538,\n",
       "        0.91273055],\n",
       "       [0.95299163, 0.90912056, 0.93460009, ..., 0.9561148 , 0.92993456,\n",
       "        0.92684942],\n",
       "       ...,\n",
       "       [0.97423557, 0.98774666, 0.9561148 , ..., 0.97554752, 0.95988081,\n",
       "        0.94105274],\n",
       "       [0.95949061, 0.92672538, 0.92993456, ..., 0.95988081, 0.92530009,\n",
       "        0.91887201],\n",
       "       [0.93450989, 0.91273055, 0.92684942, ..., 0.94105274, 0.91887201,\n",
       "        0.92377883]])"
      ]
     },
     "execution_count": 17,
     "metadata": {},
     "output_type": "execute_result"
    }
   ],
   "source": [
    "B1[0]"
   ]
  },
  {
   "cell_type": "code",
   "execution_count": 18,
   "metadata": {},
   "outputs": [
    {
     "name": "stdout",
     "output_type": "stream",
     "text": [
      "498.0\n"
     ]
    }
   ],
   "source": [
    "corrlength = len(C)\n",
    "ids = np.arange(498)\n",
    "subnet = np.array(list(itertools.product(ids, ids))).T\n",
    "subnet_norm = np.sqrt(len(subnet.T))\n",
    "print(subnet_norm)"
   ]
  },
  {
   "cell_type": "code",
   "execution_count": 19,
   "metadata": {},
   "outputs": [],
   "source": [
    "instabilities_all = []\n",
    "for tau in range(1,corrlength):\n",
    "    diffs = np.array([C[i]-C[i+tau] for i in range(corrlength - tau)])\n",
    "    inst = np.linalg.norm(diffs[:,subnet[0],subnet[1]], axis=1)/np.sqrt(subnet_norm*(subnet_norm-1))\n",
    "    instabilities_all.append(inst)\n"
   ]
  },
  {
   "cell_type": "code",
   "execution_count": 20,
   "metadata": {},
   "outputs": [
    {
     "data": {
      "text/plain": [
       "[array([15.89692192, 18.31147048, 16.21536209, 13.87414261, 13.23023058,\n",
       "        19.036197  , 21.97453552, 19.01449643, 19.64616673, 21.0145016 ,\n",
       "        19.98899673, 19.32936197, 15.33535452, 13.89599984, 18.12310192,\n",
       "        18.46259801, 14.29952612, 13.77344027, 12.4683108 , 14.71012148,\n",
       "        19.6731465 , 18.98653502, 17.99361885]),\n",
       " array([16.31525007, 18.02432047, 15.49917219, 16.36253929, 17.73596939,\n",
       "        19.24034648, 21.05171781, 21.57978744, 19.91584291, 23.21117888,\n",
       "        18.455486  , 19.84293149, 13.96141112, 19.16578125, 13.102042  ,\n",
       "        20.068811  , 12.81558973, 14.91547491, 14.38592637, 18.66067709,\n",
       "        18.00059924, 19.75104036]),\n",
       " array([14.94987903, 15.94755243, 17.52510377, 19.65569758, 17.5595672 ,\n",
       "        17.88927821, 22.46478304, 20.98504492, 21.29083743, 19.95981077,\n",
       "        18.57477979, 18.43456631, 19.41421986, 14.67640257, 14.16339719,\n",
       "        18.48356164, 13.75071792, 16.47491092, 18.09638542, 16.81276483,\n",
       "        17.73652405]),\n",
       " array([12.41350507, 18.09983805, 20.78638401, 18.9288285 , 16.0278745 ,\n",
       "        19.82947056, 21.85035137, 22.61384165, 17.88239895, 19.69820555,\n",
       "        17.27670635, 22.92830177, 15.07282381, 16.26400694, 11.78301788,\n",
       "        19.38864593, 15.51025004, 19.25888526, 15.77419361, 16.33118381]),\n",
       " array([15.04973985, 21.16572324, 20.23288429, 17.94766882, 18.32589207,\n",
       "        18.37797314, 22.9165842 , 19.32935284, 17.71307078, 18.66981739,\n",
       "        22.03110092, 18.90690748, 16.35571491, 13.801957  , 12.95512407,\n",
       "        19.63946341, 18.80648936, 17.54863839, 15.75572952]),\n",
       " array([18.83986284, 20.98136663, 18.95335951, 19.76493403, 16.77124409,\n",
       "        19.70951706, 19.89090902, 19.16580018, 16.37964052, 23.29267753,\n",
       "        17.71510101, 20.07195593, 14.15673865, 15.04110139, 14.28854169,\n",
       "        22.74396033, 16.69051098, 16.89576081]),\n",
       " array([18.18336305, 19.28711264, 20.98369396, 18.26998582, 17.65911984,\n",
       "        16.09544614, 19.6409125 , 18.00813015, 21.35014037, 18.91785735,\n",
       "        18.94761494, 18.31447319, 15.24183116, 16.40515772, 18.09879026,\n",
       "        20.99589146, 16.44204039]),\n",
       " array([16.33447113, 21.0225395 , 19.95187252, 19.77231013, 13.8278085 ,\n",
       "        15.52122115, 18.32772243, 22.82372614, 16.91000076, 19.39584638,\n",
       "        17.16599447, 19.19495274, 16.42901728, 19.63808854, 16.11491915,\n",
       "        21.00649618]),\n",
       " array([18.5834311 , 20.45771464, 21.0020789 , 15.48163513, 13.58455878,\n",
       "        14.29740017, 22.97691198, 18.48538228, 17.64793882, 18.31550166,\n",
       "        17.93893328, 20.00189933, 19.73650999, 17.22176307, 15.47956932]),\n",
       " array([17.54768337, 21.18468847, 17.30806891, 16.12471485, 11.6377395 ,\n",
       "        19.66673174, 18.85863984, 19.29833586, 16.11704973, 18.82061933,\n",
       "        19.11069167, 23.18022273, 17.75541532, 17.52681986]),\n",
       " array([18.52373697, 18.13735207, 17.44776136, 13.99856149, 18.22234543,\n",
       "        15.18522708, 19.34510303, 17.61386632, 16.607441  , 20.37623741,\n",
       "        21.76249898, 21.41991489, 17.54411657]),\n",
       " array([14.86635183, 18.22434698, 15.69794861, 20.22305584, 12.51196121,\n",
       "        16.38532102, 18.06918819, 18.19170664, 18.000765  , 22.22952451,\n",
       "        20.01749391, 21.19346932]),\n",
       " array([14.98268661, 16.30390266, 21.29784732, 15.01506484, 14.03512281,\n",
       "        14.18171557, 18.96647089, 19.45125395, 21.02840637, 21.0635188 ,\n",
       "        20.06446202]),\n",
       " array([12.74811774, 21.81999918, 16.54596435, 15.97349858, 11.34790767,\n",
       "        15.36741941, 19.94959396, 22.28363473, 19.46617192, 20.59910964]),\n",
       " array([19.20160684, 16.89622631, 17.54651996, 14.22573689, 12.6529257 ,\n",
       "        16.53162904, 22.12396334, 21.02161623, 18.7124269 ]),\n",
       " array([13.43639525, 17.75841441, 15.65483002, 14.86034255, 14.4046835 ,\n",
       "        19.70976121, 20.69660156, 20.48842504]),\n",
       " array([14.57642151, 16.23687918, 16.64082809, 16.58852907, 18.13476056,\n",
       "        17.50423284, 20.63428031]),\n",
       " array([12.5106371 , 16.87769733, 17.78137234, 19.49914052, 15.68946502,\n",
       "        17.55563306]),\n",
       " array([13.49540292, 18.32088162, 20.89166897, 17.52826866, 15.71444407]),\n",
       " array([15.10553824, 20.8832216 , 19.18047786, 17.32713641]),\n",
       " array([18.41112883, 19.4354136 , 18.84893769]),\n",
       " array([16.70902209, 19.16949023]),\n",
       " array([16.12186087])]"
      ]
     },
     "execution_count": 20,
     "metadata": {},
     "output_type": "execute_result"
    }
   ],
   "source": [
    "instabilities_all"
   ]
  },
  {
   "cell_type": "code",
   "execution_count": 21,
   "metadata": {},
   "outputs": [],
   "source": [
    "inst_avg = [np.mean(inst) for inst in instabilities_all]\n",
    "inst_std = [np.std(inst) for inst in instabilities_all]"
   ]
  },
  {
   "cell_type": "code",
   "execution_count": 22,
   "metadata": {},
   "outputs": [
    {
     "data": {
      "text/plain": [
       "<ErrorbarContainer object of 3 artists>"
      ]
     },
     "execution_count": 22,
     "metadata": {},
     "output_type": "execute_result"
    },
    {
     "data": {
      "image/png": "[encoded data removed]",
      "text/plain": [
       "<Figure size 432x288 with 1 Axes>"
      ]
     },
     "metadata": {},
     "output_type": "display_data"
    }
   ],
   "source": [
    "plt.errorbar(np.arange(23),y=inst_avg,yerr=inst_std)"
   ]
  },
  {
   "cell_type": "code",
   "execution_count": null,
   "metadata": {},
   "outputs": [],
   "source": []
  }
 ],
 "metadata": {
  "kernelspec": {
   "display_name": "Python 3",
   "language": "python",
   "name": "python3"
  },
  "language_info": {
   "codemirror_mode": {
    "name": "ipython",
    "version": 3
   },
   "file_extension": ".py",
   "mimetype": "text/x-python",
   "name": "python",
   "nbconvert_exporter": "python",
   "pygments_lexer": "ipython3",
   "version": "3.7.9"
  }
 },
 "nbformat": 4,
 "nbformat_minor": 4
}
