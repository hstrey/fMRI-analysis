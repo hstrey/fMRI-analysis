{
 "cells": [
  {
   "cell_type": "code",
   "execution_count": 1,
   "metadata": {},
   "outputs": [
    {
     "name": "stdout",
     "output_type": "stream",
     "text": [
      "['Solarize_Light2', '_classic_test_patch', 'arviz-bluish', 'arviz-brownish', 'arviz-colors', 'arviz-cyanish', 'arviz-darkgrid', 'arviz-grayscale', 'arviz-greenish', 'arviz-orangish', 'arviz-plasmish', 'arviz-purplish', 'arviz-redish', 'arviz-royish', 'arviz-viridish', 'arviz-white', 'arviz-whitegrid', 'bmh', 'classic', 'dark_background', 'fast', 'fivethirtyeight', 'ggplot', 'grayscale', 'seaborn', 'seaborn-bright', 'seaborn-colorblind', 'seaborn-dark', 'seaborn-dark-palette', 'seaborn-darkgrid', 'seaborn-deep', 'seaborn-muted', 'seaborn-notebook', 'seaborn-paper', 'seaborn-pastel', 'seaborn-poster', 'seaborn-talk', 'seaborn-ticks', 'seaborn-white', 'seaborn-whitegrid', 'tableau-colorblind10']\n"
     ]
    }
   ],
   "source": [
    "import numpy as np\n",
    "import pymc3 as pm\n",
    "import theano.tensor as tt\n",
    "import os\n",
    "import csv\n",
    "import matplotlib.pyplot as plt\n",
    "from scipy.stats import pearsonr\n",
    "import multiprocessing as mp\n",
    "mp.set_start_method(\"fork\")\n",
    "\n",
    "SMALL_SIZE = 16\n",
    "MEDIUM_SIZE = 18\n",
    "BIGGER_SIZE = 20\n",
    "\n",
    "plt.rc('font', size=SMALL_SIZE)          # controls default text sizes\n",
    "plt.rc('axes', titlesize=SMALL_SIZE)     # fontsize of the axes title\n",
    "plt.rc('axes', labelsize=MEDIUM_SIZE)    # fontsize of the x and y labels\n",
    "plt.rc('xtick', labelsize=SMALL_SIZE)    # fontsize of the tick labels\n",
    "plt.rc('ytick', labelsize=SMALL_SIZE)    # fontsize of the tick labels\n",
    "plt.rc('legend', fontsize=SMALL_SIZE)    # legend fontsize\n",
    "plt.rc('figure', titlesize=BIGGER_SIZE)  # fontsize of the figure title\n",
    "\n",
    "SEED = 350107321 # from random.org\n",
    "np.random.seed(SEED)\n",
    "\n",
    "print(plt.style.available)\n",
    "plt.style.use('seaborn-white')"
   ]
  },
  {
   "cell_type": "code",
   "execution_count": 2,
   "metadata": {},
   "outputs": [],
   "source": [
    "class Ornstein_Uhlenbeck(pm.Continuous):\n",
    "    \"\"\"\n",
    "    Ornstein-Uhlenbeck Process\n",
    "    Parameters\n",
    "    ----------\n",
    "    B : tensor\n",
    "        B > 0, B = exp(-(D/A)*delta_t)\n",
    "    A : tensor\n",
    "        A > 0, amplitude of fluctuation <x**2>=A\n",
    "    delta_t: scalar\n",
    "        delta_t > 0, time step\n",
    "    \"\"\"\n",
    "    \n",
    "    def __init__(self, A=None, B=None,\n",
    "                 *args, **kwargs):\n",
    "        super(Ornstein_Uhlenbeck, self).__init__(*args, **kwargs)\n",
    "        self.A = A\n",
    "        self.B = B\n",
    "        self.mean = 0.\n",
    "    \n",
    "    def logp(self, x):\n",
    "        A = self.A\n",
    "        B = self.B\n",
    "        \n",
    "        x_im1 = x[:-1]\n",
    "        x_i = x[1:]\n",
    "        \n",
    "        ou_like = pm.Normal.dist(mu=x_im1*B, tau=1.0/A/(1-B**2)).logp(x_i)\n",
    "        return pm.Normal.dist(mu=0.0,tau=1.0/A).logp(x[0]) + tt.sum(ou_like)"
   ]
  },
  {
   "cell_type": "code",
   "execution_count": 3,
   "metadata": {},
   "outputs": [
    {
     "name": "stdout",
     "output_type": "stream",
     "text": [
      "/Users/hstrey/Documents/programming/fMRI-analysis/OxytocinRSData_new\n"
     ]
    }
   ],
   "source": [
    "currentdir = os.getcwd()\n",
    "datadir = os.path.join(currentdir,'OxytocinRSData_new')\n",
    "print(datadir)"
   ]
  },
  {
   "cell_type": "code",
   "execution_count": 4,
   "metadata": {},
   "outputs": [
    {
     "name": "stdout",
     "output_type": "stream",
     "text": [
      "['.DS_Store', 'Subject002.npy', 'Subject003.npy', 'Subject001.npy', 'Subject004.npy', 'Subject005.npy']\n"
     ]
    }
   ],
   "source": [
    "# get data files names\n",
    "datafilenames = os.listdir(datadir)\n",
    "print(datafilenames)"
   ]
  },
  {
   "cell_type": "code",
   "execution_count": 5,
   "metadata": {},
   "outputs": [
    {
     "name": "stdout",
     "output_type": "stream",
     "text": [
      "pearson:  0.3605622412548186\n"
     ]
    },
    {
     "name": "stderr",
     "output_type": "stream",
     "text": [
      "/opt/miniconda3/envs/pymc3/lib/python3.7/site-packages/pymc3/sampling.py:468: FutureWarning: In an upcoming release, pm.sample will return an `arviz.InferenceData` object instead of a `MultiTrace` by default. You can pass return_inferencedata=True or return_inferencedata=False to be safe and silence this warning.\n",
      "  FutureWarning,\n",
      "Auto-assigning NUTS sampler...\n",
      "Initializing NUTS using jitter+adapt_diag...\n",
      "Sequential sampling (1 chains in 1 job)\n",
      "NUTS: [D, A2, A1]\n"
     ]
    },
    {
     "data": {
      "text/html": [
       "\n",
       "    <div>\n",
       "        <style>\n",
       "            /* Turns off some styling */\n",
       "            progress {\n",
       "                /* gets rid of default border in Firefox and Opera. */\n",
       "                border: none;\n",
       "                /* Needs to be in here for Safari polyfill so background images work as expected. */\n",
       "                background-size: auto;\n",
       "            }\n",
       "            .progress-bar-interrupted, .progress-bar-interrupted::-webkit-progress-bar {\n",
       "                background: #F44336;\n",
       "            }\n",
       "        </style>\n",
       "      <progress value='12000' class='' max='12000' style='width:300px; height:20px; vertical-align: middle;'></progress>\n",
       "      100.00% [12000/12000 00:15<00:00 Sampling chain 0, 0 divergences]\n",
       "    </div>\n",
       "    "
      ],
      "text/plain": [
       "<IPython.core.display.HTML object>"
      ]
     },
     "metadata": {},
     "output_type": "display_data"
    },
    {
     "name": "stderr",
     "output_type": "stream",
     "text": [
      "Sampling 1 chain for 2_000 tune and 10_000 draw iterations (2_000 + 10_000 draws total) took 15 seconds.\n",
      "Only one chain was sampled, this makes it impossible to run some convergence checks\n"
     ]
    },
    {
     "name": "stdout",
     "output_type": "stream",
     "text": [
      "predicted C:  1.1888412997916855  +-  0.48298936113502566\n",
      "pearson:  0.3201470842194797\n"
     ]
    },
    {
     "name": "stderr",
     "output_type": "stream",
     "text": [
      "/opt/miniconda3/envs/pymc3/lib/python3.7/site-packages/pymc3/sampling.py:468: FutureWarning: In an upcoming release, pm.sample will return an `arviz.InferenceData` object instead of a `MultiTrace` by default. You can pass return_inferencedata=True or return_inferencedata=False to be safe and silence this warning.\n",
      "  FutureWarning,\n",
      "Auto-assigning NUTS sampler...\n",
      "Initializing NUTS using jitter+adapt_diag...\n",
      "Sequential sampling (1 chains in 1 job)\n",
      "NUTS: [D, A2, A1]\n"
     ]
    },
    {
     "data": {
      "text/html": [
       "\n",
       "    <div>\n",
       "        <style>\n",
       "            /* Turns off some styling */\n",
       "            progress {\n",
       "                /* gets rid of default border in Firefox and Opera. */\n",
       "                border: none;\n",
       "                /* Needs to be in here for Safari polyfill so background images work as expected. */\n",
       "                background-size: auto;\n",
       "            }\n",
       "            .progress-bar-interrupted, .progress-bar-interrupted::-webkit-progress-bar {\n",
       "                background: #F44336;\n",
       "            }\n",
       "        </style>\n",
       "      <progress value='12000' class='' max='12000' style='width:300px; height:20px; vertical-align: middle;'></progress>\n",
       "      100.00% [12000/12000 00:11<00:00 Sampling chain 0, 0 divergences]\n",
       "    </div>\n",
       "    "
      ],
      "text/plain": [
       "<IPython.core.display.HTML object>"
      ]
     },
     "metadata": {},
     "output_type": "display_data"
    },
    {
     "name": "stderr",
     "output_type": "stream",
     "text": [
      "Sampling 1 chain for 2_000 tune and 10_000 draw iterations (2_000 + 10_000 draws total) took 12 seconds.\n",
      "Only one chain was sampled, this makes it impossible to run some convergence checks\n"
     ]
    },
    {
     "name": "stdout",
     "output_type": "stream",
     "text": [
      "predicted C:  0.9259727765558154  +-  0.4413207987059856\n",
      "pearson:  0.21570413715920567\n"
     ]
    },
    {
     "name": "stderr",
     "output_type": "stream",
     "text": [
      "Auto-assigning NUTS sampler...\n",
      "Initializing NUTS using jitter+adapt_diag...\n",
      "Sequential sampling (1 chains in 1 job)\n",
      "NUTS: [D, A2, A1]\n"
     ]
    },
    {
     "data": {
      "text/html": [
       "\n",
       "    <div>\n",
       "        <style>\n",
       "            /* Turns off some styling */\n",
       "            progress {\n",
       "                /* gets rid of default border in Firefox and Opera. */\n",
       "                border: none;\n",
       "                /* Needs to be in here for Safari polyfill so background images work as expected. */\n",
       "                background-size: auto;\n",
       "            }\n",
       "            .progress-bar-interrupted, .progress-bar-interrupted::-webkit-progress-bar {\n",
       "                background: #F44336;\n",
       "            }\n",
       "        </style>\n",
       "      <progress value='12000' class='' max='12000' style='width:300px; height:20px; vertical-align: middle;'></progress>\n",
       "      100.00% [12000/12000 00:10<00:00 Sampling chain 0, 0 divergences]\n",
       "    </div>\n",
       "    "
      ],
      "text/plain": [
       "<IPython.core.display.HTML object>"
      ]
     },
     "metadata": {},
     "output_type": "display_data"
    },
    {
     "name": "stderr",
     "output_type": "stream",
     "text": [
      "Sampling 1 chain for 2_000 tune and 10_000 draw iterations (2_000 + 10_000 draws total) took 11 seconds.\n",
      "Only one chain was sampled, this makes it impossible to run some convergence checks\n"
     ]
    },
    {
     "name": "stdout",
     "output_type": "stream",
     "text": [
      "predicted C:  0.5739494004582408  +-  0.303319241030646\n",
      "pearson:  0.21449988118536584\n"
     ]
    },
    {
     "name": "stderr",
     "output_type": "stream",
     "text": [
      "Auto-assigning NUTS sampler...\n",
      "Initializing NUTS using jitter+adapt_diag...\n",
      "Sequential sampling (1 chains in 1 job)\n",
      "NUTS: [D, A2, A1]\n"
     ]
    },
    {
     "data": {
      "text/html": [
       "\n",
       "    <div>\n",
       "        <style>\n",
       "            /* Turns off some styling */\n",
       "            progress {\n",
       "                /* gets rid of default border in Firefox and Opera. */\n",
       "                border: none;\n",
       "                /* Needs to be in here for Safari polyfill so background images work as expected. */\n",
       "                background-size: auto;\n",
       "            }\n",
       "            .progress-bar-interrupted, .progress-bar-interrupted::-webkit-progress-bar {\n",
       "                background: #F44336;\n",
       "            }\n",
       "        </style>\n",
       "      <progress value='12000' class='' max='12000' style='width:300px; height:20px; vertical-align: middle;'></progress>\n",
       "      100.00% [12000/12000 00:10<00:00 Sampling chain 0, 0 divergences]\n",
       "    </div>\n",
       "    "
      ],
      "text/plain": [
       "<IPython.core.display.HTML object>"
      ]
     },
     "metadata": {},
     "output_type": "display_data"
    },
    {
     "name": "stderr",
     "output_type": "stream",
     "text": [
      "Sampling 1 chain for 2_000 tune and 10_000 draw iterations (2_000 + 10_000 draws total) took 11 seconds.\n",
      "Only one chain was sampled, this makes it impossible to run some convergence checks\n"
     ]
    },
    {
     "name": "stdout",
     "output_type": "stream",
     "text": [
      "predicted C:  0.5778276331445259  +-  0.2994997057993781\n",
      "pearson:  0.8015417179427582\n"
     ]
    },
    {
     "name": "stderr",
     "output_type": "stream",
     "text": [
      "Auto-assigning NUTS sampler...\n",
      "Initializing NUTS using jitter+adapt_diag...\n",
      "Sequential sampling (1 chains in 1 job)\n",
      "NUTS: [D, A2, A1]\n"
     ]
    },
    {
     "data": {
      "text/html": [
       "\n",
       "    <div>\n",
       "        <style>\n",
       "            /* Turns off some styling */\n",
       "            progress {\n",
       "                /* gets rid of default border in Firefox and Opera. */\n",
       "                border: none;\n",
       "                /* Needs to be in here for Safari polyfill so background images work as expected. */\n",
       "                background-size: auto;\n",
       "            }\n",
       "            .progress-bar-interrupted, .progress-bar-interrupted::-webkit-progress-bar {\n",
       "                background: #F44336;\n",
       "            }\n",
       "        </style>\n",
       "      <progress value='12000' class='' max='12000' style='width:300px; height:20px; vertical-align: middle;'></progress>\n",
       "      100.00% [12000/12000 00:10<00:00 Sampling chain 0, 0 divergences]\n",
       "    </div>\n",
       "    "
      ],
      "text/plain": [
       "<IPython.core.display.HTML object>"
      ]
     },
     "metadata": {},
     "output_type": "display_data"
    },
    {
     "name": "stderr",
     "output_type": "stream",
     "text": [
      "Sampling 1 chain for 2_000 tune and 10_000 draw iterations (2_000 + 10_000 draws total) took 11 seconds.\n",
      "Only one chain was sampled, this makes it impossible to run some convergence checks\n"
     ]
    },
    {
     "name": "stdout",
     "output_type": "stream",
     "text": [
      "predicted C:  7.073622346599435  +-  1.2683186360691885\n"
     ]
    }
   ],
   "source": [
    "a_bound = 20\n",
    "delta_t = 0.802\n",
    "results = None\n",
    "for datafilename in datafilenames:\n",
    "    if datafilename.endswith('.npy'):\n",
    "        time_series = np.load(os.path.join(datadir,datafilename),allow_pickle=True)\n",
    "    else:\n",
    "        continue\n",
    "    mpfc = time_series[:,0]\n",
    "    llp = time_series[:,1]\n",
    "    rlp = time_series[:,2]\n",
    "    pcc = time_series[:,3]\n",
    "    \n",
    "    x1 = mpfc\n",
    "    x2 = llp\n",
    "    \n",
    "    x1 = x1/x1.std()\n",
    "    x2 = x2/x2.std()\n",
    "    \n",
    "    prho = pearsonr(x1,x2)[0]\n",
    "    print(\"pearson: \",prho)\n",
    "    \n",
    "    coupling = 2*np.abs(prho)/(1-np.abs(prho))*np.sign(prho)\n",
    "\n",
    "    y1 = x1 + x2\n",
    "    y2 = x1 - x2\n",
    "    with pm.Model() as model:\n",
    "        A1 = pm.Uniform('A1', lower=0, upper=a_bound)\n",
    "        A2 = pm.Uniform('A2', lower=0, upper=a_bound)\n",
    "        D = pm.Uniform('D',lower=0,upper=20)\n",
    "            \n",
    "        B1 = pm.Deterministic('B1',pm.math.exp(-delta_t * D / A1))\n",
    "        B2 = pm.Deterministic('B2',pm.math.exp(-delta_t * D / A2))\n",
    "                                \n",
    "        path1 = Ornstein_Uhlenbeck('path1',A=A1, B=B1,shape=len(y1),observed=y1)\n",
    "        path2 = Ornstein_Uhlenbeck('path2',A=A2, B=B2,shape=len(y2),observed=y2)\n",
    "                                \n",
    "        trace = pm.sample(10000,tune=2000,chains=1,cores=1)\n",
    "\n",
    "    A1_trace = trace['A1']\n",
    "    A2_trace = trace['A2']\n",
    "    A1_mean = np.mean(A1_trace)\n",
    "    A2_mean = np.mean(A2_trace)\n",
    "    dA1 = np.std(A1_trace)\n",
    "    dA2 = np.std(A2_trace)\n",
    "    \n",
    "    D_trace = trace['D']\n",
    "    D_mean = np.mean(D_trace)\n",
    "    dD = np.std(D_trace)\n",
    "\n",
    "    dA1A2 = np.cov(A1_trace,A2_trace)[0,1]\n",
    "    dA1D = np.cov(A1_trace,D_trace)[0,1]\n",
    "    dA2D = np.cov(A2_trace,D_trace)[0,1]\n",
    "    \n",
    "    C_trace = (A1_trace-A2_trace)/A2_trace\n",
    "    C_mean = np.mean(C_trace)\n",
    "    dC = np.std(C_trace)\n",
    "\n",
    "    print(\"predicted C: \",C_mean,\" +- \",dC)\n",
    "\n",
    "    if results is None:\n",
    "        results = [coupling,\n",
    "                   prho,\n",
    "                   C_mean,\n",
    "                   dC,\n",
    "                   A1_mean,\n",
    "                   dA1,\n",
    "                   A2_mean,\n",
    "                   dA2,\n",
    "                   D_mean,\n",
    "                   dD,\n",
    "                   dA1A2,\n",
    "                   dA1D,\n",
    "                   dA2D,\n",
    "                   C_mean,\n",
    "                   dC\n",
    "                   ]\n",
    "    else:\n",
    "        results = np.vstack((results,\n",
    "                   [coupling,\n",
    "                   prho,\n",
    "                   C_mean,\n",
    "                   dC,\n",
    "                   A1_mean,\n",
    "                   dA1,\n",
    "                   A2_mean,\n",
    "                   dA2,\n",
    "                   D_mean,\n",
    "                   dD,\n",
    "                   dA1A2,\n",
    "                   dA1D,\n",
    "                   dA2D,\n",
    "                   C_mean,\n",
    "                   dC\n",
    "                   ]))"
   ]
  },
  {
   "cell_type": "code",
   "execution_count": 6,
   "metadata": {},
   "outputs": [
    {
     "data": {
      "text/plain": [
       "array([1.1888413 , 0.92597278, 0.5739494 , 0.57782763, 7.07362235])"
      ]
     },
     "execution_count": 6,
     "metadata": {},
     "output_type": "execute_result"
    }
   ],
   "source": [
    "x = ['1','2','3','4','5','population \\n average']\n",
    "results.T[2]"
   ]
  },
  {
   "cell_type": "code",
   "execution_count": 7,
   "metadata": {},
   "outputs": [
    {
     "name": "stderr",
     "output_type": "stream",
     "text": [
      "/opt/miniconda3/envs/pymc3/lib/python3.7/site-packages/ipykernel_launcher.py:6: MatplotlibDeprecationWarning: savefig() got unexpected keyword argument \"backgroundcolor\" which is no longer supported as of 3.3 and will become an error two minor releases later\n",
      "  \n"
     ]
    },
    {
     "data": {
      "image/png": "[encoded data removed]",
      "text/plain": [
       "<Figure size 432x288 with 1 Axes>"
      ]
     },
     "metadata": {},
     "output_type": "display_data"
    }
   ],
   "source": [
    "plt.errorbar(x,np.append(results.T[2],[results.T[2].mean()]),\n",
    "                         yerr=np.append(results.T[3],[results.T[2].std()]),fmt=\"o\",color=\"k\")\n",
    "plt.title(\"MPFC:LLP\")\n",
    "plt.ylabel(\"Coupling strength C\")\n",
    "plt.xlabel(\"Subject\")\n",
    "plt.savefig(\"mpfc_llpMCMC.png\",format='png',dpi=300,bbox_inches='tight',facecolor=\"white\",backgroundcolor=\"white\")"
   ]
  },
  {
   "cell_type": "code",
   "execution_count": 8,
   "metadata": {},
   "outputs": [
    {
     "name": "stderr",
     "output_type": "stream",
     "text": [
      "/opt/miniconda3/envs/pymc3/lib/python3.7/site-packages/pymc3/sampling.py:468: FutureWarning: In an upcoming release, pm.sample will return an `arviz.InferenceData` object instead of a `MultiTrace` by default. You can pass return_inferencedata=True or return_inferencedata=False to be safe and silence this warning.\n",
      "  FutureWarning,\n",
      "Auto-assigning NUTS sampler...\n",
      "Initializing NUTS using jitter+adapt_diag...\n",
      "Sequential sampling (1 chains in 1 job)\n",
      "NUTS: [CT, S, C0]\n"
     ]
    },
    {
     "data": {
      "text/html": [
       "\n",
       "    <div>\n",
       "        <style>\n",
       "            /* Turns off some styling */\n",
       "            progress {\n",
       "                /* gets rid of default border in Firefox and Opera. */\n",
       "                border: none;\n",
       "                /* Needs to be in here for Safari polyfill so background images work as expected. */\n",
       "                background-size: auto;\n",
       "            }\n",
       "            .progress-bar-interrupted, .progress-bar-interrupted::-webkit-progress-bar {\n",
       "                background: #F44336;\n",
       "            }\n",
       "        </style>\n",
       "      <progress value='12000' class='' max='12000' style='width:300px; height:20px; vertical-align: middle;'></progress>\n",
       "      100.00% [12000/12000 00:14<00:00 Sampling chain 0, 309 divergences]\n",
       "    </div>\n",
       "    "
      ],
      "text/plain": [
       "<IPython.core.display.HTML object>"
      ]
     },
     "metadata": {},
     "output_type": "display_data"
    },
    {
     "name": "stderr",
     "output_type": "stream",
     "text": [
      "Sampling 1 chain for 2_000 tune and 10_000 draw iterations (2_000 + 10_000 draws total) took 14 seconds.\n",
      "There were 309 divergences after tuning. Increase `target_accept` or reparameterize.\n",
      "Only one chain was sampled, this makes it impossible to run some convergence checks\n"
     ]
    }
   ],
   "source": [
    "# now lets do an analysis on the coupling distribution\n",
    "mc = results.T[2]\n",
    "stdd = results.T[2].std()\n",
    "with pm.Model() as distModel:\n",
    "    C0 = pm.Uniform('C0',0,10)\n",
    "    S = pm.Uniform('S',0,5)\n",
    "    CT = pm.Normal('CT',mu=C0,sigma=S,shape=5)\n",
    "    measured = pm.Normal('measured',mu=CT,sigma=stdd,observed=mc)\n",
    "    \n",
    "    trace = pm.sample(10000,tune=2000,chains=1,cores=1)\n"
   ]
  },
  {
   "cell_type": "code",
   "execution_count": 9,
   "metadata": {},
   "outputs": [
    {
     "name": "stderr",
     "output_type": "stream",
     "text": [
      "/opt/miniconda3/envs/pymc3/lib/python3.7/site-packages/arviz/data/io_pymc3.py:91: FutureWarning: Using `from_pymc3` without the model will be deprecated in a future release. Not using the model will return less accurate and less useful results. Make sure you use the model argument or call from_pymc3 within a model context.\n",
      "  FutureWarning,\n",
      "arviz.stats.stats_utils - WARNING - Shape validation failed: input_shape: (1, 10000), minimum_shape: (chains=2, draws=4)\n",
      "arviz.stats.stats_utils - WARNING - Shape validation failed: input_shape: (1, 10000), minimum_shape: (chains=2, draws=4)\n",
      "arviz.stats.stats_utils - WARNING - Shape validation failed: input_shape: (1, 10000), minimum_shape: (chains=2, draws=4)\n",
      "arviz.stats.stats_utils - WARNING - Shape validation failed: input_shape: (1, 10000), minimum_shape: (chains=2, draws=4)\n",
      "arviz.stats.stats_utils - WARNING - Shape validation failed: input_shape: (1, 10000), minimum_shape: (chains=2, draws=4)\n",
      "arviz.stats.stats_utils - WARNING - Shape validation failed: input_shape: (1, 10000), minimum_shape: (chains=2, draws=4)\n",
      "arviz.stats.stats_utils - WARNING - Shape validation failed: input_shape: (1, 10000), minimum_shape: (chains=2, draws=4)\n"
     ]
    },
    {
     "data": {
      "text/html": [
       "<div>\n",
       "<style scoped>\n",
       "    .dataframe tbody tr th:only-of-type {\n",
       "        vertical-align: middle;\n",
       "    }\n",
       "\n",
       "    .dataframe tbody tr th {\n",
       "        vertical-align: top;\n",
       "    }\n",
       "\n",
       "    .dataframe thead th {\n",
       "        text-align: right;\n",
       "    }\n",
       "</style>\n",
       "<table border=\"1\" class=\"dataframe\">\n",
       "  <thead>\n",
       "    <tr style=\"text-align: right;\">\n",
       "      <th></th>\n",
       "      <th>mean</th>\n",
       "      <th>sd</th>\n",
       "      <th>hdi_3%</th>\n",
       "      <th>hdi_97%</th>\n",
       "      <th>mcse_mean</th>\n",
       "      <th>mcse_sd</th>\n",
       "      <th>ess_mean</th>\n",
       "      <th>ess_sd</th>\n",
       "      <th>ess_bulk</th>\n",
       "      <th>ess_tail</th>\n",
       "      <th>r_hat</th>\n",
       "    </tr>\n",
       "  </thead>\n",
       "  <tbody>\n",
       "    <tr>\n",
       "      <th>CT[0]</th>\n",
       "      <td>1.860</td>\n",
       "      <td>1.743</td>\n",
       "      <td>-1.510</td>\n",
       "      <td>5.094</td>\n",
       "      <td>0.036</td>\n",
       "      <td>0.027</td>\n",
       "      <td>2280.0</td>\n",
       "      <td>2149.0</td>\n",
       "      <td>2223.0</td>\n",
       "      <td>2680.0</td>\n",
       "      <td>NaN</td>\n",
       "    </tr>\n",
       "    <tr>\n",
       "      <th>CT[1]</th>\n",
       "      <td>1.783</td>\n",
       "      <td>1.743</td>\n",
       "      <td>-1.608</td>\n",
       "      <td>5.007</td>\n",
       "      <td>0.035</td>\n",
       "      <td>0.025</td>\n",
       "      <td>2544.0</td>\n",
       "      <td>2494.0</td>\n",
       "      <td>2418.0</td>\n",
       "      <td>3288.0</td>\n",
       "      <td>NaN</td>\n",
       "    </tr>\n",
       "    <tr>\n",
       "      <th>CT[2]</th>\n",
       "      <td>1.654</td>\n",
       "      <td>1.738</td>\n",
       "      <td>-1.613</td>\n",
       "      <td>5.036</td>\n",
       "      <td>0.032</td>\n",
       "      <td>0.023</td>\n",
       "      <td>2939.0</td>\n",
       "      <td>2869.0</td>\n",
       "      <td>2859.0</td>\n",
       "      <td>4308.0</td>\n",
       "      <td>NaN</td>\n",
       "    </tr>\n",
       "    <tr>\n",
       "      <th>CT[3]</th>\n",
       "      <td>1.635</td>\n",
       "      <td>1.737</td>\n",
       "      <td>-1.695</td>\n",
       "      <td>4.985</td>\n",
       "      <td>0.034</td>\n",
       "      <td>0.024</td>\n",
       "      <td>2560.0</td>\n",
       "      <td>2560.0</td>\n",
       "      <td>2470.0</td>\n",
       "      <td>3261.0</td>\n",
       "      <td>NaN</td>\n",
       "    </tr>\n",
       "    <tr>\n",
       "      <th>CT[4]</th>\n",
       "      <td>4.087</td>\n",
       "      <td>2.094</td>\n",
       "      <td>0.372</td>\n",
       "      <td>8.060</td>\n",
       "      <td>0.052</td>\n",
       "      <td>0.037</td>\n",
       "      <td>1637.0</td>\n",
       "      <td>1637.0</td>\n",
       "      <td>1526.0</td>\n",
       "      <td>1669.0</td>\n",
       "      <td>NaN</td>\n",
       "    </tr>\n",
       "    <tr>\n",
       "      <th>C0</th>\n",
       "      <td>2.341</td>\n",
       "      <td>1.315</td>\n",
       "      <td>0.000</td>\n",
       "      <td>4.541</td>\n",
       "      <td>0.030</td>\n",
       "      <td>0.021</td>\n",
       "      <td>1947.0</td>\n",
       "      <td>1947.0</td>\n",
       "      <td>1675.0</td>\n",
       "      <td>1452.0</td>\n",
       "      <td>NaN</td>\n",
       "    </tr>\n",
       "    <tr>\n",
       "      <th>S</th>\n",
       "      <td>2.131</td>\n",
       "      <td>1.192</td>\n",
       "      <td>0.328</td>\n",
       "      <td>4.267</td>\n",
       "      <td>0.042</td>\n",
       "      <td>0.030</td>\n",
       "      <td>806.0</td>\n",
       "      <td>806.0</td>\n",
       "      <td>537.0</td>\n",
       "      <td>263.0</td>\n",
       "      <td>NaN</td>\n",
       "    </tr>\n",
       "  </tbody>\n",
       "</table>\n",
       "</div>"
      ],
      "text/plain": [
       "        mean     sd  hdi_3%  hdi_97%  mcse_mean  mcse_sd  ess_mean  ess_sd  \\\n",
       "CT[0]  1.860  1.743  -1.510    5.094      0.036    0.027    2280.0  2149.0   \n",
       "CT[1]  1.783  1.743  -1.608    5.007      0.035    0.025    2544.0  2494.0   \n",
       "CT[2]  1.654  1.738  -1.613    5.036      0.032    0.023    2939.0  2869.0   \n",
       "CT[3]  1.635  1.737  -1.695    4.985      0.034    0.024    2560.0  2560.0   \n",
       "CT[4]  4.087  2.094   0.372    8.060      0.052    0.037    1637.0  1637.0   \n",
       "C0     2.341  1.315   0.000    4.541      0.030    0.021    1947.0  1947.0   \n",
       "S      2.131  1.192   0.328    4.267      0.042    0.030     806.0   806.0   \n",
       "\n",
       "       ess_bulk  ess_tail  r_hat  \n",
       "CT[0]    2223.0    2680.0    NaN  \n",
       "CT[1]    2418.0    3288.0    NaN  \n",
       "CT[2]    2859.0    4308.0    NaN  \n",
       "CT[3]    2470.0    3261.0    NaN  \n",
       "CT[4]    1526.0    1669.0    NaN  \n",
       "C0       1675.0    1452.0    NaN  \n",
       "S         537.0     263.0    NaN  "
      ]
     },
     "execution_count": 9,
     "metadata": {},
     "output_type": "execute_result"
    }
   ],
   "source": [
    "pm.summary(trace)"
   ]
  },
  {
   "cell_type": "code",
   "execution_count": 11,
   "metadata": {},
   "outputs": [
    {
     "name": "stderr",
     "output_type": "stream",
     "text": [
      "/opt/miniconda3/envs/pymc3/lib/python3.7/site-packages/ipykernel_launcher.py:9: MatplotlibDeprecationWarning: savefig() got unexpected keyword argument \"backgroundcolor\" which is no longer supported as of 3.3 and will become an error two minor releases later\n",
      "  if __name__ == '__main__':\n"
     ]
    },
    {
     "data": {
      "image/png": "[encoded data removed]",
      "text/plain": [
       "<Figure size 432x288 with 1 Axes>"
      ]
     },
     "metadata": {},
     "output_type": "display_data"
    }
   ],
   "source": [
    "c0 = trace['C0'].mean()\n",
    "dc0 = trace['C0'].std()\n",
    "xfig = ['1','2','3','4','5',r'$\\bar{C}$',r'$C_{P}$']\n",
    "plt.errorbar(xfig,np.append(results.T[2],[results.T[2].mean(),c0]),\n",
    "                         yerr=np.append(results.T[3],[results.T[2].std(),dc0]),fmt=\"o\",color=\"k\")\n",
    "plt.title(\"MPFC:LLP\")\n",
    "plt.ylabel(\"Coupling strength C\")\n",
    "plt.xlabel(\"Subject\")\n",
    "plt.savefig(\"mpfc_llpMCMCPV.png\",format='png',dpi=300,bbox_inches='tight',facecolor=\"white\",backgroundcolor=\"white\")"
   ]
  },
  {
   "cell_type": "code",
   "execution_count": null,
   "metadata": {},
   "outputs": [],
   "source": []
  }
 ],
 "metadata": {
  "kernelspec": {
   "display_name": "Python 3",
   "language": "python",
   "name": "python3"
  },
  "language_info": {
   "codemirror_mode": {
    "name": "ipython",
    "version": 3
   },
   "file_extension": ".py",
   "mimetype": "text/x-python",
   "name": "python",
   "nbconvert_exporter": "python",
   "pygments_lexer": "ipython3",
   "version": "3.7.9"
  }
 },
 "nbformat": 4,
 "nbformat_minor": 4
}
