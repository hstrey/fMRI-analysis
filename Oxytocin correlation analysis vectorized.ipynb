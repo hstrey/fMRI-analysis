{
 "cells": [
  {
   "cell_type": "code",
   "execution_count": 95,
   "metadata": {},
   "outputs": [
    {
     "ename": "RuntimeError",
     "evalue": "context has already been set",
     "output_type": "error",
     "traceback": [
      "\u001b[0;31m---------------------------------------------------------------------------\u001b[0m",
      "\u001b[0;31mRuntimeError\u001b[0m                              Traceback (most recent call last)",
      "\u001b[0;32m<ipython-input-95-4a1dc408ff73>\u001b[0m in \u001b[0;36m<module>\u001b[0;34m\u001b[0m\n\u001b[1;32m      8\u001b[0m \u001b[0;32mfrom\u001b[0m \u001b[0mscipy\u001b[0m\u001b[0;34m.\u001b[0m\u001b[0mstats\u001b[0m \u001b[0;32mimport\u001b[0m \u001b[0mpearsonr\u001b[0m\u001b[0;34m\u001b[0m\u001b[0;34m\u001b[0m\u001b[0m\n\u001b[1;32m      9\u001b[0m \u001b[0;32mimport\u001b[0m \u001b[0mmultiprocessing\u001b[0m \u001b[0;32mas\u001b[0m \u001b[0mmp\u001b[0m\u001b[0;34m\u001b[0m\u001b[0;34m\u001b[0m\u001b[0m\n\u001b[0;32m---> 10\u001b[0;31m \u001b[0mmp\u001b[0m\u001b[0;34m.\u001b[0m\u001b[0mset_start_method\u001b[0m\u001b[0;34m(\u001b[0m\u001b[0;34m\"fork\"\u001b[0m\u001b[0;34m)\u001b[0m\u001b[0;34m\u001b[0m\u001b[0;34m\u001b[0m\u001b[0m\n\u001b[0m\u001b[1;32m     11\u001b[0m \u001b[0;34m\u001b[0m\u001b[0m\n\u001b[1;32m     12\u001b[0m \u001b[0mSMALL_SIZE\u001b[0m \u001b[0;34m=\u001b[0m \u001b[0;36m16\u001b[0m\u001b[0;34m\u001b[0m\u001b[0;34m\u001b[0m\u001b[0m\n",
      "\u001b[0;32m/opt/miniconda3/envs/pymc3/lib/python3.7/multiprocessing/context.py\u001b[0m in \u001b[0;36mset_start_method\u001b[0;34m(self, method, force)\u001b[0m\n\u001b[1;32m    240\u001b[0m     \u001b[0;32mdef\u001b[0m \u001b[0mset_start_method\u001b[0m\u001b[0;34m(\u001b[0m\u001b[0mself\u001b[0m\u001b[0;34m,\u001b[0m \u001b[0mmethod\u001b[0m\u001b[0;34m,\u001b[0m \u001b[0mforce\u001b[0m\u001b[0;34m=\u001b[0m\u001b[0;32mFalse\u001b[0m\u001b[0;34m)\u001b[0m\u001b[0;34m:\u001b[0m\u001b[0;34m\u001b[0m\u001b[0;34m\u001b[0m\u001b[0m\n\u001b[1;32m    241\u001b[0m         \u001b[0;32mif\u001b[0m \u001b[0mself\u001b[0m\u001b[0;34m.\u001b[0m\u001b[0m_actual_context\u001b[0m \u001b[0;32mis\u001b[0m \u001b[0;32mnot\u001b[0m \u001b[0;32mNone\u001b[0m \u001b[0;32mand\u001b[0m \u001b[0;32mnot\u001b[0m \u001b[0mforce\u001b[0m\u001b[0;34m:\u001b[0m\u001b[0;34m\u001b[0m\u001b[0;34m\u001b[0m\u001b[0m\n\u001b[0;32m--> 242\u001b[0;31m             \u001b[0;32mraise\u001b[0m \u001b[0mRuntimeError\u001b[0m\u001b[0;34m(\u001b[0m\u001b[0;34m'context has already been set'\u001b[0m\u001b[0;34m)\u001b[0m\u001b[0;34m\u001b[0m\u001b[0;34m\u001b[0m\u001b[0m\n\u001b[0m\u001b[1;32m    243\u001b[0m         \u001b[0;32mif\u001b[0m \u001b[0mmethod\u001b[0m \u001b[0;32mis\u001b[0m \u001b[0;32mNone\u001b[0m \u001b[0;32mand\u001b[0m \u001b[0mforce\u001b[0m\u001b[0;34m:\u001b[0m\u001b[0;34m\u001b[0m\u001b[0;34m\u001b[0m\u001b[0m\n\u001b[1;32m    244\u001b[0m             \u001b[0mself\u001b[0m\u001b[0;34m.\u001b[0m\u001b[0m_actual_context\u001b[0m \u001b[0;34m=\u001b[0m \u001b[0;32mNone\u001b[0m\u001b[0;34m\u001b[0m\u001b[0;34m\u001b[0m\u001b[0m\n",
      "\u001b[0;31mRuntimeError\u001b[0m: context has already been set"
     ]
    }
   ],
   "source": [
    "import numpy as np\n",
    "import numpy.ma as ma\n",
    "import pymc3 as pm\n",
    "import theano.tensor as tt\n",
    "import os\n",
    "import csv\n",
    "import matplotlib.pyplot as plt\n",
    "from scipy.stats import pearsonr\n",
    "import multiprocessing as mp\n",
    "\n",
    "SMALL_SIZE = 16\n",
    "MEDIUM_SIZE = 18\n",
    "BIGGER_SIZE = 20\n",
    "\n",
    "plt.rc('font', size=SMALL_SIZE)          # controls default text sizes\n",
    "plt.rc('axes', titlesize=SMALL_SIZE)     # fontsize of the axes title\n",
    "plt.rc('axes', labelsize=MEDIUM_SIZE)    # fontsize of the x and y labels\n",
    "plt.rc('xtick', labelsize=SMALL_SIZE)    # fontsize of the tick labels\n",
    "plt.rc('ytick', labelsize=SMALL_SIZE)    # fontsize of the tick labels\n",
    "plt.rc('legend', fontsize=SMALL_SIZE)    # legend fontsize\n",
    "plt.rc('figure', titlesize=BIGGER_SIZE)  # fontsize of the figure title\n",
    "\n",
    "SEED = 350107321 # from random.org\n",
    "np.random.seed(SEED)\n",
    "\n",
    "print(plt.style.available)\n",
    "plt.style.use('seaborn-white')"
   ]
  },
  {
   "cell_type": "code",
   "execution_count": 55,
   "metadata": {},
   "outputs": [],
   "source": [
    "def cubicsolver(coef):\n",
    "    \n",
    "    a = coef[0]\n",
    "    b = coef[1]\n",
    "    c = coef[2]\n",
    "    d = coef[3]\n",
    "\n",
    "    f = findF(a, b, c)                          # Helper Temporary Variable\n",
    "    g = findG(a, b, c, d)                       # Helper Temporary Variable\n",
    "    h = findH(g, f)                             # Helper Temporary Variable\n",
    "\n",
    "    i = np.sqrt(((g ** 2.0) / 4.0) - h)   # Helper Temporary Variable\n",
    "    j = i ** (1 / 3.0)                      # Helper Temporary Variable\n",
    "    k = np.arccos(-(g / (2 * i)))           # Helper Temporary Variable\n",
    "    L = j * -1                              # Helper Temporary Variable\n",
    "    M = np.cos(k / 3.0)                   # Helper Temporary Variable\n",
    "    N = np.sqrt(3) * np.sin(k / 3.0)    # Helper Temporary Variable\n",
    "    P = (b / (3.0 * a)) * -1                # Helper Temporary Variable\n",
    "\n",
    "    x1 = 2 * j * np.cos(k / 3.0) - (b / (3.0 * a))\n",
    "    x2 = L * (M + N) + P\n",
    "    x3 = L * (M - N) + P\n",
    "\n",
    "    return np.array([x1, x2, x3])           # Returning Real Roots as numpy array.\n",
    "# Helper function to return float value of f.\n",
    "def findF(a, b, c):\n",
    "    return ((3.0 * c / a) - ((b ** 2.0) / (a ** 2.0))) / 3.0\n",
    "\n",
    "\n",
    "# Helper function to return float value of g.\n",
    "def findG(a, b, c, d):\n",
    "    return (((2.0 * (b ** 3.0)) / (a ** 3.0)) - ((9.0 * b * c) / (a **2.0)) + (27.0 * d / a)) /27.0\n",
    "\n",
    "\n",
    "# Helper function to return float value of h.\n",
    "def findH(g, f):\n",
    "    return ((g ** 2.0) / 4.0 + (f ** 3.0) / 27.0)"
   ]
  },
  {
   "cell_type": "code",
   "execution_count": 6,
   "metadata": {},
   "outputs": [
    {
     "name": "stdout",
     "output_type": "stream",
     "text": [
      "/Users/hstrey/Documents/programming/fMRI-analysis/OxytocinRSData_new\n"
     ]
    }
   ],
   "source": [
    "currentdir = os.getcwd()\n",
    "datadir = os.path.join(currentdir,'OxytocinRSData_new')\n",
    "print(datadir)"
   ]
  },
  {
   "cell_type": "code",
   "execution_count": 10,
   "metadata": {},
   "outputs": [
    {
     "data": {
      "text/plain": [
       "['.DS_Store',\n",
       " 'Subject001.npy',\n",
       " 'Subject002.npy',\n",
       " 'Subject003.npy',\n",
       " 'Subject004.npy',\n",
       " 'Subject005.npy']"
      ]
     },
     "execution_count": 10,
     "metadata": {},
     "output_type": "execute_result"
    }
   ],
   "source": [
    "# get data files names\n",
    "datafilenames = os.listdir(datadir)\n",
    "datafilenames.sort()"
   ]
  },
  {
   "cell_type": "code",
   "execution_count": 12,
   "metadata": {},
   "outputs": [
    {
     "name": "stdout",
     "output_type": "stream",
     "text": [
      "(748, 32)\n"
     ]
    }
   ],
   "source": [
    "time_series = np.load(os.path.join(datadir,datafilenames[1]),allow_pickle=True)\n",
    "print(time_series.shape)"
   ]
  },
  {
   "cell_type": "code",
   "execution_count": 13,
   "metadata": {},
   "outputs": [],
   "source": [
    "# 748 = 2x2x11x17 so splitting it up into chuncks of 44 is a good idea\n",
    "WINDOW_LENGTH =44\n",
    "num = int((time_series.shape[0] - 1 - \\\n",
    "               (time_series.shape[0] - 1) % WINDOW_LENGTH) /\n",
    "              WINDOW_LENGTH)\n",
    "indicies = np.linspace(WINDOW_LENGTH, num*WINDOW_LENGTH, num).astype(int)\n",
    "\n",
    "windows = np.split(time_series, indicies, axis=0)"
   ]
  },
  {
   "cell_type": "code",
   "execution_count": 18,
   "metadata": {},
   "outputs": [],
   "source": [
    "windows = np.array(windows)"
   ]
  },
  {
   "cell_type": "code",
   "execution_count": 19,
   "metadata": {},
   "outputs": [
    {
     "data": {
      "text/plain": [
       "(17, 44, 32)"
      ]
     },
     "execution_count": 19,
     "metadata": {},
     "output_type": "execute_result"
    }
   ],
   "source": [
    "windows.shape"
   ]
  },
  {
   "cell_type": "code",
   "execution_count": 20,
   "metadata": {},
   "outputs": [],
   "source": [
    "one = windows[0,:,:]\n",
    "two = windows[1,:,:]"
   ]
  },
  {
   "cell_type": "code",
   "execution_count": 94,
   "metadata": {},
   "outputs": [
    {
     "data": {
      "text/plain": [
       "array([[0., 0., 0.],\n",
       "       [1., 0., 0.],\n",
       "       [1., 1., 0.]])"
      ]
     },
     "execution_count": 94,
     "metadata": {},
     "output_type": "execute_result"
    }
   ],
   "source": [
    "np.tri(3,3,k=-1)"
   ]
  },
  {
   "cell_type": "code",
   "execution_count": 117,
   "metadata": {},
   "outputs": [
    {
     "name": "stdout",
     "output_type": "stream",
     "text": [
      "(44, 32, 32) (44, 32, 32) (44, 32, 32)\n"
     ]
    }
   ],
   "source": [
    "# we now need to create a 32x32 matrix of correlations\n",
    "b = np.repeat(one[:, :, np.newaxis], 32, axis=2)*np.tri(32,32,-1)\n",
    "c = np.repeat(one[:, :, np.newaxis], 32, axis=2).swapaxes(1,2)*np.tri(32,32,-1)\n",
    "mask = np.repeat(np.tri(32,32,-1)[np.newaxis,:, :],44,axis=0)\n",
    "print(b.shape,c.shape,mask.shape)"
   ]
  },
  {
   "cell_type": "code",
   "execution_count": 118,
   "metadata": {},
   "outputs": [
    {
     "data": {
      "text/plain": [
       "numpy.ma.core.MaskedArray"
      ]
     },
     "execution_count": 118,
     "metadata": {},
     "output_type": "execute_result"
    }
   ],
   "source": [
    "bm = ma.masked_array(b, mask=mask)\n",
    "cm = ma.masked_array(c, mask=mask)\n",
    "type(bm)"
   ]
  },
  {
   "cell_type": "code",
   "execution_count": 128,
   "metadata": {},
   "outputs": [],
   "source": [
    "y1 = b + c\n",
    "y2 = b - c"
   ]
  },
  {
   "cell_type": "code",
   "execution_count": 129,
   "metadata": {},
   "outputs": [],
   "source": [
    "def calcFundamentalStats(y):\n",
    "    ass = np.sum(y[1:-1]**2,axis=0)\n",
    "    aep = y[0]**2 + y[-1]**2\n",
    "    ac = np.sum(y[0:-1]*y[1:],axis=0)\n",
    "    return aep,ass,ac"
   ]
  },
  {
   "cell_type": "code",
   "execution_count": 73,
   "metadata": {},
   "outputs": [],
   "source": [
    "def calcBfromDataN(aep,ass,ac,N):\n",
    "    coef = np.array([(N-1)*ass,\n",
    "       (2.0-N)*ac,\n",
    "       -aep-(N+1)*ass,\n",
    "       N*ac])\n",
    "    b = cubicsolver(coef)\n",
    "    return b[2,:,:]"
   ]
  },
  {
   "cell_type": "code",
   "execution_count": 130,
   "metadata": {},
   "outputs": [
    {
     "name": "stdout",
     "output_type": "stream",
     "text": [
      "(32, 32) (32, 32) (32, 32)\n"
     ]
    }
   ],
   "source": [
    "aep1,ass1,ac1 = calcFundamentalStats(y1)\n",
    "aep2,ass2,ac2 = calcFundamentalStats(y2)\n",
    "print(ass1.shape,aep1.shape,ac1.shape)"
   ]
  },
  {
   "cell_type": "code",
   "execution_count": 61,
   "metadata": {},
   "outputs": [],
   "source": []
  },
  {
   "cell_type": "code",
   "execution_count": 131,
   "metadata": {},
   "outputs": [],
   "source": [
    "B1 = calcBfromDataN(aep1,ass1,ac1,44)\n",
    "B2 = calcBfromDataN(aep2,ass2,ac2,44)"
   ]
  },
  {
   "cell_type": "code",
   "execution_count": 104,
   "metadata": {},
   "outputs": [
    {
     "data": {
      "text/plain": [
       "(32, 32)"
      ]
     },
     "execution_count": 104,
     "metadata": {},
     "output_type": "execute_result"
    }
   ],
   "source": [
    "B1.shape"
   ]
  },
  {
   "cell_type": "code",
   "execution_count": 70,
   "metadata": {},
   "outputs": [],
   "source": [
    "def calcAfromB(B,aep,ass,ac):\n",
    "    Q=aep1/(1-B**2)\n",
    "    Q=Q+ass*(1+B**2)/(1-B**2)\n",
    "    Q=Q-ac*2*B/(1-B**2)\n",
    "    A = Q/N\n",
    "    P2A = -N/A**2/2\n",
    "    Btmp = B**2*(1+2*N)\n",
    "    tmp = (1+Btmp)*aep + (2*Btmp + N + 1 -B**4*(N-1))*ass - 2*B*(1+B**2+2*N)*ac\n",
    "    P2B = -tmp/((1-B**2)**2*(aep1 + (1+B**2)*ass - 2*B*ac))\n",
    "    PAB = (N-1)*B/A/(1-B**2)\n",
    "    dA = np.sqrt(-P2B/(P2A*P2B-PAB**2))\n",
    "    dB = np.sqrt(-P2A/(P2A*P2B-PAB**2))\n",
    "    return A,dA,dB"
   ]
  },
  {
   "cell_type": "code",
   "execution_count": 132,
   "metadata": {},
   "outputs": [],
   "source": [
    "A1,dA1,dB1 = calcAfromB(B1,aep1,ass1,ac1)\n",
    "A2,dA2,dB2 = calcAfromB(B2,aep2,ass2,ac2)"
   ]
  },
  {
   "cell_type": "code",
   "execution_count": 133,
   "metadata": {},
   "outputs": [],
   "source": [
    "Adiff = A1-A2"
   ]
  },
  {
   "cell_type": "code",
   "execution_count": 134,
   "metadata": {},
   "outputs": [],
   "source": [
    "C = np.where(Adiff>0,Adiff/A2,Adiff/A1)"
   ]
  },
  {
   "cell_type": "code",
   "execution_count": 135,
   "metadata": {},
   "outputs": [],
   "source": [
    "dC = np.where(Adiff>0,np.sqrt(dA1**2/A1**2 + A1**2*dA2**2/A2**4),np.sqrt(dA2**2/A1**2 + A2**2*dA1**2/A1**4))"
   ]
  },
  {
   "cell_type": "code",
   "execution_count": 142,
   "metadata": {},
   "outputs": [
    {
     "data": {
      "text/plain": [
       "array([[        nan,         nan,         nan, ...,         nan,\n",
       "                nan,         nan],\n",
       "       [-0.01008025,         nan,         nan, ...,         nan,\n",
       "                nan,         nan],\n",
       "       [-0.07917531,  2.48333215,         nan, ...,         nan,\n",
       "                nan,         nan],\n",
       "       ...,\n",
       "       [ 0.99915326,  0.11143428,  0.2220165 , ...,         nan,\n",
       "                nan,         nan],\n",
       "       [ 0.30345814, -0.29584338,  0.29894772, ...,  0.37308003,\n",
       "                nan,         nan],\n",
       "       [-0.20023392, -0.1609543 ,  0.47145325, ...,  0.14045303,\n",
       "         1.01829989,         nan]])"
      ]
     },
     "execution_count": 142,
     "metadata": {},
     "output_type": "execute_result"
    }
   ],
   "source": [
    "C"
   ]
  },
  {
   "cell_type": "code",
   "execution_count": 141,
   "metadata": {},
   "outputs": [
    {
     "data": {
      "text/plain": [
       "array([[       nan,        nan,        nan, ...,        nan,        nan,\n",
       "               nan],\n",
       "       [0.4287121 ,        nan,        nan, ...,        nan,        nan,\n",
       "               nan],\n",
       "       [0.40600708, 1.33738398,        nan, ...,        nan,        nan,\n",
       "               nan],\n",
       "       ...,\n",
       "       [0.75318171, 0.54084688, 0.77343743, ...,        nan,        nan,\n",
       "               nan],\n",
       "       [0.38156371, 0.47241831, 0.37336537, ..., 0.53120174,        nan,\n",
       "               nan],\n",
       "       [0.41311191, 0.56943747, 1.41862497, ..., 0.63444925, 0.51344271,\n",
       "               nan]])"
      ]
     },
     "execution_count": 141,
     "metadata": {},
     "output_type": "execute_result"
    }
   ],
   "source": [
    "dC"
   ]
  },
  {
   "cell_type": "code",
   "execution_count": null,
   "metadata": {},
   "outputs": [],
   "source": []
  }
 ],
 "metadata": {
  "kernelspec": {
   "display_name": "Python 3",
   "language": "python",
   "name": "python3"
  },
  "language_info": {
   "codemirror_mode": {
    "name": "ipython",
    "version": 3
   },
   "file_extension": ".py",
   "mimetype": "text/x-python",
   "name": "python",
   "nbconvert_exporter": "python",
   "pygments_lexer": "ipython3",
   "version": "3.7.9"
  }
 },
 "nbformat": 4,
 "nbformat_minor": 4
}
