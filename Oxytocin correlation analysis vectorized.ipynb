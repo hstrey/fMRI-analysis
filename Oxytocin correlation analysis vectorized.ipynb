{
 "cells": [
  {
   "cell_type": "code",
   "execution_count": 1,
   "metadata": {},
   "outputs": [
    {
     "name": "stdout",
     "output_type": "stream",
     "text": [
      "['Solarize_Light2', '_classic_test_patch', 'arviz-bluish', 'arviz-brownish', 'arviz-colors', 'arviz-cyanish', 'arviz-darkgrid', 'arviz-grayscale', 'arviz-greenish', 'arviz-orangish', 'arviz-plasmish', 'arviz-purplish', 'arviz-redish', 'arviz-royish', 'arviz-viridish', 'arviz-white', 'arviz-whitegrid', 'bmh', 'classic', 'dark_background', 'fast', 'fivethirtyeight', 'ggplot', 'grayscale', 'seaborn', 'seaborn-bright', 'seaborn-colorblind', 'seaborn-dark', 'seaborn-dark-palette', 'seaborn-darkgrid', 'seaborn-deep', 'seaborn-muted', 'seaborn-notebook', 'seaborn-paper', 'seaborn-pastel', 'seaborn-poster', 'seaborn-talk', 'seaborn-ticks', 'seaborn-white', 'seaborn-whitegrid', 'tableau-colorblind10']\n"
     ]
    }
   ],
   "source": [
    "import numpy as np\n",
    "import numpy.ma as ma\n",
    "import pymc3 as pm\n",
    "import theano.tensor as tt\n",
    "import os\n",
    "import csv\n",
    "import matplotlib.pyplot as plt\n",
    "from scipy.stats import pearsonr\n",
    "import multiprocessing as mp\n",
    "\n",
    "SMALL_SIZE = 16\n",
    "MEDIUM_SIZE = 18\n",
    "BIGGER_SIZE = 20\n",
    "\n",
    "plt.rc('font', size=SMALL_SIZE)          # controls default text sizes\n",
    "plt.rc('axes', titlesize=SMALL_SIZE)     # fontsize of the axes title\n",
    "plt.rc('axes', labelsize=MEDIUM_SIZE)    # fontsize of the x and y labels\n",
    "plt.rc('xtick', labelsize=SMALL_SIZE)    # fontsize of the tick labels\n",
    "plt.rc('ytick', labelsize=SMALL_SIZE)    # fontsize of the tick labels\n",
    "plt.rc('legend', fontsize=SMALL_SIZE)    # legend fontsize\n",
    "plt.rc('figure', titlesize=BIGGER_SIZE)  # fontsize of the figure title\n",
    "\n",
    "SEED = 350107321 # from random.org\n",
    "np.random.seed(SEED)\n",
    "\n",
    "print(plt.style.available)\n",
    "plt.style.use('seaborn-white')"
   ]
  },
  {
   "cell_type": "code",
   "execution_count": 2,
   "metadata": {},
   "outputs": [],
   "source": [
    "def cubicsolver(coef):\n",
    "    \n",
    "    a = coef[0]\n",
    "    b = coef[1]\n",
    "    c = coef[2]\n",
    "    d = coef[3]\n",
    "\n",
    "    f = findF(a, b, c)                          # Helper Temporary Variable\n",
    "    g = findG(a, b, c, d)                       # Helper Temporary Variable\n",
    "    h = findH(g, f)                             # Helper Temporary Variable\n",
    "\n",
    "    i = np.sqrt(((g ** 2.0) / 4.0) - h)   # Helper Temporary Variable\n",
    "    j = i ** (1 / 3.0)                      # Helper Temporary Variable\n",
    "    k = np.arccos(-(g / (2 * i)))           # Helper Temporary Variable\n",
    "    L = j * -1                              # Helper Temporary Variable\n",
    "    M = np.cos(k / 3.0)                   # Helper Temporary Variable\n",
    "    N = np.sqrt(3) * np.sin(k / 3.0)    # Helper Temporary Variable\n",
    "    P = (b / (3.0 * a)) * -1                # Helper Temporary Variable\n",
    "\n",
    "    x1 = 2 * j * np.cos(k / 3.0) - (b / (3.0 * a))\n",
    "    x2 = L * (M + N) + P\n",
    "    x3 = L * (M - N) + P\n",
    "\n",
    "    return np.array([x1, x2, x3])           # Returning Real Roots as numpy array.\n",
    "# Helper function to return float value of f.\n",
    "def findF(a, b, c):\n",
    "    return ((3.0 * c / a) - ((b ** 2.0) / (a ** 2.0))) / 3.0\n",
    "\n",
    "\n",
    "# Helper function to return float value of g.\n",
    "def findG(a, b, c, d):\n",
    "    return (((2.0 * (b ** 3.0)) / (a ** 3.0)) - ((9.0 * b * c) / (a **2.0)) + (27.0 * d / a)) /27.0\n",
    "\n",
    "\n",
    "# Helper function to return float value of h.\n",
    "def findH(g, f):\n",
    "    return ((g ** 2.0) / 4.0 + (f ** 3.0) / 27.0)"
   ]
  },
  {
   "cell_type": "code",
   "execution_count": 64,
   "metadata": {},
   "outputs": [],
   "source": [
    "def calcFundamentalStats(y):\n",
    "    ass = np.sum(y[1:-1]**2,axis=0)\n",
    "    aep = y[0]**2 + y[-1]**2\n",
    "    ac = np.sum(y[0:-1]*y[1:],axis=0)\n",
    "    return aep,ass,ac\n",
    "\n",
    "def calcBfromDataN(aep,ass,ac,N):\n",
    "    coef = np.array([(N-1)*ass,\n",
    "       (2.0-N)*ac,\n",
    "       -aep-(N+1)*ass,\n",
    "       N*ac])\n",
    "    b = cubicsolver(coef)\n",
    "    return b[2,:,:]\n",
    "\n",
    "def calcAfromB(B,aep,ass,ac,N):\n",
    "    Q=aep/(1-B**2)\n",
    "    Q=Q+ass*(1+B**2)/(1-B**2)\n",
    "    Q=Q-ac*2*B/(1-B**2)\n",
    "    A = Q/N\n",
    "    P2A = -N/A**2/2\n",
    "    Btmp = B**2*(1+2*N)\n",
    "    tmp = (1+Btmp)*aep + (2*Btmp + N + 1 -B**4*(N-1))*ass - 2*B*(1+B**2+2*N)*ac\n",
    "    P2B = -tmp/((1-B**2)**2*(aep + (1+B**2)*ass - 2*B*ac))\n",
    "    PAB = (N-1)*B/A/(1-B**2)\n",
    "    dA = np.sqrt(-P2B/(P2A*P2B-PAB**2))\n",
    "    dB = np.sqrt(-P2A/(P2A*P2B-PAB**2))\n",
    "    return A,dA,dB\n",
    "\n",
    "def calcCorr(windows,N,REGIONS):\n",
    "    corrC = []\n",
    "    corrdC = []\n",
    "    corrB1 = []\n",
    "    for m in windows:\n",
    "        x1 = np.repeat(m[:, :, np.newaxis], REGIONS, axis=2)\n",
    "        x2 = np.repeat(m[:, :, np.newaxis], REGIONS, axis=2).swapaxes(1,2)\n",
    "        y1 = x1 + x2\n",
    "        y2 = x1 - x2\n",
    "        aep1,ass1,ac1 = calcFundamentalStats(y1)\n",
    "        aep2,ass2,ac2 = calcFundamentalStats(y2)\n",
    "        B1 = calcBfromDataN(aep1,ass1,ac1,N)\n",
    "        B2 = calcBfromDataN(aep2,ass2,ac2,N)\n",
    "        A1,dA1,dB1 = calcAfromB(B1,aep1,ass1,ac1,N)\n",
    "        A2,dA2,dB2 = calcAfromB(B2,aep2,ass2,ac2,N)\n",
    "        Adiff = A1-A2\n",
    "        C = np.where(Adiff>0,Adiff/A2,Adiff/A1)\n",
    "        dC = np.where(Adiff>0,np.sqrt(dA1**2/A1**2 + A1**2*dA2**2/A2**4),np.sqrt(dA2**2/A1**2 + A2**2*dA1**2/A1**4))\n",
    "        corrC.append(C)\n",
    "        corrdC.append(dC)\n",
    "        corrB1.append(B1)\n",
    "    return corrC,corrdC,corrB1"
   ]
  },
  {
   "cell_type": "code",
   "execution_count": 3,
   "metadata": {},
   "outputs": [
    {
     "name": "stdout",
     "output_type": "stream",
     "text": [
      "/Users/hstrey/Documents/programming/fMRI-analysis/OxytocinRSData_new\n"
     ]
    }
   ],
   "source": [
    "currentdir = os.getcwd()\n",
    "datadir = os.path.join(currentdir,'OxytocinRSData_new')\n",
    "print(datadir)"
   ]
  },
  {
   "cell_type": "code",
   "execution_count": 4,
   "metadata": {},
   "outputs": [],
   "source": [
    "# get data files names\n",
    "datafilenames = os.listdir(datadir)\n",
    "datafilenames.sort()"
   ]
  },
  {
   "cell_type": "code",
   "execution_count": 5,
   "metadata": {},
   "outputs": [
    {
     "name": "stdout",
     "output_type": "stream",
     "text": [
      "(748, 32)\n"
     ]
    }
   ],
   "source": [
    "time_series = np.load(os.path.join(datadir,datafilenames[1]),allow_pickle=True)\n",
    "print(time_series.shape)"
   ]
  },
  {
   "cell_type": "code",
   "execution_count": 46,
   "metadata": {},
   "outputs": [],
   "source": [
    "# 748 = 2x2x11x17 so splitting it up into chuncks of 44 is a good idea\n",
    "WINDOW_LENGTH =44\n",
    "REGIONS = 32\n",
    "num = int((time_series.shape[0] - 1 - \\\n",
    "               (time_series.shape[0] - 1) % WINDOW_LENGTH) /\n",
    "              WINDOW_LENGTH)\n",
    "indicies = np.linspace(WINDOW_LENGTH, num*WINDOW_LENGTH, num).astype(int)\n",
    "\n",
    "windows = np.split(time_series, indicies, axis=0)"
   ]
  },
  {
   "cell_type": "code",
   "execution_count": 47,
   "metadata": {},
   "outputs": [
    {
     "data": {
      "text/plain": [
       "(44, 32)"
      ]
     },
     "execution_count": 47,
     "metadata": {},
     "output_type": "execute_result"
    }
   ],
   "source": [
    "windows[0].shape"
   ]
  },
  {
   "cell_type": "code",
   "execution_count": 65,
   "metadata": {},
   "outputs": [],
   "source": [
    "C,dC,B1 = calcCorr(windows,WINDOW_LENGTH,REGIONS)"
   ]
  },
  {
   "cell_type": "code",
   "execution_count": 66,
   "metadata": {},
   "outputs": [
    {
     "data": {
      "text/plain": [
       "array([[        nan, -0.10706633, -0.08582705, ...,  1.3621148 ,\n",
       "         0.30110848, -0.3113514 ],\n",
       "       [-0.10706633,         nan,  2.287269  , ..., -0.11149339,\n",
       "        -0.3324413 , -0.1119395 ],\n",
       "       [-0.08582705,  2.287269  ,         nan, ...,  0.4324632 ,\n",
       "         0.50511056,  1.2791337 ],\n",
       "       ...,\n",
       "       [ 1.3621148 , -0.11149339,  0.4324632 , ...,         nan,\n",
       "         0.64303637,  0.3700458 ],\n",
       "       [ 0.30110848, -0.3324413 ,  0.50511056, ...,  0.64303637,\n",
       "                nan,  2.549744  ],\n",
       "       [-0.3113514 , -0.1119395 ,  1.2791337 , ...,  0.3700458 ,\n",
       "         2.549744  ,         nan]], dtype=float32)"
      ]
     },
     "execution_count": 66,
     "metadata": {},
     "output_type": "execute_result"
    }
   ],
   "source": [
    "C[0]"
   ]
  },
  {
   "cell_type": "code",
   "execution_count": 67,
   "metadata": {},
   "outputs": [
    {
     "data": {
      "text/plain": [
       "array([[       nan, 0.4811523 , 0.40897566, ..., 0.79884464, 0.38116524,\n",
       "        0.4569949 ],\n",
       "       [0.4811523 ,        nan, 1.3479211 , ..., 0.6421299 , 0.4880559 ,\n",
       "        0.52075267],\n",
       "       [0.40897566, 1.3479211 ,        nan, ..., 0.6877656 , 0.4092623 ,\n",
       "        0.8124354 ],\n",
       "       ...,\n",
       "       [0.79884464, 0.6421299 , 0.6877656 , ...,        nan, 0.5636756 ,\n",
       "        0.5995009 ],\n",
       "       [0.38116524, 0.4880559 , 0.4092623 , ..., 0.5636756 ,        nan,\n",
       "        0.8185537 ],\n",
       "       [0.4569949 , 0.52075267, 0.8124354 , ..., 0.5995009 , 0.8185537 ,\n",
       "               nan]], dtype=float32)"
      ]
     },
     "execution_count": 67,
     "metadata": {},
     "output_type": "execute_result"
    }
   ],
   "source": [
    "dC[0]"
   ]
  },
  {
   "cell_type": "code",
   "execution_count": 61,
   "metadata": {},
   "outputs": [
    {
     "data": {
      "text/plain": [
       "array([[0.47190538, 0.6040477 , 0.4290861 , ..., 0.75656635, 0.20665708,\n",
       "        0.24578765],\n",
       "       [0.6040477 , 0.69512045, 0.5928725 , ..., 0.75271153, 0.37707984,\n",
       "        0.2998921 ],\n",
       "       [0.4290861 , 0.5928725 , 0.47767687, ..., 0.68811786, 0.18454611,\n",
       "        0.19061585],\n",
       "       ...,\n",
       "       [0.75656635, 0.75271153, 0.68811786, ..., 0.8216834 , 0.54425335,\n",
       "        0.5862237 ],\n",
       "       [0.20665708, 0.37707984, 0.18454611, ..., 0.54425335, 0.02299373,\n",
       "        0.18487445],\n",
       "       [0.24578765, 0.2998921 , 0.19061585, ..., 0.5862237 , 0.18487445,\n",
       "        0.17468265]], dtype=float32)"
      ]
     },
     "execution_count": 61,
     "metadata": {},
     "output_type": "execute_result"
    }
   ],
   "source": [
    "B1[0]"
   ]
  },
  {
   "cell_type": "code",
   "execution_count": 63,
   "metadata": {},
   "outputs": [
    {
     "data": {
      "text/plain": [
       "array([[1.9185606 , 1.4092203 , 0.9736981 , ..., 0.8687135 , 1.6152146 ,\n",
       "        1.2817225 ],\n",
       "       [1.4092203 , 1.7349426 , 1.4585032 , ..., 0.85254246, 1.2805864 ,\n",
       "        1.3689727 ],\n",
       "       [0.9736981 , 1.4585032 , 1.1296115 , ..., 0.903061  , 1.079182  ,\n",
       "        1.0356783 ],\n",
       "       ...,\n",
       "       [0.8687135 , 0.85254246, 0.903061  , ..., 3.2810636 , 0.5729598 ,\n",
       "        0.7897095 ],\n",
       "       [1.6152146 , 1.2805864 , 1.079182  , ..., 0.5729598 , 2.1465445 ,\n",
       "        1.9803836 ],\n",
       "       [1.2817225 , 1.3689727 , 1.0356783 , ..., 0.7897095 , 1.9803836 ,\n",
       "        3.1825545 ]], dtype=float32)"
      ]
     },
     "execution_count": 63,
     "metadata": {},
     "output_type": "execute_result"
    }
   ],
   "source": [
    "dA1"
   ]
  },
  {
   "cell_type": "code",
   "execution_count": null,
   "metadata": {},
   "outputs": [],
   "source": []
  }
 ],
 "metadata": {
  "kernelspec": {
   "display_name": "Python 3",
   "language": "python",
   "name": "python3"
  },
  "language_info": {
   "codemirror_mode": {
    "name": "ipython",
    "version": 3
   },
   "file_extension": ".py",
   "mimetype": "text/x-python",
   "name": "python",
   "nbconvert_exporter": "python",
   "pygments_lexer": "ipython3",
   "version": "3.7.9"
  }
 },
 "nbformat": 4,
 "nbformat_minor": 4
}
