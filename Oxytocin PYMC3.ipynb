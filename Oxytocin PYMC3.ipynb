{
 "cells": [
  {
   "cell_type": "code",
   "execution_count": 1,
   "metadata": {},
   "outputs": [
    {
     "name": "stdout",
     "output_type": "stream",
     "text": [
      "['Solarize_Light2', '_classic_test_patch', 'arviz-bluish', 'arviz-brownish', 'arviz-colors', 'arviz-cyanish', 'arviz-darkgrid', 'arviz-grayscale', 'arviz-greenish', 'arviz-orangish', 'arviz-plasmish', 'arviz-purplish', 'arviz-redish', 'arviz-royish', 'arviz-viridish', 'arviz-white', 'arviz-whitegrid', 'bmh', 'classic', 'dark_background', 'fast', 'fivethirtyeight', 'ggplot', 'grayscale', 'seaborn', 'seaborn-bright', 'seaborn-colorblind', 'seaborn-dark', 'seaborn-dark-palette', 'seaborn-darkgrid', 'seaborn-deep', 'seaborn-muted', 'seaborn-notebook', 'seaborn-paper', 'seaborn-pastel', 'seaborn-poster', 'seaborn-talk', 'seaborn-ticks', 'seaborn-white', 'seaborn-whitegrid', 'tableau-colorblind10']\n"
     ]
    }
   ],
   "source": [
    "import numpy as np\n",
    "import pymc3 as pm\n",
    "import theano.tensor as tt\n",
    "import os\n",
    "import csv\n",
    "import matplotlib.pyplot as plt\n",
    "from scipy.stats import pearsonr\n",
    "import multiprocessing as mp\n",
    "mp.set_start_method(\"fork\")\n",
    "\n",
    "SMALL_SIZE = 16\n",
    "MEDIUM_SIZE = 18\n",
    "BIGGER_SIZE = 20\n",
    "\n",
    "plt.rc('font', size=SMALL_SIZE)          # controls default text sizes\n",
    "plt.rc('axes', titlesize=SMALL_SIZE)     # fontsize of the axes title\n",
    "plt.rc('axes', labelsize=MEDIUM_SIZE)    # fontsize of the x and y labels\n",
    "plt.rc('xtick', labelsize=SMALL_SIZE)    # fontsize of the tick labels\n",
    "plt.rc('ytick', labelsize=SMALL_SIZE)    # fontsize of the tick labels\n",
    "plt.rc('legend', fontsize=SMALL_SIZE)    # legend fontsize\n",
    "plt.rc('figure', titlesize=BIGGER_SIZE)  # fontsize of the figure title\n",
    "\n",
    "SEED = 350107321 # from random.org\n",
    "np.random.seed(SEED)\n",
    "\n",
    "print(plt.style.available)\n",
    "plt.style.use('seaborn-white')"
   ]
  },
  {
   "cell_type": "code",
   "execution_count": 2,
   "metadata": {},
   "outputs": [],
   "source": [
    "class Ornstein_Uhlenbeck(pm.Continuous):\n",
    "    \"\"\"\n",
    "    Ornstein-Uhlenbeck Process\n",
    "    Parameters\n",
    "    ----------\n",
    "    B : tensor\n",
    "        B > 0, B = exp(-(D/A)*delta_t)\n",
    "    A : tensor\n",
    "        A > 0, amplitude of fluctuation <x**2>=A\n",
    "    delta_t: scalar\n",
    "        delta_t > 0, time step\n",
    "    \"\"\"\n",
    "    \n",
    "    def __init__(self, A=None, B=None,\n",
    "                 *args, **kwargs):\n",
    "        super(Ornstein_Uhlenbeck, self).__init__(*args, **kwargs)\n",
    "        self.A = A\n",
    "        self.B = B\n",
    "        self.mean = 0.\n",
    "    \n",
    "    def logp(self, x):\n",
    "        A = self.A\n",
    "        B = self.B\n",
    "        \n",
    "        x_im1 = x[:-1]\n",
    "        x_i = x[1:]\n",
    "        \n",
    "        ou_like = pm.Normal.dist(mu=x_im1*B, tau=1.0/A/(1-B**2)).logp(x_i)\n",
    "        return pm.Normal.dist(mu=0.0,tau=1.0/A).logp(x[0]) + tt.sum(ou_like)"
   ]
  },
  {
   "cell_type": "code",
   "execution_count": 3,
   "metadata": {},
   "outputs": [
    {
     "name": "stdout",
     "output_type": "stream",
     "text": [
      "/Users/hstrey/Documents/programming/fMRI-analysis/OxytocinRSData_new\n"
     ]
    }
   ],
   "source": [
    "currentdir = os.getcwd()\n",
    "datadir = os.path.join(currentdir,'OxytocinRSData_new')\n",
    "print(datadir)"
   ]
  },
  {
   "cell_type": "code",
   "execution_count": 4,
   "metadata": {},
   "outputs": [
    {
     "name": "stdout",
     "output_type": "stream",
     "text": [
      "['.DS_Store', 'Subject002.npy', 'Subject003.npy', 'Subject001.npy', 'Subject004.npy', 'Subject005.npy']\n"
     ]
    }
   ],
   "source": [
    "# get data files names\n",
    "datafilenames = os.listdir(datadir)\n",
    "print(datafilenames)"
   ]
  },
  {
   "cell_type": "code",
   "execution_count": 8,
   "metadata": {},
   "outputs": [
    {
     "name": "stdout",
     "output_type": "stream",
     "text": [
      "pearson:  0.7506121401513625\n"
     ]
    },
    {
     "name": "stderr",
     "output_type": "stream",
     "text": [
      "Auto-assigning NUTS sampler...\n",
      "Initializing NUTS using jitter+adapt_diag...\n",
      "Sequential sampling (1 chains in 1 job)\n",
      "NUTS: [D, A2, A1]\n"
     ]
    },
    {
     "data": {
      "text/html": [
       "\n",
       "    <div>\n",
       "        <style>\n",
       "            /* Turns off some styling */\n",
       "            progress {\n",
       "                /* gets rid of default border in Firefox and Opera. */\n",
       "                border: none;\n",
       "                /* Needs to be in here for Safari polyfill so background images work as expected. */\n",
       "                background-size: auto;\n",
       "            }\n",
       "            .progress-bar-interrupted, .progress-bar-interrupted::-webkit-progress-bar {\n",
       "                background: #F44336;\n",
       "            }\n",
       "        </style>\n",
       "      <progress value='12000' class='' max='12000' style='width:300px; height:20px; vertical-align: middle;'></progress>\n",
       "      100.00% [12000/12000 00:09<00:00 Sampling chain 0, 0 divergences]\n",
       "    </div>\n",
       "    "
      ],
      "text/plain": [
       "<IPython.core.display.HTML object>"
      ]
     },
     "metadata": {},
     "output_type": "display_data"
    },
    {
     "name": "stderr",
     "output_type": "stream",
     "text": [
      "Sampling 1 chain for 2_000 tune and 10_000 draw iterations (2_000 + 10_000 draws total) took 9 seconds.\n",
      "Only one chain was sampled, this makes it impossible to run some convergence checks\n"
     ]
    },
    {
     "name": "stdout",
     "output_type": "stream",
     "text": [
      "predicted C:  6.189893316348661  +-  1.9454576742262022\n",
      "pearson:  0.7718491121830499\n"
     ]
    },
    {
     "name": "stderr",
     "output_type": "stream",
     "text": [
      "Auto-assigning NUTS sampler...\n",
      "Initializing NUTS using jitter+adapt_diag...\n",
      "Sequential sampling (1 chains in 1 job)\n",
      "NUTS: [D, A2, A1]\n"
     ]
    },
    {
     "data": {
      "text/html": [
       "\n",
       "    <div>\n",
       "        <style>\n",
       "            /* Turns off some styling */\n",
       "            progress {\n",
       "                /* gets rid of default border in Firefox and Opera. */\n",
       "                border: none;\n",
       "                /* Needs to be in here for Safari polyfill so background images work as expected. */\n",
       "                background-size: auto;\n",
       "            }\n",
       "            .progress-bar-interrupted, .progress-bar-interrupted::-webkit-progress-bar {\n",
       "                background: #F44336;\n",
       "            }\n",
       "        </style>\n",
       "      <progress value='12000' class='' max='12000' style='width:300px; height:20px; vertical-align: middle;'></progress>\n",
       "      100.00% [12000/12000 00:09<00:00 Sampling chain 0, 0 divergences]\n",
       "    </div>\n",
       "    "
      ],
      "text/plain": [
       "<IPython.core.display.HTML object>"
      ]
     },
     "metadata": {},
     "output_type": "display_data"
    },
    {
     "name": "stderr",
     "output_type": "stream",
     "text": [
      "Sampling 1 chain for 2_000 tune and 10_000 draw iterations (2_000 + 10_000 draws total) took 10 seconds.\n",
      "Only one chain was sampled, this makes it impossible to run some convergence checks\n"
     ]
    },
    {
     "name": "stdout",
     "output_type": "stream",
     "text": [
      "predicted C:  6.751083469444246  +-  1.8791494268792093\n",
      "pearson:  0.702623576186467\n"
     ]
    },
    {
     "name": "stderr",
     "output_type": "stream",
     "text": [
      "Auto-assigning NUTS sampler...\n",
      "Initializing NUTS using jitter+adapt_diag...\n",
      "Sequential sampling (1 chains in 1 job)\n",
      "NUTS: [D, A2, A1]\n"
     ]
    },
    {
     "data": {
      "text/html": [
       "\n",
       "    <div>\n",
       "        <style>\n",
       "            /* Turns off some styling */\n",
       "            progress {\n",
       "                /* gets rid of default border in Firefox and Opera. */\n",
       "                border: none;\n",
       "                /* Needs to be in here for Safari polyfill so background images work as expected. */\n",
       "                background-size: auto;\n",
       "            }\n",
       "            .progress-bar-interrupted, .progress-bar-interrupted::-webkit-progress-bar {\n",
       "                background: #F44336;\n",
       "            }\n",
       "        </style>\n",
       "      <progress value='12000' class='' max='12000' style='width:300px; height:20px; vertical-align: middle;'></progress>\n",
       "      100.00% [12000/12000 00:09<00:00 Sampling chain 0, 0 divergences]\n",
       "    </div>\n",
       "    "
      ],
      "text/plain": [
       "<IPython.core.display.HTML object>"
      ]
     },
     "metadata": {},
     "output_type": "display_data"
    },
    {
     "name": "stderr",
     "output_type": "stream",
     "text": [
      "Sampling 1 chain for 2_000 tune and 10_000 draw iterations (2_000 + 10_000 draws total) took 9 seconds.\n",
      "Only one chain was sampled, this makes it impossible to run some convergence checks\n"
     ]
    },
    {
     "name": "stdout",
     "output_type": "stream",
     "text": [
      "predicted C:  4.652435056346652  +-  1.0543893703537082\n",
      "pearson:  0.6391762044442496\n"
     ]
    },
    {
     "name": "stderr",
     "output_type": "stream",
     "text": [
      "Auto-assigning NUTS sampler...\n",
      "Initializing NUTS using jitter+adapt_diag...\n",
      "Sequential sampling (1 chains in 1 job)\n",
      "NUTS: [D, A2, A1]\n"
     ]
    },
    {
     "data": {
      "text/html": [
       "\n",
       "    <div>\n",
       "        <style>\n",
       "            /* Turns off some styling */\n",
       "            progress {\n",
       "                /* gets rid of default border in Firefox and Opera. */\n",
       "                border: none;\n",
       "                /* Needs to be in here for Safari polyfill so background images work as expected. */\n",
       "                background-size: auto;\n",
       "            }\n",
       "            .progress-bar-interrupted, .progress-bar-interrupted::-webkit-progress-bar {\n",
       "                background: #F44336;\n",
       "            }\n",
       "        </style>\n",
       "      <progress value='12000' class='' max='12000' style='width:300px; height:20px; vertical-align: middle;'></progress>\n",
       "      100.00% [12000/12000 00:08<00:00 Sampling chain 0, 0 divergences]\n",
       "    </div>\n",
       "    "
      ],
      "text/plain": [
       "<IPython.core.display.HTML object>"
      ]
     },
     "metadata": {},
     "output_type": "display_data"
    },
    {
     "name": "stderr",
     "output_type": "stream",
     "text": [
      "Sampling 1 chain for 2_000 tune and 10_000 draw iterations (2_000 + 10_000 draws total) took 9 seconds.\n",
      "Only one chain was sampled, this makes it impossible to run some convergence checks\n"
     ]
    },
    {
     "name": "stdout",
     "output_type": "stream",
     "text": [
      "predicted C:  3.555308307438049  +-  0.8306682874634944\n",
      "pearson:  0.7633386931686749\n"
     ]
    },
    {
     "name": "stderr",
     "output_type": "stream",
     "text": [
      "Auto-assigning NUTS sampler...\n",
      "Initializing NUTS using jitter+adapt_diag...\n",
      "Sequential sampling (1 chains in 1 job)\n",
      "NUTS: [D, A2, A1]\n"
     ]
    },
    {
     "data": {
      "text/html": [
       "\n",
       "    <div>\n",
       "        <style>\n",
       "            /* Turns off some styling */\n",
       "            progress {\n",
       "                /* gets rid of default border in Firefox and Opera. */\n",
       "                border: none;\n",
       "                /* Needs to be in here for Safari polyfill so background images work as expected. */\n",
       "                background-size: auto;\n",
       "            }\n",
       "            .progress-bar-interrupted, .progress-bar-interrupted::-webkit-progress-bar {\n",
       "                background: #F44336;\n",
       "            }\n",
       "        </style>\n",
       "      <progress value='12000' class='' max='12000' style='width:300px; height:20px; vertical-align: middle;'></progress>\n",
       "      100.00% [12000/12000 00:09<00:00 Sampling chain 0, 0 divergences]\n",
       "    </div>\n",
       "    "
      ],
      "text/plain": [
       "<IPython.core.display.HTML object>"
      ]
     },
     "metadata": {},
     "output_type": "display_data"
    },
    {
     "name": "stderr",
     "output_type": "stream",
     "text": [
      "Sampling 1 chain for 2_000 tune and 10_000 draw iterations (2_000 + 10_000 draws total) took 9 seconds.\n",
      "Only one chain was sampled, this makes it impossible to run some convergence checks\n"
     ]
    },
    {
     "name": "stdout",
     "output_type": "stream",
     "text": [
      "predicted C:  5.603778947850656  +-  1.0049862446128919\n"
     ]
    }
   ],
   "source": [
    "a_bound = 20\n",
    "delta_t = 0.802\n",
    "results = None\n",
    "for datafilename in datafilenames:\n",
    "    if datafilename.endswith('.npy'):\n",
    "        time_series = np.load(os.path.join(datadir,datafilename),allow_pickle=True)\n",
    "    else:\n",
    "        continue\n",
    "    mpfc = time_series[:,0]\n",
    "    llp = time_series[:,1]\n",
    "    rlp = time_series[:,2]\n",
    "    pcc = time_series[:,3]\n",
    "    \n",
    "    x1 = llp\n",
    "    x2 = rlp\n",
    "    \n",
    "    x1 = x1/x1.std()\n",
    "    x2 = x2/x2.std()\n",
    "    \n",
    "    prho = pearsonr(x1,x2)[0]\n",
    "    print(\"pearson: \",prho)\n",
    "    \n",
    "    coupling = 2*np.abs(prho)/(1-np.abs(prho))*np.sign(prho)\n",
    "\n",
    "    y1 = x1 + x2\n",
    "    y2 = x1 - x2\n",
    "    with pm.Model() as model:\n",
    "        A1 = pm.Uniform('A1', lower=0, upper=a_bound)\n",
    "        A2 = pm.Uniform('A2', lower=0, upper=a_bound)\n",
    "        D = pm.Uniform('D',lower=0,upper=20)\n",
    "            \n",
    "        B1 = pm.Deterministic('B1',pm.math.exp(-delta_t * D / A1))\n",
    "        B2 = pm.Deterministic('B2',pm.math.exp(-delta_t * D / A2))\n",
    "                                \n",
    "        path1 = Ornstein_Uhlenbeck('path1',A=A1, B=B1,shape=len(y1),observed=y1)\n",
    "        path2 = Ornstein_Uhlenbeck('path2',A=A2, B=B2,shape=len(y2),observed=y2)\n",
    "                                \n",
    "        trace = pm.sample(10000,tune=2000,chains=1,cores=1)\n",
    "\n",
    "    A1_trace = trace['A1']\n",
    "    A2_trace = trace['A2']\n",
    "    A1_mean = np.mean(A1_trace)\n",
    "    A2_mean = np.mean(A2_trace)\n",
    "    dA1 = np.std(A1_trace)\n",
    "    dA2 = np.std(A2_trace)\n",
    "    \n",
    "    D_trace = trace['D']\n",
    "    D_mean = np.mean(D_trace)\n",
    "    dD = np.std(D_trace)\n",
    "\n",
    "    dA1A2 = np.cov(A1_trace,A2_trace)[0,1]\n",
    "    dA1D = np.cov(A1_trace,D_trace)[0,1]\n",
    "    dA2D = np.cov(A2_trace,D_trace)[0,1]\n",
    "    \n",
    "    C_trace = (A1_trace-A2_trace)/A2_trace\n",
    "    C_mean = np.mean(C_trace)\n",
    "    dC = np.std(C_trace)\n",
    "\n",
    "    print(\"predicted C: \",C_mean,\" +- \",dC)\n",
    "\n",
    "    if results is None:\n",
    "        results = [coupling,\n",
    "                   prho,\n",
    "                   C_mean,\n",
    "                   dC,\n",
    "                   A1_mean,\n",
    "                   dA1,\n",
    "                   A2_mean,\n",
    "                   dA2,\n",
    "                   D_mean,\n",
    "                   dD,\n",
    "                   dA1A2,\n",
    "                   dA1D,\n",
    "                   dA2D,\n",
    "                   C_mean,\n",
    "                   dC\n",
    "                   ]\n",
    "    else:\n",
    "        results = np.vstack((results,\n",
    "                   [coupling,\n",
    "                   prho,\n",
    "                   C_mean,\n",
    "                   dC,\n",
    "                   A1_mean,\n",
    "                   dA1,\n",
    "                   A2_mean,\n",
    "                   dA2,\n",
    "                   D_mean,\n",
    "                   dD,\n",
    "                   dA1A2,\n",
    "                   dA1D,\n",
    "                   dA2D,\n",
    "                   C_mean,\n",
    "                   dC\n",
    "                   ]))"
   ]
  },
  {
   "cell_type": "code",
   "execution_count": 6,
   "metadata": {},
   "outputs": [
    {
     "data": {
      "text/plain": [
       "array([3.47861449, 1.61494823, 2.06746938, 2.25521387, 4.03502333])"
      ]
     },
     "execution_count": 6,
     "metadata": {},
     "output_type": "execute_result"
    }
   ],
   "source": [
    "x = ['1','2','3','4','5','mean']\n",
    "results.T[2]"
   ]
  },
  {
   "cell_type": "code",
   "execution_count": 10,
   "metadata": {},
   "outputs": [
    {
     "name": "stderr",
     "output_type": "stream",
     "text": [
      "/opt/miniconda3/envs/pymc3/lib/python3.7/site-packages/ipykernel_launcher.py:6: MatplotlibDeprecationWarning: savefig() got unexpected keyword argument \"backgroundcolor\" which is no longer supported as of 3.3 and will become an error two minor releases later\n",
      "  \n"
     ]
    },
    {
     "data": {
      "image/png": "[encoded data removed]",
      "text/plain": [
       "<Figure size 432x288 with 1 Axes>"
      ]
     },
     "metadata": {},
     "output_type": "display_data"
    }
   ],
   "source": [
    "plt.errorbar(x,np.append(results.T[2],[results.T[2].mean()]),\n",
    "                         yerr=np.append(results.T[3],[results.T[2].std()]),fmt=\"o\",color=\"k\")\n",
    "plt.title(\"LLP:RLP\")\n",
    "plt.ylabel(\"Coupling strength C\")\n",
    "plt.xlabel(\"Subject\")\n",
    "plt.savefig(\"llp_rlpMCMC.png\",format='png',dpi=300,bbox_inches='tight',facecolor=\"white\",backgroundcolor=\"white\")"
   ]
  },
  {
   "cell_type": "code",
   "execution_count": null,
   "metadata": {},
   "outputs": [],
   "source": []
  }
 ],
 "metadata": {
  "kernelspec": {
   "display_name": "Python 3",
   "language": "python",
   "name": "python3"
  },
  "language_info": {
   "codemirror_mode": {
    "name": "ipython",
    "version": 3
   },
   "file_extension": ".py",
   "mimetype": "text/x-python",
   "name": "python",
   "nbconvert_exporter": "python",
   "pygments_lexer": "ipython3",
   "version": "3.7.9"
  }
 },
 "nbformat": 4,
 "nbformat_minor": 4
}
