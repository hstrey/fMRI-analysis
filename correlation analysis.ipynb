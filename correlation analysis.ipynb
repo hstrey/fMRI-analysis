{
 "cells": [
  {
   "cell_type": "code",
   "execution_count": 1,
   "metadata": {},
   "outputs": [
    {
     "name": "stdout",
     "output_type": "stream",
     "text": [
      "['Solarize_Light2', '_classic_test_patch', 'bmh', 'classic', 'dark_background', 'fast', 'fivethirtyeight', 'ggplot', 'grayscale', 'seaborn', 'seaborn-bright', 'seaborn-colorblind', 'seaborn-dark', 'seaborn-dark-palette', 'seaborn-darkgrid', 'seaborn-deep', 'seaborn-muted', 'seaborn-notebook', 'seaborn-paper', 'seaborn-pastel', 'seaborn-poster', 'seaborn-talk', 'seaborn-ticks', 'seaborn-white', 'seaborn-whitegrid', 'tableau-colorblind10']\n"
     ]
    }
   ],
   "source": [
    "import numpy as np\n",
    "import os\n",
    "import csv\n",
    "import pandas as pd\n",
    "import matplotlib.pyplot as plt\n",
    "from scipy.stats import pearsonr\n",
    "import multiprocessing as mp\n",
    "from oucorr import calcCorr, calcSingleCorr\n",
    "import itertools\n",
    "import glob\n",
    "\n",
    "\n",
    "SMALL_SIZE = 16\n",
    "MEDIUM_SIZE = 18\n",
    "BIGGER_SIZE = 20\n",
    "\n",
    "plt.rc('font', size=SMALL_SIZE)          # controls default text sizes\n",
    "plt.rc('axes', titlesize=SMALL_SIZE)     # fontsize of the axes title\n",
    "plt.rc('axes', labelsize=MEDIUM_SIZE)    # fontsize of the x and y labels\n",
    "plt.rc('xtick', labelsize=SMALL_SIZE)    # fontsize of the tick labels\n",
    "plt.rc('ytick', labelsize=SMALL_SIZE)    # fontsize of the tick labels\n",
    "plt.rc('legend', fontsize=SMALL_SIZE)    # legend fontsize\n",
    "plt.rc('figure', titlesize=BIGGER_SIZE)  # fontsize of the figure title\n",
    "\n",
    "SEED = 350107321 # from random.org\n",
    "np.random.seed(SEED)\n",
    "\n",
    "print(plt.style.available)\n",
    "plt.style.use('seaborn-white')"
   ]
  },
  {
   "cell_type": "code",
   "execution_count": 5,
   "metadata": {},
   "outputs": [
    {
     "data": {
      "text/plain": [
       "['results/connectivity/sub-052_ses-bhb_task-rest_run-1_CdCB.npz',\n",
       " 'results/connectivity/sub-047_ses-bhb_task-task_run-1_CdCB.npz',\n",
       " 'results/connectivity/sub-029_ses-bhb_task-task_run-1_CdCB.npz',\n",
       " 'results/connectivity/sub-093_ses-bhb_task-task_run-1_CdCB.npz',\n",
       " 'results/connectivity/sub-082_ses-bhb_task-rest_run-1_CdCB.npz',\n",
       " 'results/connectivity/sub-010_ses-bhb_task-rest_run-1_CdCB.npz',\n",
       " 'results/connectivity/sub-056_ses-bhb_task-rest_run-1_CdCB.npz',\n",
       " 'results/connectivity/sub-041_ses-bhb_task-rest_run-1_CdCB.npz',\n",
       " 'results/connectivity/sub-084_ses-bhb_task-task_run-1_CdCB.npz',\n",
       " 'results/connectivity/sub-054_ses-bhb_task-task_run-1_CdCB.npz',\n",
       " 'results/connectivity/sub-080_ses-bhb_task-task_run-1_CdCB.npz',\n",
       " 'results/connectivity/sub-091_ses-bhb_task-rest_run-1_CdCB.npz',\n",
       " 'results/connectivity/sub-045_ses-bhb_task-rest_run-1_CdCB.npz',\n",
       " 'results/connectivity/sub-064_ses-bhb_task-task_run-1_CdCB.npz',\n",
       " 'results/connectivity/sub-048_ses-bhb_task-task_run-1_CdCB.npz',\n",
       " 'results/connectivity/sub-060_ses-bhb_task-task_run-1_CdCB.npz',\n",
       " 'results/connectivity/sub-071_ses-bhb_task-rest_run-1_CdCB.npz',\n",
       " 'results/connectivity/sub-020_ses-bhb_task-rest_run-1_CdCB.npz',\n",
       " 'results/connectivity/sub-035_ses-bhb_task-task_run-1_CdCB.npz',\n",
       " 'results/connectivity/sub-062_ses-bhb_task-rest_run-1_CdCB.npz',\n",
       " 'results/connectivity/sub-044_ses-bhb_task-rest_run-1_CdCB.npz',\n",
       " 'results/connectivity/sub-006_ses-bhb_task-rest_run-1_CdCB.npz',\n",
       " 'results/connectivity/sub-068_ses-bhb_task-rest_run-1_CdCB.npz',\n",
       " 'results/connectivity/sub-094_ses-bhb_task-rest_run-1_CdCB.npz',\n",
       " 'results/connectivity/sub-085_ses-bhb_task-task_run-1_CdCB.npz',\n",
       " 'results/connectivity/sub-079_ses-bhb_task-task_run-1_CdCB.npz',\n",
       " 'results/connectivity/sub-051_ses-bhb_task-task_run-1_CdCB.npz',\n",
       " 'results/connectivity/sub-092_ses-bhb_task-task_run-1_CdCB.npz',\n",
       " 'results/connectivity/sub-057_ses-bhb_task-rest_run-1_CdCB.npz',\n",
       " 'results/connectivity/sub-011_ses-bhb_task-rest_run-1_CdCB.npz',\n",
       " 'results/connectivity/sub-015_ses-bhb_task-rest_run-1_CdCB.npz',\n",
       " 'results/connectivity/sub-053_ses-bhb_task-rest_run-1_CdCB.npz',\n",
       " 'results/connectivity/sub-042_ses-bhb_task-task_run-1_CdCB.npz',\n",
       " 'results/connectivity/sub-072_ses-bhb_task-task_run-1_CdCB.npz',\n",
       " 'results/connectivity/sub-034_ses-bhb_task-task_run-1_CdCB.npz',\n",
       " 'results/connectivity/sub-025_ses-bhb_task-rest_run-1_CdCB.npz',\n",
       " 'results/connectivity/sub-067_ses-bhb_task-rest_run-1_CdCB.npz',\n",
       " 'results/connectivity/sub-076_ses-bhb_task-task_run-1_CdCB.npz',\n",
       " 'results/connectivity/sub-049_ses-bhb_task-task_run-1_CdCB.npz',\n",
       " 'results/connectivity/sub-027_ses-bhb_task-task_run-1_CdCB.npz',\n",
       " 'results/connectivity/sub-061_ses-bhb_task-task_run-1_CdCB.npz',\n",
       " 'results/connectivity/sub-058_ses-bhb_task-rest_run-1_CdCB.npz',\n",
       " 'results/connectivity/sub-023_ses-bhb_task-task_run-1_CdCB.npz',\n",
       " 'results/connectivity/sub-027_ses-glc_task-rest_run-1_CdCB.npz',\n",
       " 'results/connectivity/sub-061_ses-glc_task-rest_run-1_CdCB.npz',\n",
       " 'results/connectivity/sub-049_ses-glc_task-rest_run-1_CdCB.npz',\n",
       " 'results/connectivity/sub-070_ses-glc_task-task_run-1_CdCB.npz',\n",
       " 'results/connectivity/sub-023_ses-glc_task-rest_run-1_CdCB.npz',\n",
       " 'results/connectivity/sub-072_ses-glc_task-rest_run-1_CdCB.npz',\n",
       " 'results/connectivity/sub-034_ses-glc_task-rest_run-1_CdCB.npz',\n",
       " 'results/connectivity/sub-063_ses-glc_task-task_run-1_CdCB.npz',\n",
       " 'results/connectivity/sub-076_ses-glc_task-rest_run-1_CdCB.npz',\n",
       " 'results/connectivity/sub-028_ses-glc_task-rest_run-1_CdCB.npz',\n",
       " 'results/connectivity/sub-092_ses-glc_task-rest_run-1_CdCB.npz',\n",
       " 'results/connectivity/sub-046_ses-glc_task-rest_run-1_CdCB.npz',\n",
       " 'results/connectivity/sub-057_ses-glc_task-task_run-1_CdCB.npz',\n",
       " 'results/connectivity/sub-053_ses-glc_task-task_run-1_CdCB.npz',\n",
       " 'results/connectivity/sub-013_ses-glc_task-rest_run-1_CdCB.npz',\n",
       " 'results/connectivity/sub-044_ses-glc_task-task_run-1_CdCB.npz',\n",
       " 'results/connectivity/sub-090_ses-glc_task-task_run-1_CdCB.npz',\n",
       " 'results/connectivity/sub-068_ses-glc_task-task_run-1_CdCB.npz',\n",
       " 'results/connectivity/sub-085_ses-glc_task-rest_run-1_CdCB.npz',\n",
       " 'results/connectivity/sub-079_ses-glc_task-rest_run-1_CdCB.npz',\n",
       " 'results/connectivity/sub-066_ses-glc_task-task_run-1_CdCB.npz',\n",
       " 'results/connectivity/sub-019_ses-glc_task-rest_run-1_CdCB.npz',\n",
       " 'results/connectivity/sub-035_ses-glc_task-rest_run-1_CdCB.npz',\n",
       " 'results/connectivity/sub-075_ses-glc_task-task_run-1_CdCB.npz',\n",
       " 'results/connectivity/sub-064_ses-glc_task-rest_run-1_CdCB.npz',\n",
       " 'results/connectivity/sub-060_ses-glc_task-rest_run-1_CdCB.npz',\n",
       " 'results/connectivity/sub-048_ses-glc_task-rest_run-1_CdCB.npz',\n",
       " 'results/connectivity/sub-059_ses-glc_task-task_run-1_CdCB.npz',\n",
       " 'results/connectivity/sub-037_ses-glc_task-task_run-1_CdCB.npz',\n",
       " 'results/connectivity/sub-095_ses-glc_task-task_run-1_CdCB.npz',\n",
       " 'results/connectivity/sub-041_ses-glc_task-task_run-1_CdCB.npz',\n",
       " 'results/connectivity/sub-084_ses-glc_task-rest_run-1_CdCB.npz',\n",
       " 'results/connectivity/sub-080_ses-glc_task-rest_run-1_CdCB.npz',\n",
       " 'results/connectivity/sub-012_ses-glc_task-rest_run-1_CdCB.npz',\n",
       " 'results/connectivity/sub-045_ses-glc_task-task_run-1_CdCB.npz',\n",
       " 'results/connectivity/sub-052_ses-glc_task-task_run-1_CdCB.npz',\n",
       " 'results/connectivity/sub-093_ses-glc_task-rest_run-1_CdCB.npz',\n",
       " 'results/connectivity/sub-056_ses-glc_task-task_run-1_CdCB.npz',\n",
       " 'results/connectivity/sub-082_ses-glc_task-task_run-1_CdCB.npz']"
      ]
     },
     "execution_count": 5,
     "metadata": {},
     "output_type": "execute_result"
    }
   ],
   "source": [
    "filenames_bhb = glob.glob(\"results/connectivity/*bhb*run-1*\")\n",
    "filenames_glc = glob.glob(\"results/connectivity/*glc*run-1*\")\n",
    "filenames = filenames_bhb + filenames_glc\n",
    "filenames"
   ]
  },
  {
   "cell_type": "code",
   "execution_count": 15,
   "metadata": {},
   "outputs": [
    {
     "data": {
      "text/plain": [
       "array([[0., 0., 0., ..., 0., 0., 0.],\n",
       "       [1., 0., 0., ..., 0., 0., 0.],\n",
       "       [1., 1., 0., ..., 0., 0., 0.],\n",
       "       ...,\n",
       "       [1., 1., 1., ..., 0., 0., 0.],\n",
       "       [1., 1., 1., ..., 1., 0., 0.],\n",
       "       [1., 1., 1., ..., 1., 1., 0.]])"
      ]
     },
     "execution_count": 15,
     "metadata": {},
     "output_type": "execute_result"
    }
   ],
   "source": [
    "# 720 = 24x30 so splitting it up into chuncks of 30 is a good idea\n",
    "WINDOW_LENGTH = 30\n",
    "REGIONS = 498\n",
    "\n",
    "np.tri(REGIONS,k=-1)"
   ]
  },
  {
   "cell_type": "code",
   "execution_count": 18,
   "metadata": {},
   "outputs": [
    {
     "name": "stdout",
     "output_type": "stream",
     "text": [
      "(79, 123753) (79, 123753) (79, 123753)\n"
     ]
    }
   ],
   "source": [
    "# make one big list\n",
    "C_list = []\n",
    "dC_list = []\n",
    "B_list = []\n",
    "for f in filenames:\n",
    "    data = np.load(f)\n",
    "    C = data['C']\n",
    "    dC = data['dC']\n",
    "    B = data['B']\n",
    "    if np.isnan(np.mean(C)) or np.isnan(np.mean(dC))  or np.isnan(np.mean(B)):\n",
    "        continue\n",
    "    Clower = (C * np.tri(REGIONS,k=-1)).flatten()\n",
    "    Clower = Clower[Clower!=0.]\n",
    "    dClower = (dC * np.tri(REGIONS,k=-1)).flatten()\n",
    "    dClower = dClower[dClower!=0.]\n",
    "    Blower = (B * np.tri(REGIONS,k=-1)).flatten()\n",
    "    Blower = Blower[Blower!=0.]\n",
    "    \n",
    "    C_list.append(Clower)\n",
    "    dC_list.append(dClower)\n",
    "    B_list.append(Blower)\n",
    "    \n",
    "C_all = np.array(C_list)\n",
    "dC_all = np.array(dC_list)\n",
    "B_all = np.array(B_list)\n",
    "print(C_all.shape,dC_all.shape,B_all.shape)"
   ]
  },
  {
   "cell_type": "code",
   "execution_count": 24,
   "metadata": {},
   "outputs": [
    {
     "name": "stdout",
     "output_type": "stream",
     "text": [
      "119.86369618810424\n",
      "-23.45793764056911\n"
     ]
    },
    {
     "data": {
      "image/png": "[encoded data removed]",
      "text/plain": [
       "<Figure size 432x288 with 1 Axes>"
      ]
     },
     "metadata": {},
     "output_type": "display_data"
    }
   ],
   "source": [
    "plt.hist(C_all.flatten(), bins=200)\n",
    "plt.xlim((-5,20))\n",
    "print(C_all.flatten().max())\n",
    "print(C_all.flatten().min())"
   ]
  },
  {
   "cell_type": "code",
   "execution_count": 26,
   "metadata": {},
   "outputs": [
    {
     "name": "stdout",
     "output_type": "stream",
     "text": [
      "32.47905689227572\n",
      "0.29808817382327457\n"
     ]
    },
    {
     "data": {
      "image/png": "[encoded data removed]",
      "text/plain": [
       "<Figure size 432x288 with 1 Axes>"
      ]
     },
     "metadata": {},
     "output_type": "display_data"
    }
   ],
   "source": [
    "plt.hist(dC_all.flatten(), bins=200)\n",
    "plt.xlim((0,5))\n",
    "print(dC_all.flatten().max())\n",
    "print(dC_all.flatten().min())"
   ]
  },
  {
   "cell_type": "code",
   "execution_count": 29,
   "metadata": {},
   "outputs": [
    {
     "name": "stdout",
     "output_type": "stream",
     "text": [
      "4.396402766716858\n",
      "2.3111968011061175e-07\n"
     ]
    },
    {
     "data": {
      "image/png": "[encoded data removed]",
      "text/plain": [
       "<Figure size 432x288 with 1 Axes>"
      ]
     },
     "metadata": {},
     "output_type": "display_data"
    }
   ],
   "source": [
    "stn = np.abs(C_all.flatten()/dC_all.flatten())\n",
    "plt.hist(stn, bins=200)\n",
    "plt.xlim((0,5))\n",
    "print(stn.max())\n",
    "print(stn.flatten().min())"
   ]
  },
  {
   "cell_type": "code",
   "execution_count": null,
   "metadata": {},
   "outputs": [],
   "source": []
  }
 ],
 "metadata": {
  "kernelspec": {
   "display_name": "Python 3",
   "language": "python",
   "name": "python3"
  },
  "language_info": {
   "codemirror_mode": {
    "name": "ipython",
    "version": 3
   },
   "file_extension": ".py",
   "mimetype": "text/x-python",
   "name": "python",
   "nbconvert_exporter": "python",
   "pygments_lexer": "ipython3",
   "version": "3.7.9"
  }
 },
 "nbformat": 4,
 "nbformat_minor": 4
}
