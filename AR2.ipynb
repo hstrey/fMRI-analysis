{
 "cells": [
  {
   "cell_type": "code",
   "execution_count": 1,
   "metadata": {},
   "outputs": [],
   "source": [
    "import statsmodels.api as sm\n",
    "\n",
    "class AR2(sm.tsa.statespace.MLEModel):\n",
    "    def __init__(self, endog):\n",
    "        # Initialize the state space model\n",
    "        super(AR2, self).__init__(endog, k_states=2, k_posdef=1, initialization='stationary')\n",
    "\n",
    "        # Setup the fixed components of the state space representation\n",
    "        self['design'] = [1, 0]\n",
    "        self['transition'] = [[0, 0],\n",
    "                                  [1, 0]]\n",
    "        self['selection', 0, 0] = 1\n",
    "\n",
    "    # Describe how parameters enter the model\n",
    "    def update(self, params, transformed=True, **kwargs):\n",
    "        params = super(AR2, self).update(params, transformed, **kwargs)\n",
    "\n",
    "        self['transition', 0, :] = params[:2]\n",
    "        self['state_cov', 0, 0] = params[2]\n",
    "\n",
    "    # Specify start parameters and parameter names\n",
    "    @property\n",
    "    def start_params(self):\n",
    "        return [0,0,1]  # these are very simple\n"
   ]
  },
  {
   "cell_type": "code",
   "execution_count": null,
   "metadata": {},
   "outputs": [],
   "source": []
  }
 ],
 "metadata": {
  "kernelspec": {
   "display_name": "Python 3",
   "language": "python",
   "name": "python3"
  },
  "language_info": {
   "codemirror_mode": {
    "name": "ipython",
    "version": 3
   },
   "file_extension": ".py",
   "mimetype": "text/x-python",
   "name": "python",
   "nbconvert_exporter": "python",
   "pygments_lexer": "ipython3",
   "version": "3.7.3"
  }
 },
 "nbformat": 4,
 "nbformat_minor": 4
}
