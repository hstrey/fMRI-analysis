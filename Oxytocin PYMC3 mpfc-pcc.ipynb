{
 "cells": [
  {
   "cell_type": "code",
   "execution_count": 1,
   "metadata": {},
   "outputs": [
    {
     "name": "stdout",
     "output_type": "stream",
     "text": [
      "['Solarize_Light2', '_classic_test_patch', 'arviz-bluish', 'arviz-brownish', 'arviz-colors', 'arviz-cyanish', 'arviz-darkgrid', 'arviz-grayscale', 'arviz-greenish', 'arviz-orangish', 'arviz-plasmish', 'arviz-purplish', 'arviz-redish', 'arviz-royish', 'arviz-viridish', 'arviz-white', 'arviz-whitegrid', 'bmh', 'classic', 'dark_background', 'fast', 'fivethirtyeight', 'ggplot', 'grayscale', 'seaborn', 'seaborn-bright', 'seaborn-colorblind', 'seaborn-dark', 'seaborn-dark-palette', 'seaborn-darkgrid', 'seaborn-deep', 'seaborn-muted', 'seaborn-notebook', 'seaborn-paper', 'seaborn-pastel', 'seaborn-poster', 'seaborn-talk', 'seaborn-ticks', 'seaborn-white', 'seaborn-whitegrid', 'tableau-colorblind10']\n"
     ]
    }
   ],
   "source": [
    "import numpy as np\n",
    "import pymc3 as pm\n",
    "import theano.tensor as tt\n",
    "import os\n",
    "import csv\n",
    "import matplotlib.pyplot as plt\n",
    "from scipy.stats import pearsonr\n",
    "import multiprocessing as mp\n",
    "mp.set_start_method(\"fork\")\n",
    "\n",
    "SMALL_SIZE = 16\n",
    "MEDIUM_SIZE = 18\n",
    "BIGGER_SIZE = 20\n",
    "\n",
    "plt.rc('font', size=SMALL_SIZE)          # controls default text sizes\n",
    "plt.rc('axes', titlesize=SMALL_SIZE)     # fontsize of the axes title\n",
    "plt.rc('axes', labelsize=MEDIUM_SIZE)    # fontsize of the x and y labels\n",
    "plt.rc('xtick', labelsize=SMALL_SIZE)    # fontsize of the tick labels\n",
    "plt.rc('ytick', labelsize=SMALL_SIZE)    # fontsize of the tick labels\n",
    "plt.rc('legend', fontsize=SMALL_SIZE)    # legend fontsize\n",
    "plt.rc('figure', titlesize=BIGGER_SIZE)  # fontsize of the figure title\n",
    "\n",
    "SEED = 350107321 # from random.org\n",
    "np.random.seed(SEED)\n",
    "\n",
    "print(plt.style.available)\n",
    "plt.style.use('seaborn-white')"
   ]
  },
  {
   "cell_type": "code",
   "execution_count": 2,
   "metadata": {},
   "outputs": [],
   "source": [
    "class Ornstein_Uhlenbeck(pm.Continuous):\n",
    "    \"\"\"\n",
    "    Ornstein-Uhlenbeck Process\n",
    "    Parameters\n",
    "    ----------\n",
    "    B : tensor\n",
    "        B > 0, B = exp(-(D/A)*delta_t)\n",
    "    A : tensor\n",
    "        A > 0, amplitude of fluctuation <x**2>=A\n",
    "    delta_t: scalar\n",
    "        delta_t > 0, time step\n",
    "    \"\"\"\n",
    "    \n",
    "    def __init__(self, A=None, B=None,\n",
    "                 *args, **kwargs):\n",
    "        super(Ornstein_Uhlenbeck, self).__init__(*args, **kwargs)\n",
    "        self.A = A\n",
    "        self.B = B\n",
    "        self.mean = 0.\n",
    "    \n",
    "    def logp(self, x):\n",
    "        A = self.A\n",
    "        B = self.B\n",
    "        \n",
    "        x_im1 = x[:-1]\n",
    "        x_i = x[1:]\n",
    "        \n",
    "        ou_like = pm.Normal.dist(mu=x_im1*B, tau=1.0/A/(1-B**2)).logp(x_i)\n",
    "        return pm.Normal.dist(mu=0.0,tau=1.0/A).logp(x[0]) + tt.sum(ou_like)"
   ]
  },
  {
   "cell_type": "code",
   "execution_count": 3,
   "metadata": {},
   "outputs": [
    {
     "name": "stdout",
     "output_type": "stream",
     "text": [
      "/Users/hstrey/Documents/programming/fMRI-analysis/OxytocinRSData_new\n"
     ]
    }
   ],
   "source": [
    "currentdir = os.getcwd()\n",
    "datadir = os.path.join(currentdir,'OxytocinRSData_new')\n",
    "print(datadir)"
   ]
  },
  {
   "cell_type": "code",
   "execution_count": 4,
   "metadata": {},
   "outputs": [
    {
     "name": "stdout",
     "output_type": "stream",
     "text": [
      "['.DS_Store', 'Subject002.npy', 'Subject003.npy', 'Subject001.npy', 'Subject004.npy', 'Subject005.npy']\n"
     ]
    }
   ],
   "source": [
    "# get data files names\n",
    "datafilenames = os.listdir(datadir)\n",
    "print(datafilenames)"
   ]
  },
  {
   "cell_type": "code",
   "execution_count": 17,
   "metadata": {},
   "outputs": [
    {
     "name": "stdout",
     "output_type": "stream",
     "text": [
      "pearson:  0.6036017556645469\n"
     ]
    },
    {
     "name": "stderr",
     "output_type": "stream",
     "text": [
      "Auto-assigning NUTS sampler...\n",
      "Initializing NUTS using jitter+adapt_diag...\n",
      "Sequential sampling (1 chains in 1 job)\n",
      "NUTS: [D, A2, A1]\n"
     ]
    },
    {
     "data": {
      "text/html": [
       "\n",
       "    <div>\n",
       "        <style>\n",
       "            /* Turns off some styling */\n",
       "            progress {\n",
       "                /* gets rid of default border in Firefox and Opera. */\n",
       "                border: none;\n",
       "                /* Needs to be in here for Safari polyfill so background images work as expected. */\n",
       "                background-size: auto;\n",
       "            }\n",
       "            .progress-bar-interrupted, .progress-bar-interrupted::-webkit-progress-bar {\n",
       "                background: #F44336;\n",
       "            }\n",
       "        </style>\n",
       "      <progress value='12000' class='' max='12000' style='width:300px; height:20px; vertical-align: middle;'></progress>\n",
       "      100.00% [12000/12000 00:10<00:00 Sampling chain 0, 0 divergences]\n",
       "    </div>\n",
       "    "
      ],
      "text/plain": [
       "<IPython.core.display.HTML object>"
      ]
     },
     "metadata": {},
     "output_type": "display_data"
    },
    {
     "name": "stderr",
     "output_type": "stream",
     "text": [
      "Sampling 1 chain for 2_000 tune and 10_000 draw iterations (2_000 + 10_000 draws total) took 11 seconds.\n",
      "Only one chain was sampled, this makes it impossible to run some convergence checks\n"
     ]
    },
    {
     "name": "stdout",
     "output_type": "stream",
     "text": [
      "predicted C:  3.2082750607594206  +-  1.1116663604825565\n",
      "pearson:  0.5650582261734228\n"
     ]
    },
    {
     "name": "stderr",
     "output_type": "stream",
     "text": [
      "Auto-assigning NUTS sampler...\n",
      "Initializing NUTS using jitter+adapt_diag...\n",
      "Sequential sampling (1 chains in 1 job)\n",
      "NUTS: [D, A2, A1]\n"
     ]
    },
    {
     "data": {
      "text/html": [
       "\n",
       "    <div>\n",
       "        <style>\n",
       "            /* Turns off some styling */\n",
       "            progress {\n",
       "                /* gets rid of default border in Firefox and Opera. */\n",
       "                border: none;\n",
       "                /* Needs to be in here for Safari polyfill so background images work as expected. */\n",
       "                background-size: auto;\n",
       "            }\n",
       "            .progress-bar-interrupted, .progress-bar-interrupted::-webkit-progress-bar {\n",
       "                background: #F44336;\n",
       "            }\n",
       "        </style>\n",
       "      <progress value='12000' class='' max='12000' style='width:300px; height:20px; vertical-align: middle;'></progress>\n",
       "      100.00% [12000/12000 00:11<00:00 Sampling chain 0, 0 divergences]\n",
       "    </div>\n",
       "    "
      ],
      "text/plain": [
       "<IPython.core.display.HTML object>"
      ]
     },
     "metadata": {},
     "output_type": "display_data"
    },
    {
     "name": "stderr",
     "output_type": "stream",
     "text": [
      "Sampling 1 chain for 2_000 tune and 10_000 draw iterations (2_000 + 10_000 draws total) took 12 seconds.\n",
      "The acceptance probability does not match the target. It is 0.882504815571466, but should be close to 0.8. Try to increase the number of tuning steps.\n",
      "Only one chain was sampled, this makes it impossible to run some convergence checks\n"
     ]
    },
    {
     "name": "stdout",
     "output_type": "stream",
     "text": [
      "predicted C:  3.014309401927169  +-  1.0748186694216608\n",
      "pearson:  0.38357339818990377\n"
     ]
    },
    {
     "name": "stderr",
     "output_type": "stream",
     "text": [
      "Auto-assigning NUTS sampler...\n",
      "Initializing NUTS using jitter+adapt_diag...\n",
      "Sequential sampling (1 chains in 1 job)\n",
      "NUTS: [D, A2, A1]\n"
     ]
    },
    {
     "data": {
      "text/html": [
       "\n",
       "    <div>\n",
       "        <style>\n",
       "            /* Turns off some styling */\n",
       "            progress {\n",
       "                /* gets rid of default border in Firefox and Opera. */\n",
       "                border: none;\n",
       "                /* Needs to be in here for Safari polyfill so background images work as expected. */\n",
       "                background-size: auto;\n",
       "            }\n",
       "            .progress-bar-interrupted, .progress-bar-interrupted::-webkit-progress-bar {\n",
       "                background: #F44336;\n",
       "            }\n",
       "        </style>\n",
       "      <progress value='12000' class='' max='12000' style='width:300px; height:20px; vertical-align: middle;'></progress>\n",
       "      100.00% [12000/12000 00:10<00:00 Sampling chain 0, 0 divergences]\n",
       "    </div>\n",
       "    "
      ],
      "text/plain": [
       "<IPython.core.display.HTML object>"
      ]
     },
     "metadata": {},
     "output_type": "display_data"
    },
    {
     "name": "stderr",
     "output_type": "stream",
     "text": [
      "Sampling 1 chain for 2_000 tune and 10_000 draw iterations (2_000 + 10_000 draws total) took 11 seconds.\n",
      "Only one chain was sampled, this makes it impossible to run some convergence checks\n"
     ]
    },
    {
     "name": "stdout",
     "output_type": "stream",
     "text": [
      "predicted C:  1.275784080213841  +-  0.4762957354021816\n",
      "pearson:  0.3187586421275483\n"
     ]
    },
    {
     "name": "stderr",
     "output_type": "stream",
     "text": [
      "Auto-assigning NUTS sampler...\n",
      "Initializing NUTS using jitter+adapt_diag...\n",
      "Sequential sampling (1 chains in 1 job)\n",
      "NUTS: [D, A2, A1]\n"
     ]
    },
    {
     "data": {
      "text/html": [
       "\n",
       "    <div>\n",
       "        <style>\n",
       "            /* Turns off some styling */\n",
       "            progress {\n",
       "                /* gets rid of default border in Firefox and Opera. */\n",
       "                border: none;\n",
       "                /* Needs to be in here for Safari polyfill so background images work as expected. */\n",
       "                background-size: auto;\n",
       "            }\n",
       "            .progress-bar-interrupted, .progress-bar-interrupted::-webkit-progress-bar {\n",
       "                background: #F44336;\n",
       "            }\n",
       "        </style>\n",
       "      <progress value='12000' class='' max='12000' style='width:300px; height:20px; vertical-align: middle;'></progress>\n",
       "      100.00% [12000/12000 00:10<00:00 Sampling chain 0, 0 divergences]\n",
       "    </div>\n",
       "    "
      ],
      "text/plain": [
       "<IPython.core.display.HTML object>"
      ]
     },
     "metadata": {},
     "output_type": "display_data"
    },
    {
     "name": "stderr",
     "output_type": "stream",
     "text": [
      "Sampling 1 chain for 2_000 tune and 10_000 draw iterations (2_000 + 10_000 draws total) took 11 seconds.\n",
      "Only one chain was sampled, this makes it impossible to run some convergence checks\n"
     ]
    },
    {
     "name": "stdout",
     "output_type": "stream",
     "text": [
      "predicted C:  0.9678999868229481  +-  0.40033169219559933\n",
      "pearson:  0.4757290635358694\n"
     ]
    },
    {
     "name": "stderr",
     "output_type": "stream",
     "text": [
      "Auto-assigning NUTS sampler...\n",
      "Initializing NUTS using jitter+adapt_diag...\n",
      "Sequential sampling (1 chains in 1 job)\n",
      "NUTS: [D, A2, A1]\n"
     ]
    },
    {
     "data": {
      "text/html": [
       "\n",
       "    <div>\n",
       "        <style>\n",
       "            /* Turns off some styling */\n",
       "            progress {\n",
       "                /* gets rid of default border in Firefox and Opera. */\n",
       "                border: none;\n",
       "                /* Needs to be in here for Safari polyfill so background images work as expected. */\n",
       "                background-size: auto;\n",
       "            }\n",
       "            .progress-bar-interrupted, .progress-bar-interrupted::-webkit-progress-bar {\n",
       "                background: #F44336;\n",
       "            }\n",
       "        </style>\n",
       "      <progress value='12000' class='' max='12000' style='width:300px; height:20px; vertical-align: middle;'></progress>\n",
       "      100.00% [12000/12000 00:09<00:00 Sampling chain 0, 0 divergences]\n",
       "    </div>\n",
       "    "
      ],
      "text/plain": [
       "<IPython.core.display.HTML object>"
      ]
     },
     "metadata": {},
     "output_type": "display_data"
    },
    {
     "name": "stderr",
     "output_type": "stream",
     "text": [
      "Sampling 1 chain for 2_000 tune and 10_000 draw iterations (2_000 + 10_000 draws total) took 9 seconds.\n",
      "Only one chain was sampled, this makes it impossible to run some convergence checks\n"
     ]
    },
    {
     "name": "stdout",
     "output_type": "stream",
     "text": [
      "predicted C:  1.694565269115565  +-  0.4678197981700773\n"
     ]
    }
   ],
   "source": [
    "a_bound = 20\n",
    "delta_t = 0.802\n",
    "results = None\n",
    "for datafilename in datafilenames:\n",
    "    if datafilename.endswith('.npy'):\n",
    "        time_series = np.load(os.path.join(datadir,datafilename),allow_pickle=True)\n",
    "    else:\n",
    "        continue\n",
    "    mpfc = time_series[:,0]\n",
    "    llp = time_series[:,1]\n",
    "    rlp = time_series[:,2]\n",
    "    pcc = time_series[:,3]\n",
    "    \n",
    "    x1 = mpfc\n",
    "    x2 = pcc\n",
    "    \n",
    "    x1 = x1/x1.std()\n",
    "    x2 = x2/x2.std()\n",
    "    \n",
    "    prho = pearsonr(x1,x2)[0]\n",
    "    print(\"pearson: \",prho)\n",
    "    \n",
    "    coupling = 2*np.abs(prho)/(1-np.abs(prho))*np.sign(prho)\n",
    "\n",
    "    y1 = x1 + x2\n",
    "    y2 = x1 - x2\n",
    "    with pm.Model() as model:\n",
    "        A1 = pm.Uniform('A1', lower=0, upper=a_bound)\n",
    "        A2 = pm.Uniform('A2', lower=0, upper=a_bound)\n",
    "        D = pm.Uniform('D',lower=0,upper=20)\n",
    "            \n",
    "        B1 = pm.Deterministic('B1',pm.math.exp(-delta_t * D / A1))\n",
    "        B2 = pm.Deterministic('B2',pm.math.exp(-delta_t * D / A2))\n",
    "                                \n",
    "        path1 = Ornstein_Uhlenbeck('path1',A=A1, B=B1,shape=len(y1),observed=y1)\n",
    "        path2 = Ornstein_Uhlenbeck('path2',A=A2, B=B2,shape=len(y2),observed=y2)\n",
    "                                \n",
    "        trace = pm.sample(10000,tune=2000,chains=1,cores=1)\n",
    "\n",
    "    A1_trace = trace['A1']\n",
    "    A2_trace = trace['A2']\n",
    "    A1_mean = np.mean(A1_trace)\n",
    "    A2_mean = np.mean(A2_trace)\n",
    "    dA1 = np.std(A1_trace)\n",
    "    dA2 = np.std(A2_trace)\n",
    "    \n",
    "    D_trace = trace['D']\n",
    "    D_mean = np.mean(D_trace)\n",
    "    dD = np.std(D_trace)\n",
    "\n",
    "    dA1A2 = np.cov(A1_trace,A2_trace)[0,1]\n",
    "    dA1D = np.cov(A1_trace,D_trace)[0,1]\n",
    "    dA2D = np.cov(A2_trace,D_trace)[0,1]\n",
    "    \n",
    "    C_trace = (A1_trace-A2_trace)/A2_trace\n",
    "    C_mean = np.mean(C_trace)\n",
    "    dC = np.std(C_trace)\n",
    "\n",
    "    print(\"predicted C: \",C_mean,\" +- \",dC)\n",
    "\n",
    "    if results is None:\n",
    "        results = [coupling,\n",
    "                   prho,\n",
    "                   C_mean,\n",
    "                   dC,\n",
    "                   A1_mean,\n",
    "                   dA1,\n",
    "                   A2_mean,\n",
    "                   dA2,\n",
    "                   D_mean,\n",
    "                   dD,\n",
    "                   dA1A2,\n",
    "                   dA1D,\n",
    "                   dA2D,\n",
    "                   C_mean,\n",
    "                   dC\n",
    "                   ]\n",
    "    else:\n",
    "        results = np.vstack((results,\n",
    "                   [coupling,\n",
    "                   prho,\n",
    "                   C_mean,\n",
    "                   dC,\n",
    "                   A1_mean,\n",
    "                   dA1,\n",
    "                   A2_mean,\n",
    "                   dA2,\n",
    "                   D_mean,\n",
    "                   dD,\n",
    "                   dA1A2,\n",
    "                   dA1D,\n",
    "                   dA2D,\n",
    "                   C_mean,\n",
    "                   dC\n",
    "                   ]))"
   ]
  },
  {
   "cell_type": "code",
   "execution_count": 7,
   "metadata": {},
   "outputs": [
    {
     "data": {
      "text/plain": [
       "array([1.91080532, 2.38830305, 1.75171957, 2.11988349, 2.10253491])"
      ]
     },
     "execution_count": 7,
     "metadata": {},
     "output_type": "execute_result"
    }
   ],
   "source": [
    "x = ['1','2','3','4','5','population \\n average']\n",
    "results.T[2]"
   ]
  },
  {
   "cell_type": "code",
   "execution_count": 12,
   "metadata": {},
   "outputs": [
    {
     "name": "stderr",
     "output_type": "stream",
     "text": [
      "/opt/miniconda3/envs/pymc3/lib/python3.7/site-packages/ipykernel_launcher.py:6: MatplotlibDeprecationWarning: savefig() got unexpected keyword argument \"backgroundcolor\" which is no longer supported as of 3.3 and will become an error two minor releases later\n",
      "  \n"
     ]
    },
    {
     "data": {
      "image/png": "[encoded data removed]",
      "text/plain": [
       "<Figure size 432x288 with 1 Axes>"
      ]
     },
     "metadata": {},
     "output_type": "display_data"
    }
   ],
   "source": [
    "plt.errorbar(x,np.append(results.T[2],[results.T[2].mean()]),\n",
    "                         yerr=np.append(results.T[3],[results.T[2].std()]),fmt=\"o\",color=\"k\")\n",
    "plt.title(\"MPFC:PCC\")\n",
    "plt.ylabel(\"Coupling strength C\")\n",
    "plt.xlabel(\"Subject\")\n",
    "plt.savefig(\"mpfc_pccMCMC.png\",format='png',dpi=300,bbox_inches='tight',facecolor=\"white\",backgroundcolor=\"white\")"
   ]
  },
  {
   "cell_type": "code",
   "execution_count": 20,
   "metadata": {},
   "outputs": [
    {
     "name": "stderr",
     "output_type": "stream",
     "text": [
      "Auto-assigning NUTS sampler...\n",
      "Initializing NUTS using jitter+adapt_diag...\n",
      "Sequential sampling (1 chains in 1 job)\n",
      "NUTS: [CT, S, C0]\n"
     ]
    },
    {
     "data": {
      "text/html": [
       "\n",
       "    <div>\n",
       "        <style>\n",
       "            /* Turns off some styling */\n",
       "            progress {\n",
       "                /* gets rid of default border in Firefox and Opera. */\n",
       "                border: none;\n",
       "                /* Needs to be in here for Safari polyfill so background images work as expected. */\n",
       "                background-size: auto;\n",
       "            }\n",
       "            .progress-bar-interrupted, .progress-bar-interrupted::-webkit-progress-bar {\n",
       "                background: #F44336;\n",
       "            }\n",
       "        </style>\n",
       "      <progress value='12000' class='' max='12000' style='width:300px; height:20px; vertical-align: middle;'></progress>\n",
       "      100.00% [12000/12000 00:13<00:00 Sampling chain 0, 967 divergences]\n",
       "    </div>\n",
       "    "
      ],
      "text/plain": [
       "<IPython.core.display.HTML object>"
      ]
     },
     "metadata": {},
     "output_type": "display_data"
    },
    {
     "name": "stderr",
     "output_type": "stream",
     "text": [
      "Sampling 1 chain for 2_000 tune and 10_000 draw iterations (2_000 + 10_000 draws total) took 13 seconds.\n",
      "There were 967 divergences after tuning. Increase `target_accept` or reparameterize.\n",
      "The acceptance probability does not match the target. It is 0.6388662966224703, but should be close to 0.8. Try to increase the number of tuning steps.\n",
      "Only one chain was sampled, this makes it impossible to run some convergence checks\n"
     ]
    }
   ],
   "source": [
    "# now lets do an analysis on the coupling distribution\n",
    "mc = results.T[2]\n",
    "stdd = results.T[2].std()\n",
    "with pm.Model() as distModel:\n",
    "    C0 = pm.Uniform('C0',0,10)\n",
    "    S = pm.Uniform('S',0,5)\n",
    "    CT = pm.Normal('CT',mu=C0,sigma=S,shape=5)\n",
    "    measured = pm.Normal('measured',mu=CT,sigma=stdd,observed=mc)\n",
    "    \n",
    "    trace = pm.sample(10000,tune=2000,chains=1,cores=1)\n"
   ]
  },
  {
   "cell_type": "code",
   "execution_count": 21,
   "metadata": {},
   "outputs": [
    {
     "name": "stderr",
     "output_type": "stream",
     "text": [
      "/opt/miniconda3/envs/pymc3/lib/python3.7/site-packages/arviz/data/io_pymc3.py:91: FutureWarning: Using `from_pymc3` without the model will be deprecated in a future release. Not using the model will return less accurate and less useful results. Make sure you use the model argument or call from_pymc3 within a model context.\n",
      "  FutureWarning,\n",
      "arviz.stats.stats_utils - WARNING - Shape validation failed: input_shape: (1, 10000), minimum_shape: (chains=2, draws=4)\n",
      "arviz.stats.stats_utils - WARNING - Shape validation failed: input_shape: (1, 10000), minimum_shape: (chains=2, draws=4)\n",
      "arviz.stats.stats_utils - WARNING - Shape validation failed: input_shape: (1, 10000), minimum_shape: (chains=2, draws=4)\n",
      "arviz.stats.stats_utils - WARNING - Shape validation failed: input_shape: (1, 10000), minimum_shape: (chains=2, draws=4)\n",
      "arviz.stats.stats_utils - WARNING - Shape validation failed: input_shape: (1, 10000), minimum_shape: (chains=2, draws=4)\n",
      "arviz.stats.stats_utils - WARNING - Shape validation failed: input_shape: (1, 10000), minimum_shape: (chains=2, draws=4)\n",
      "arviz.stats.stats_utils - WARNING - Shape validation failed: input_shape: (1, 10000), minimum_shape: (chains=2, draws=4)\n"
     ]
    },
    {
     "data": {
      "text/html": [
       "<div>\n",
       "<style scoped>\n",
       "    .dataframe tbody tr th:only-of-type {\n",
       "        vertical-align: middle;\n",
       "    }\n",
       "\n",
       "    .dataframe tbody tr th {\n",
       "        vertical-align: top;\n",
       "    }\n",
       "\n",
       "    .dataframe thead th {\n",
       "        text-align: right;\n",
       "    }\n",
       "</style>\n",
       "<table border=\"1\" class=\"dataframe\">\n",
       "  <thead>\n",
       "    <tr style=\"text-align: right;\">\n",
       "      <th></th>\n",
       "      <th>mean</th>\n",
       "      <th>sd</th>\n",
       "      <th>hdi_3%</th>\n",
       "      <th>hdi_97%</th>\n",
       "      <th>mcse_mean</th>\n",
       "      <th>mcse_sd</th>\n",
       "      <th>ess_mean</th>\n",
       "      <th>ess_sd</th>\n",
       "      <th>ess_bulk</th>\n",
       "      <th>ess_tail</th>\n",
       "      <th>r_hat</th>\n",
       "    </tr>\n",
       "  </thead>\n",
       "  <tbody>\n",
       "    <tr>\n",
       "      <th>CT[0]</th>\n",
       "      <td>2.563</td>\n",
       "      <td>0.788</td>\n",
       "      <td>1.299</td>\n",
       "      <td>4.101</td>\n",
       "      <td>0.047</td>\n",
       "      <td>0.033</td>\n",
       "      <td>282.0</td>\n",
       "      <td>282.0</td>\n",
       "      <td>250.0</td>\n",
       "      <td>73.0</td>\n",
       "      <td>NaN</td>\n",
       "    </tr>\n",
       "    <tr>\n",
       "      <th>CT[1]</th>\n",
       "      <td>2.475</td>\n",
       "      <td>0.762</td>\n",
       "      <td>1.199</td>\n",
       "      <td>3.981</td>\n",
       "      <td>0.038</td>\n",
       "      <td>0.027</td>\n",
       "      <td>402.0</td>\n",
       "      <td>402.0</td>\n",
       "      <td>386.0</td>\n",
       "      <td>2218.0</td>\n",
       "      <td>NaN</td>\n",
       "    </tr>\n",
       "    <tr>\n",
       "      <th>CT[2]</th>\n",
       "      <td>1.654</td>\n",
       "      <td>0.719</td>\n",
       "      <td>0.243</td>\n",
       "      <td>3.020</td>\n",
       "      <td>0.018</td>\n",
       "      <td>0.013</td>\n",
       "      <td>1573.0</td>\n",
       "      <td>1433.0</td>\n",
       "      <td>1467.0</td>\n",
       "      <td>2752.0</td>\n",
       "      <td>NaN</td>\n",
       "    </tr>\n",
       "    <tr>\n",
       "      <th>CT[3]</th>\n",
       "      <td>1.517</td>\n",
       "      <td>0.757</td>\n",
       "      <td>-0.035</td>\n",
       "      <td>2.841</td>\n",
       "      <td>0.022</td>\n",
       "      <td>0.017</td>\n",
       "      <td>1135.0</td>\n",
       "      <td>978.0</td>\n",
       "      <td>1088.0</td>\n",
       "      <td>980.0</td>\n",
       "      <td>NaN</td>\n",
       "    </tr>\n",
       "    <tr>\n",
       "      <th>CT[4]</th>\n",
       "      <td>1.864</td>\n",
       "      <td>0.712</td>\n",
       "      <td>0.448</td>\n",
       "      <td>3.159</td>\n",
       "      <td>0.018</td>\n",
       "      <td>0.014</td>\n",
       "      <td>1527.0</td>\n",
       "      <td>1355.0</td>\n",
       "      <td>1437.0</td>\n",
       "      <td>3743.0</td>\n",
       "      <td>NaN</td>\n",
       "    </tr>\n",
       "    <tr>\n",
       "      <th>C0</th>\n",
       "      <td>2.032</td>\n",
       "      <td>0.701</td>\n",
       "      <td>0.645</td>\n",
       "      <td>3.339</td>\n",
       "      <td>0.018</td>\n",
       "      <td>0.013</td>\n",
       "      <td>1541.0</td>\n",
       "      <td>1541.0</td>\n",
       "      <td>1290.0</td>\n",
       "      <td>2198.0</td>\n",
       "      <td>NaN</td>\n",
       "    </tr>\n",
       "    <tr>\n",
       "      <th>S</th>\n",
       "      <td>1.086</td>\n",
       "      <td>0.819</td>\n",
       "      <td>0.162</td>\n",
       "      <td>2.612</td>\n",
       "      <td>0.040</td>\n",
       "      <td>0.028</td>\n",
       "      <td>419.0</td>\n",
       "      <td>419.0</td>\n",
       "      <td>133.0</td>\n",
       "      <td>41.0</td>\n",
       "      <td>NaN</td>\n",
       "    </tr>\n",
       "  </tbody>\n",
       "</table>\n",
       "</div>"
      ],
      "text/plain": [
       "        mean     sd  hdi_3%  hdi_97%  mcse_mean  mcse_sd  ess_mean  ess_sd  \\\n",
       "CT[0]  2.563  0.788   1.299    4.101      0.047    0.033     282.0   282.0   \n",
       "CT[1]  2.475  0.762   1.199    3.981      0.038    0.027     402.0   402.0   \n",
       "CT[2]  1.654  0.719   0.243    3.020      0.018    0.013    1573.0  1433.0   \n",
       "CT[3]  1.517  0.757  -0.035    2.841      0.022    0.017    1135.0   978.0   \n",
       "CT[4]  1.864  0.712   0.448    3.159      0.018    0.014    1527.0  1355.0   \n",
       "C0     2.032  0.701   0.645    3.339      0.018    0.013    1541.0  1541.0   \n",
       "S      1.086  0.819   0.162    2.612      0.040    0.028     419.0   419.0   \n",
       "\n",
       "       ess_bulk  ess_tail  r_hat  \n",
       "CT[0]     250.0      73.0    NaN  \n",
       "CT[1]     386.0    2218.0    NaN  \n",
       "CT[2]    1467.0    2752.0    NaN  \n",
       "CT[3]    1088.0     980.0    NaN  \n",
       "CT[4]    1437.0    3743.0    NaN  \n",
       "C0       1290.0    2198.0    NaN  \n",
       "S         133.0      41.0    NaN  "
      ]
     },
     "execution_count": 21,
     "metadata": {},
     "output_type": "execute_result"
    }
   ],
   "source": [
    "pm.summary(trace)"
   ]
  },
  {
   "cell_type": "code",
   "execution_count": 22,
   "metadata": {},
   "outputs": [],
   "source": [
    "c0 = trace['C0'].mean()\n",
    "dc0 = trace['C0'].std()"
   ]
  },
  {
   "cell_type": "code",
   "execution_count": 30,
   "metadata": {},
   "outputs": [],
   "source": [
    "xfig = ['1','2','3','4','5',r'$\\bar{C}$',r'$C_{P}$']\n"
   ]
  },
  {
   "cell_type": "code",
   "execution_count": 33,
   "metadata": {},
   "outputs": [
    {
     "name": "stderr",
     "output_type": "stream",
     "text": [
      "/opt/miniconda3/envs/pymc3/lib/python3.7/site-packages/ipykernel_launcher.py:6: MatplotlibDeprecationWarning: savefig() got unexpected keyword argument \"backgroundcolor\" which is no longer supported as of 3.3 and will become an error two minor releases later\n",
      "  \n"
     ]
    },
    {
     "data": {
      "image/png": "[encoded data removed]",
      "text/plain": [
       "<Figure size 432x288 with 1 Axes>"
      ]
     },
     "metadata": {},
     "output_type": "display_data"
    }
   ],
   "source": [
    "plt.errorbar(xfig,np.append(results.T[2],[results.T[2].mean(),c0]),\n",
    "                         yerr=np.append(results.T[3],[results.T[2].std(),dc0]),fmt=\"o\",color=\"k\")\n",
    "plt.title(\"MPFC:PCC\")\n",
    "plt.ylabel(\"Coupling strength C\")\n",
    "plt.xlabel(\"Subject\")\n",
    "plt.savefig(\"mpfc_pccMCMCPV.png\",format='png',dpi=300,bbox_inches='tight',facecolor=\"white\",backgroundcolor=\"white\")"
   ]
  },
  {
   "cell_type": "code",
   "execution_count": null,
   "metadata": {},
   "outputs": [],
   "source": []
  }
 ],
 "metadata": {
  "kernelspec": {
   "display_name": "Python 3",
   "language": "python",
   "name": "python3"
  },
  "language_info": {
   "codemirror_mode": {
    "name": "ipython",
    "version": 3
   },
   "file_extension": ".py",
   "mimetype": "text/x-python",
   "name": "python",
   "nbconvert_exporter": "python",
   "pygments_lexer": "ipython3",
   "version": "3.7.9"
  }
 },
 "nbformat": 4,
 "nbformat_minor": 4
}
