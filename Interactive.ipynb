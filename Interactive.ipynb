{
 "cells": [
  {
   "cell_type": "code",
   "execution_count": 13,
   "metadata": {},
   "outputs": [],
   "source": [
    "import os\n",
    "import matplotlib.pyplot as plt  \n",
    "from control.matlab import *\n",
    "from control import *\n",
    "from tqdm import tqdm\n",
    "import matplotlib\n",
    "import numpy as np\n",
    "import scipy\n",
    "import pandas as pd\n",
    "from numpy.random import choice\n",
    "\n",
    "import warnings\n",
    "warnings.filterwarnings('ignore')"
   ]
  },
  {
   "cell_type": "code",
   "execution_count": 48,
   "metadata": {},
   "outputs": [
    {
     "data": {
      "application/vnd.jupyter.widget-view+json": {
       "model_id": "1b5738aa0997469a85b02765e85175b9",
       "version_major": 2,
       "version_minor": 0
      },
      "text/plain": [
       "interactive(children=(IntSlider(value=0, description='x', max=1), Output()), _dom_classes=('widget-interact',)…"
      ]
     },
     "metadata": {},
     "output_type": "display_data"
    }
   ],
   "source": [
    "from __future__ import print_function\n",
    "from ipywidgets import interact, interactive, fixed, interact_manual\n",
    "import ipywidgets as widgets\n",
    "from IPython.display import display\n",
    "\n",
    "%matplotlib inline\n",
    "matplotlib.rcParams['figure.figsize'] = (20.0, 5.0)\n",
    "\n",
    "def f(x):\n",
    "    return x/2\n",
    "\n",
    "c = widgets.Text(value='Hello World!', disabled=True)\n",
    "interact(f, x=0);"
   ]
  },
  {
   "cell_type": "code",
   "execution_count": 47,
   "metadata": {},
   "outputs": [
    {
     "data": {
      "application/vnd.jupyter.widget-view+json": {
       "model_id": "8c6b1222fb924d55b69bc1c8cffeca5a",
       "version_major": 2,
       "version_minor": 0
      },
      "text/plain": [
       "FloatSlider(value=5.0, continuous_update=False, description='Number of Nodes:', max=20.0, min=1.0, readout_for…"
      ]
     },
     "metadata": {},
     "output_type": "display_data"
    },
    {
     "data": {
      "application/vnd.jupyter.widget-view+json": {
       "model_id": "8d21360408884e2990c355ae90e479ce",
       "version_major": 2,
       "version_minor": 0
      },
      "text/plain": [
       "Text(value='[1, 3, 1], [1, 1, 1]', description='Transfer function G1', disabled=True, style=DescriptionStyle(d…"
      ]
     },
     "metadata": {},
     "output_type": "display_data"
    },
    {
     "data": {
      "application/vnd.jupyter.widget-view+json": {
       "model_id": "e3f67399f51140d882a082bda753ab4e",
       "version_major": 2,
       "version_minor": 0
      },
      "text/plain": [
       "FloatSlider(value=0.1, continuous_update=False, description='Probaibility(G1):', max=1.0, readout_format='.1f'…"
      ]
     },
     "metadata": {},
     "output_type": "display_data"
    },
    {
     "data": {
      "application/vnd.jupyter.widget-view+json": {
       "model_id": "246f651b8c164c97bbe1a27b24b0a69c",
       "version_major": 2,
       "version_minor": 0
      },
      "text/plain": [
       "Text(value='[1, 2, 1], [1, 1, 1]', description='Transfer function G2', disabled=True, style=DescriptionStyle(d…"
      ]
     },
     "metadata": {},
     "output_type": "display_data"
    },
    {
     "data": {
      "application/vnd.jupyter.widget-view+json": {
       "model_id": "0b079b71ff22496ba1d07a9e68cf103a",
       "version_major": 2,
       "version_minor": 0
      },
      "text/plain": [
       "FloatSlider(value=0.1, continuous_update=False, description='Probaibility(G2):', max=1.0, readout_format='.1f'…"
      ]
     },
     "metadata": {},
     "output_type": "display_data"
    },
    {
     "data": {
      "application/vnd.jupyter.widget-view+json": {
       "model_id": "1030ece8afba45c48e26a8ac8eab99e7",
       "version_major": 2,
       "version_minor": 0
      },
      "text/plain": [
       "FloatSlider(value=0.1, continuous_update=False, description='Additive Noise:', max=1.0, readout_format='.1f', …"
      ]
     },
     "metadata": {},
     "output_type": "display_data"
    },
    {
     "data": {
      "application/vnd.jupyter.widget-view+json": {
       "model_id": "1570b5dd6aa34558805f35a0acd7e4d0",
       "version_major": 2,
       "version_minor": 0
      },
      "text/plain": [
       "FloatSlider(value=0.1, continuous_update=False, description='Multiplicative Noise:', max=1.0, readout_format='…"
      ]
     },
     "metadata": {},
     "output_type": "display_data"
    },
    {
     "data": {
      "application/vnd.jupyter.widget-view+json": {
       "model_id": "287285518d4645ec9fc3a7cfd44887ea",
       "version_major": 2,
       "version_minor": 0
      },
      "text/plain": [
       "Button(description='Generate Circuit', style=ButtonStyle())"
      ]
     },
     "metadata": {},
     "output_type": "display_data"
    }
   ],
   "source": [
    "style = {'description_width': 'initial'}\n",
    "\n",
    "nodes = widgets.FloatSlider(value=5, min=1, max=20.0, step=1.0, description='Number of Nodes:', disabled=False, \\\n",
    "                        continuous_update=False, orientation='horizontal', readout=True, readout_format='.0f',\\\n",
    "                        style = style)\n",
    "\n",
    "a = widgets.FloatSlider(value=0.1, min=0, max=1.0, step=0.1, description='Multiplicative Noise:', disabled=False, \\\n",
    "                        continuous_update=False, orientation='horizontal', readout=True, readout_format='.1f',\\\n",
    "                        style = style)\n",
    "\n",
    "a = widgets.FloatSlider(value=0.1, min=0, max=1.0, step=0.1, description='Additive Noise:', disabled=False, \\\n",
    "                        continuous_update=False, orientation='horizontal', readout=True, readout_format='.1f',\\\n",
    "                        style = style)\n",
    "\n",
    "g1 = widgets.Text(description=\"Transfer function G1\", value='[1, 3, 1], [1, 1, 1]', disabled=True, style=style)\n",
    "\n",
    "g1p = widgets.FloatSlider(value=0.1, min=0, max=1.0, step=0.1, description='Probaibility(G1):', disabled=False, \\\n",
    "                        continuous_update=False, orientation='horizontal', readout=True, readout_format='.1f',\\\n",
    "                        style = style)\n",
    "\n",
    "g2 = widgets.Text(description=\"Transfer function G2\", value='[1, 2, 1], [1, 1, 1]', disabled=True, style=style)\n",
    "\n",
    "g2p = widgets.FloatSlider(value=0.1, min=0, max=1.0, step=0.1, description='Probaibility(G2):', disabled=False, \\\n",
    "                        continuous_update=False, orientation='horizontal', readout=True, readout_format='.1f',\\\n",
    "                        style = style)\n",
    "\n",
    "button = widgets.Button(description=\"Generate Circuit\")\n",
    "\n",
    "# display(button, output)\n",
    "\n",
    "def on_button_clicked(b):\n",
    "    with output:\n",
    "        print(\"Button clicked.\")\n",
    "\n",
    "button.on_click(on_button_clicked)\n",
    "\n",
    "display(nodes, g1, g1p, g2, g2p, a, m, button)"
   ]
  },
  {
   "cell_type": "code",
   "execution_count": null,
   "metadata": {},
   "outputs": [],
   "source": []
  }
 ],
 "metadata": {
  "kernelspec": {
   "display_name": "Python 3",
   "language": "python",
   "name": "python3"
  },
  "language_info": {
   "codemirror_mode": {
    "name": "ipython",
    "version": 3
   },
   "file_extension": ".py",
   "mimetype": "text/x-python",
   "name": "python",
   "nbconvert_exporter": "python",
   "pygments_lexer": "ipython3",
   "version": "3.7.6"
  }
 },
 "nbformat": 4,
 "nbformat_minor": 4
}
