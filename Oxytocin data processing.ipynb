{
 "cells": [
  {
   "cell_type": "code",
   "execution_count": 7,
   "metadata": {
    "scrolled": true
   },
   "outputs": [],
   "source": [
    "import nibabel as nib\n",
    "import numpy as np\n",
    "import scipy as sp\n",
    "import os\n",
    "import csv\n",
    "from nilearn.input_data import NiftiMapsMasker\n",
    "import matplotlib.pyplot as plt\n",
    "import glob"
   ]
  },
  {
   "cell_type": "code",
   "execution_count": 9,
   "metadata": {},
   "outputs": [
    {
     "name": "stdout",
     "output_type": "stream",
     "text": [
      "/Users/hstrey/Documents/programming/fMRI-analysis/OU_data/Without Bandpass\n",
      "/Users/hstrey/Documents/programming/fMRI-analysis/OU_data/Masks\n"
     ]
    }
   ],
   "source": [
    "currentdir = os.getcwd()\n",
    "datadir = os.path.join(currentdir,'OU_data','Without Bandpass')\n",
    "datadirnii = os.path.join(currentdir,'OU_data','Without Bandpass','*.nii')\n",
    "maskdir = os.path.join(currentdir,'OU_data','Masks')\n",
    "print(datadir)\n",
    "print(maskdir)\n",
    "import matplotlib.pyplot as plt"
   ]
  },
  {
   "cell_type": "code",
   "execution_count": 10,
   "metadata": {},
   "outputs": [
    {
     "name": "stdout",
     "output_type": "stream",
     "text": [
      "['/Users/hstrey/Documents/programming/fMRI-analysis/OU_data/Without Bandpass/niftiDATA_Subject003_Condition000.nii', '/Users/hstrey/Documents/programming/fMRI-analysis/OU_data/Without Bandpass/niftiDATA_Subject002_Condition000.nii', '/Users/hstrey/Documents/programming/fMRI-analysis/OU_data/Without Bandpass/niftiDATA_Subject001_Condition000.nii', '/Users/hstrey/Documents/programming/fMRI-analysis/OU_data/Without Bandpass/niftiDATA_Subject005_Condition000.nii', '/Users/hstrey/Documents/programming/fMRI-analysis/OU_data/Without Bandpass/niftiDATA_Subject004_Condition000.nii']\n"
     ]
    }
   ],
   "source": [
    "# get data files names\n",
    "datafilenames = glob.glob(datadirnii)\n",
    "print(datafilenames)"
   ]
  },
  {
   "cell_type": "code",
   "execution_count": 12,
   "metadata": {},
   "outputs": [
    {
     "name": "stdout",
     "output_type": "stream",
     "text": [
      "['Subject003', 'Subject002', 'Subject001', 'Subject005', 'Subject004']\n"
     ]
    }
   ],
   "source": [
    "# create filenames for saving time series\n",
    "time_series_names = []\n",
    "for data_file in datafilenames:\n",
    "    first_us = data_file.find('_')\n",
    "    second_us = data_file.find('_',first_us+1)\n",
    "    third_us = data_file.find('_',second_us+1)\n",
    "    time_series_names.append(data_file[second_us+1:third_us])\n",
    "\n",
    "print(time_series_names)"
   ]
  },
  {
   "cell_type": "code",
   "execution_count": 13,
   "metadata": {},
   "outputs": [
    {
     "name": "stdout",
     "output_type": "stream",
     "text": [
      "['DefaultMode.MPFC (1,55,-3)', 'DefaultMode.LP (L) (-39,-77,33)', 'DefaultMode.LP (R) (47,-67,29)', 'DefaultMode.PCC (1,-61,38)', 'SensoriMotor.Lateral (L) (-55,-12,29)', 'SensoriMotor.Lateral (R) (56,-10,29)', 'SensoriMotor.Superior  (0,-31,67)', 'Visual.Medial (2,-79,12)', 'Visual.Occipital (0,-93,-4)', 'Visual.Lateral (L) (-37,-79,10)', 'Visual.Lateral (R) (38,-72,13)', 'Salience.ACC (0,22,35)', 'Salience.AInsula (L) (-44,13,1)', 'Salience.AInsula (R) (47,14,0)', 'Salience.RPFC (L) (-32,45,27)', 'Salience.RPFC (R) (32,46,27)', 'Salience.SMG (L) (-60,-39,31)', 'Salience.SMG (R) (62,-35,32)', 'DorsalAttention.FEF (L)  (-27,-9,64)', 'DorsalAttention.FEF (R)  (30,-6,64)', 'DorsalAttention.IPS (L)  (-39,-43,52)', 'DorsalAttention.IPS (R)  (39,-42,54)', 'FrontoParietal.LPFC (L)  (-43,33,28)', 'FrontoParietal.PPC (L)  (-46,-58,49)', 'FrontoParietal.LPFC (R)  (41,38,30)', 'FrontoParietal.PPC (R)  (52,-52,45)', 'Language.IFG (L) (-51,26,2)', 'Language.IFG (R) (54,28,1)', 'Language.pSTG (L) (-57,-47,15)', 'Language.pSTG (R) (59,-42,13)', 'Cerebellar.Anterior (0,-63,-30)', 'Cerebellar.Posterior (0,-79,-32)']\n"
     ]
    }
   ],
   "source": [
    "# import masks\n",
    "masks_img = nib.load(os.path.join(maskdir,'networks.nii'))\n",
    "\n",
    "with open(os.path.join(maskdir,'networks.csv'), newline='') as f:\n",
    "    reader = csv.reader(f)\n",
    "    names_list = list(reader)\n",
    "\n",
    "flatten = lambda l: [item for sublist in l for item in sublist]\n",
    "\n",
    "network_list = flatten(names_list)[1:]\n",
    "print(network_list)"
   ]
  },
  {
   "cell_type": "code",
   "execution_count": 14,
   "metadata": {},
   "outputs": [
    {
     "name": "stdout",
     "output_type": "stream",
     "text": [
      "[NiftiMapsMasker.fit_transform] loading regions from Nifti1Image('/Users/hstrey/Documents/programming/fMRI-analysis/OU_data/Masks/networks.nii')\n",
      "[Memory]5.6s, 0.1min    : Loading filter_and_extract...\n",
      "__________________________________filter_and_extract cache loaded - 0.0s, 0.0min\n",
      "[NiftiMapsMasker.fit_transform] loading regions from Nifti1Image('/Users/hstrey/Documents/programming/fMRI-analysis/OU_data/Masks/networks.nii')\n",
      "[Memory]18.0s, 0.3min   : Loading filter_and_extract...\n",
      "__________________________________filter_and_extract cache loaded - 0.0s, 0.0min\n",
      "[NiftiMapsMasker.fit_transform] loading regions from Nifti1Image('/Users/hstrey/Documents/programming/fMRI-analysis/OU_data/Masks/networks.nii')\n",
      "________________________________________________________________________________\n",
      "[Memory] Calling nilearn.input_data.base_masker.filter_and_extract...\n",
      "filter_and_extract(<nibabel.nifti1.Nifti1Image object at 0x7f8b00db1fd0>, <nilearn.input_data.nifti_maps_masker._ExtractionFunctor object at 0x7f8b00db1f28>, \n",
      "{ 'allow_overlap': True,\n",
      "  'detrend': False,\n",
      "  'dtype': None,\n",
      "  'high_pass': None,\n",
      "  'low_pass': None,\n",
      "  'maps_img': <nibabel.nifti1.Nifti1Image object at 0x7f8b113c2da0>,\n",
      "  'mask_img': None,\n",
      "  'smoothing_fwhm': None,\n",
      "  'standardize': True,\n",
      "  't_r': None,\n",
      "  'target_affine': None,\n",
      "  'target_shape': None}, confounds=None, dtype=None, memory=Memory(location=nilearn_cache/joblib), memory_level=1, verbose=5)\n",
      "[NiftiMapsMasker.transform_single_imgs] Loading data from Nifti1Image('/Users/hstrey/Documents/programming/fMRI-analysis/OU_data/Without Bandpass/niftiDATA_Subject001_Condition000.nii')\n",
      "[NiftiMapsMasker.transform_single_imgs] Extracting region signals\n",
      "[NiftiMapsMasker.transform_single_imgs] Cleaning extracted signals\n"
     ]
    },
    {
     "name": "stderr",
     "output_type": "stream",
     "text": [
      "/Users/hstrey/anaconda3/envs/fMRI/lib/python3.6/site-packages/nilearn/input_data/nifti_maps_masker.py:332: UserWarning: Persisting input arguments took 4.06s to run.\n",
      "If this happens often in your code, it can cause performance problems \n",
      "(results will be correct in all cases). \n",
      "The reason for this is probably some large input arguments for a wrapped\n",
      " function (e.g. large strings).\n",
      "THIS IS A JOBLIB ISSUE. If you can, kindly provide the joblib's team with an\n",
      " example so that they can fix the problem.\n",
      "  verbose=self.verbose)\n"
     ]
    },
    {
     "name": "stdout",
     "output_type": "stream",
     "text": [
      "______________________________________________filter_and_extract - 98.2s, 1.6min\n",
      "[NiftiMapsMasker.fit_transform] loading regions from Nifti1Image('/Users/hstrey/Documents/programming/fMRI-analysis/OU_data/Masks/networks.nii')\n",
      "[Memory]150.0s, 2.5min  : Loading filter_and_extract...\n",
      "__________________________________filter_and_extract cache loaded - 0.0s, 0.0min\n",
      "[NiftiMapsMasker.fit_transform] loading regions from Nifti1Image('/Users/hstrey/Documents/programming/fMRI-analysis/OU_data/Masks/networks.nii')\n",
      "[Memory]162.9s, 2.7min  : Loading filter_and_extract...\n",
      "__________________________________filter_and_extract cache loaded - 0.0s, 0.0min\n"
     ]
    }
   ],
   "source": [
    "# extract all the time series and save them\n",
    "masker = NiftiMapsMasker(maps_img=masks_img, standardize=True,\n",
    "                         memory='nilearn_cache', verbose=5)\n",
    "\n",
    "for data_file, ts_name in zip(datafilenames,time_series_names):\n",
    "    epi_img = nib.load(os.path.join(datadir,data_file))\n",
    "    time_series = masker.fit_transform(epi_img)\n",
    "    np.save(os.path.join(datadir,ts_name),time_series)"
   ]
  },
  {
   "cell_type": "code",
   "execution_count": 17,
   "metadata": {},
   "outputs": [],
   "source": [
    "time_series = np.load(os.path.join(datadir,time_series_names[1]+\".npy\"))"
   ]
  },
  {
   "cell_type": "code",
   "execution_count": 18,
   "metadata": {},
   "outputs": [
    {
     "name": "stdout",
     "output_type": "stream",
     "text": [
      "(748, 32)\n"
     ]
    }
   ],
   "source": [
    "print(time_series.shape)\n",
    "mpfc = time_series[:,0]\n",
    "llp = time_series[:,1]\n",
    "rlp = time_series[:,2]\n",
    "pcc = time_series[:,3]"
   ]
  },
  {
   "cell_type": "code",
   "execution_count": null,
   "metadata": {},
   "outputs": [],
   "source": [
    "f, ((ax1, ax2), (ax3, ax4)) = plt.subplots(2, 2, sharex='col', sharey='row')\n",
    "f.suptitle('Resting state activation')\n",
    "ax1.plot(llp, label=\"llp\")\n",
    "ax1.legend()\n",
    "ax2.plot(rlp,label = \"rlp\")\n",
    "ax2.legend()\n",
    "ax3.plot(mpfc,label = \"mpfc\")\n",
    "ax3.legend()\n",
    "ax4.plot(pcc,label = \"pcc\")\n",
    "ax4.legend()"
   ]
  },
  {
   "cell_type": "code",
   "execution_count": null,
   "metadata": {},
   "outputs": [],
   "source": [
    "# function to calculate A and B from the dataset\n",
    "def OUanalytic(data):\n",
    "    N = data.size\n",
    "    data1sq = data[0]**2\n",
    "    dataNsq = data[-1]**2\n",
    "    datasq = np.sum(data[1:-1]**2)\n",
    "    datacorr = np.sum(data[0:-1]*data[1:])\n",
    "    coef = [(N-1)*datasq,\n",
    "       (2.0-N)*datacorr,\n",
    "       -data1sq-(N+1)*datasq-dataNsq,\n",
    "       N*datacorr]\n",
    "    B=np.roots(coef)[-1]\n",
    "    Q=(data1sq+dataNsq)/(1-B**2)\n",
    "    Q=Q+datasq*(1+B**2)/(1-B**2)\n",
    "    Q=Q-datacorr*2*B/(1-B**2)\n",
    "    A = Q/N\n",
    "    P2A = -N/A**2/2\n",
    "    Btmp = B**2*(1+2*N)\n",
    "    tmp = (1+Btmp)*(data1sq+dataNsq) + (2*Btmp + N + 1 -B**4*(N-1))*datasq - 2*B*(1+B**2+2*N)*datacorr\n",
    "    P2B = -tmp/((1-B**2)**2*(data1sq+dataNsq + (1+B**2)*datasq - 2*B*datacorr))\n",
    "    PAB = (N-1)*B/A/(1-B**2)\n",
    "    dA = np.sqrt(-P2B/(P2A*P2B-PAB**2))\n",
    "    dB = np.sqrt(-P2A/(P2A*P2B-PAB**2))\n",
    "    return A,dA,B,dB\n",
    "\n",
    "def OUresult(data,deltat):\n",
    "    A, dA, B ,dB = OUanalytic(data)\n",
    "    tau = -deltat/np.log(B)\n",
    "    dtau = deltat*dB/B/np.log(B)**2\n",
    "    return A,dA,tau,dtau\n",
    "\n",
    "def OUcross(data1,data2):\n",
    "    x1 = data1 + data2\n",
    "    x2 = data1 - data2\n",
    "    x1_A,x1_dA, x1_tau ,x1_dtau= OUresult(x1,0.802)\n",
    "    x2_A, x2_dA, x2_tau ,x2_dtau= OUresult(x2,0.802)\n",
    "    return (x1_A - x2_A)/x2_A, np.sqrt(x1_dA**2 + x1_A**2*x2_dA**2/x2_A**4)"
   ]
  },
  {
   "cell_type": "code",
   "execution_count": null,
   "metadata": {},
   "outputs": [],
   "source": [
    "print(\"mean: \",mpfc.mean())\n",
    "print(\"var: \",mpfc.std()**2)\n",
    "N=len(mpfc)\n",
    "print(\"N: \",N)\n",
    "mpfc_A,mpfc_sA, mpfc_tau, mpfc_dtau = OUresult(mpfc,0.802)\n",
    "print(\"relaxation time:\",mpfc_tau, \"SD tau\", mpfc_dtau)\n",
    "print(\"A \",mpfc_A,\"SD A\",mpfc_sA)\n",
    "mpfc_norm=mpfc/np.sqrt(mpfc_A)\n",
    "t = np.arange(N)*0.802 # tR = 0.802 sec\n",
    "plt.plot(t,mpfc,label=\"MPFC\")\n",
    "plt.xlabel(\"t in sec\")\n",
    "plt.ylabel(\"BOLD in arb. units\")\n",
    "plt.legend()"
   ]
  },
  {
   "cell_type": "code",
   "execution_count": null,
   "metadata": {},
   "outputs": [],
   "source": [
    "print(\"mean: \",pcc.mean())\n",
    "print(\"var: \",pcc.std()**2)\n",
    "N=len(pcc)\n",
    "print(\"N: \",N)\n",
    "pcc_A,pcc_sA, pcc_tau, pcc_dtau = OUresult(pcc,0.802)\n",
    "print(\"relaxation time:\",pcc_tau, \"SD tau\", pcc_dtau)\n",
    "print(\"A \",pcc_A,\"SD A\",pcc_sA)\n",
    "pcc_norm=pcc/np.sqrt(pcc_A)\n",
    "print(pcc_norm.std())\n",
    "plt.plot(t,pcc)\n",
    "plt.xlabel(\"t in sec\")\n",
    "plt.ylabel(\"BOLD in arb. units\")"
   ]
  },
  {
   "cell_type": "code",
   "execution_count": null,
   "metadata": {},
   "outputs": [],
   "source": [
    "plt.plot(rlp)\n",
    "print(\"mean: \",rlp.mean())\n",
    "print(\"var: \",rlp.std()**2)\n",
    "N=len(rlp)\n",
    "print(\"N: \",N)\n",
    "rlp_A,rlp_sA, rlp_tau, rlp_dtau = OUresult(rlp,0.802)\n",
    "print(\"relaxation time:\",rlp_tau, \"SD tau\", rlp_dtau)\n",
    "print(\"A \",rlp_A,\"SD A\",rlp_sA)\n",
    "rlp_norm=rlp/np.sqrt(rlp_A)\n",
    "print(rlp_norm.std())"
   ]
  },
  {
   "cell_type": "code",
   "execution_count": null,
   "metadata": {},
   "outputs": [],
   "source": [
    "plt.plot(llp)\n",
    "print(\"mean: \",llp.mean())\n",
    "print(\"var: \",llp.std()**2)\n",
    "N=len(llp)\n",
    "print(\"N: \",N)\n",
    "llp_A,llp_sA, llp_tau, llp_dtau = OUresult(llp,0.802)\n",
    "print(\"relaxation time:\",llp_tau, \"SD tau\", llp_dtau)\n",
    "print(\"A \",llp_A,\"SD A\",llp_sA)\n",
    "llp_norm=llp/np.sqrt(llp_A)\n",
    "print(llp_norm.std())"
   ]
  },
  {
   "cell_type": "code",
   "execution_count": null,
   "metadata": {},
   "outputs": [],
   "source": [
    "print(\"MPFC:PCC\",OUcross(mpfc_norm,pcc_norm))\n",
    "print(\"MPFC:RLP\",OUcross(mpfc_norm,rlp_norm))\n",
    "print(\"MPFC:LLP\",OUcross(mpfc_norm,llp_norm))\n",
    "print(\"PCC:RLP\",OUcross(pcc_norm,rlp_norm))\n",
    "print(\"PCC:LLP\",OUcross(pcc_norm,llp_norm))\n",
    "print(\"RLP:LLP\",OUcross(rlp_norm,llp_norm))\n",
    "print(\"Pearson MPFC:PCC\",sp.stats.pearsonr(mpfc_norm,pcc_norm))\n",
    "print(\"Pearson MPFC:RLP\",sp.stats.pearsonr(mpfc_norm,rlp_norm))\n",
    "print(\"Pearson MPFC:LLP\",sp.stats.pearsonr(mpfc_norm,llp_norm))\n",
    "print(\"Pearson PCC:RLP\",sp.stats.pearsonr(pcc_norm,rlp_norm))\n",
    "print(\"Pearson PCC:LLP\",sp.stats.pearsonr(pcc_norm,llp_norm))\n",
    "print(\"Pearson RLP:LLP\",sp.stats.pearsonr(rlp_norm,llp_norm))"
   ]
  },
  {
   "cell_type": "code",
   "execution_count": null,
   "metadata": {},
   "outputs": [],
   "source": []
  }
 ],
 "metadata": {
  "kernelspec": {
   "display_name": "Python 3",
   "language": "python",
   "name": "python3"
  },
  "language_info": {
   "codemirror_mode": {
    "name": "ipython",
    "version": 3
   },
   "file_extension": ".py",
   "mimetype": "text/x-python",
   "name": "python",
   "nbconvert_exporter": "python",
   "pygments_lexer": "ipython3",
   "version": "3.7.9"
  }
 },
 "nbformat": 4,
 "nbformat_minor": 2
}
