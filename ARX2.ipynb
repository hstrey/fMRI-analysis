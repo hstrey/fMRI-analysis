{
 "cells": [
  {
   "cell_type": "code",
   "execution_count": null,
   "metadata": {},
   "outputs": [],
   "source": [
    "import statsmodels.api as sm\n",
    "import numpy as np \n",
    "\n",
    "class ARX2(sm.tsa.statespace.MLEModel):\n",
    "    \n",
    "    def __init__(self, y_t, x_t):\n",
    "        exen  = np.c_[y_t, y_t, x_t]   # shaped nobs x 2\n",
    "        nobs  = len(y_t)\n",
    "        exen  = np.c_[np.ones(nobs), np.zeros(nobs), x_t]\n",
    "        self.k_posdef = 2\n",
    "        self.k_exog = 1\n",
    "        \n",
    "        super(ARX2, self).__init__(endog=y_t, exog=x_t, k_posdef=self.k_posdef, k_states=3, initialization='approximate_diffuse')\n",
    "\n",
    "        self['design']     = exen.T[np.newaxis, :, :]  # shaped 1 x 2(exog+endog) x nobs        \n",
    "        self['transition'] = np.eye(self.k_states)\n",
    "        self['selection']  = np.eye(self.k_states, self.k_posdef)\n",
    "\n",
    "    def update(self, params, **kwargs):                    \n",
    "        params = super(ARX2, self).update(params, **kwargs)\n",
    "\n",
    "        self['transition', 0, 0] = params[0]\n",
    "        self['transition', 1, 1] = params[1]\n",
    "        self['transition', 2, 2] = params[2]\n",
    "        \n",
    "        self['state_cov'] = np.diag(params[3:3+self.k_posdef])\n",
    "        \n",
    "        self['obs_intercept', 0, 0] = params[-2]\n",
    "        self['obs_cov', 0, 0] = params[-1]\n",
    "\n",
    "    # Specify start parameters and parameter names\n",
    "    @property\n",
    "    def start_params(self):\n",
    "#         return [1,1,1, 0.5,0.5, 0.5,0.5]  # these are very simple\n",
    "        return [1,1,0, 1,1, 1,1]  # these are very simple"
   ]
  }
 ],
 "metadata": {
  "kernelspec": {
   "display_name": "Python 3",
   "language": "python",
   "name": "python3"
  },
  "language_info": {
   "codemirror_mode": {
    "name": "ipython",
    "version": 3
   },
   "file_extension": ".py",
   "mimetype": "text/x-python",
   "name": "python",
   "nbconvert_exporter": "python",
   "pygments_lexer": "ipython3",
   "version": "3.7.3"
  }
 },
 "nbformat": 4,
 "nbformat_minor": 4
}
